{
  "nbformat": 4,
  "nbformat_minor": 0,
  "metadata": {
    "colab": {
      "provenance": [],
      "collapsed_sections": [
        "3NvjTRAsMl9v",
        "ndZ6KJ996XPK",
        "3B-cbD7c_5yn"
      ],
      "toc_visible": true,
      "include_colab_link": true
    },
    "kernelspec": {
      "name": "python3",
      "display_name": "Python 3"
    },
    "language_info": {
      "name": "python"
    }
  },
  "cells": [
    {
      "cell_type": "markdown",
      "metadata": {
        "id": "view-in-github",
        "colab_type": "text"
      },
      "source": [
        "<a href=\"https://colab.research.google.com/github/anazantoro/B1_4_DATMIN/blob/main/B1_4_PA_DATMIN.ipynb\" target=\"_parent\"><img src=\"https://colab.research.google.com/assets/colab-badge.svg\" alt=\"Open In Colab\"/></a>"
      ]
    },
    {
      "cell_type": "markdown",
      "source": [
        "# CRISP-DM (Supervised Dataset)\n",
        "\n",
        "Tanaman Padi Sumatera Dataset"
      ],
      "metadata": {
        "id": "FcZSzzd_MbX3"
      }
    },
    {
      "cell_type": "markdown",
      "source": [
        "### Business Understanding"
      ],
      "metadata": {
        "id": "3NvjTRAsMl9v"
      }
    },
    {
      "cell_type": "markdown",
      "source": [
        "Business understanding: \n",
        "Dataset ini berisi informasi tentang produksi padi di Sumatera dari tahun 2010 hingga 2020. Variabel yang termasuk dalam dataset ini antara lain provinsi, tahun, luas panen, produksi, dan produktivitas.\n",
        "\n",
        "Goals:\n",
        "\n",
        "1. Memahami sebaran produksi padi di Sumatera berdasarkan provinsi dan waktu.\n",
        "2. Mengidentifikasi faktor-faktor yang mempengaruhi produksi dan produktivitas padi di Sumatera.\n",
        "3. Membuat prediksi produksi dan produktivitas padi di Sumatera.\n",
        "\n",
        "Tujuan penggunaan data mining:\n",
        "\n",
        "1. Melakukan analisis exploratory data untuk mendapatkan pemahaman awal tentang dataset produksi padi di Sumatera.\n",
        "2. Melakukan analisis regresi untuk melihat hubungan antara variabel yang ada dalam dataset.\n",
        "3. Melakukan analisis faktor untuk mengidentifikasi faktor-faktor yang mempengaruhi produksi dan produktivitas padi di Sumatera.\n",
        "4. Membuat model prediksi produksi dan produktivitas padi di Sumatera berdasarkan variabel-variabel yang ada dalam dataset.\n",
        "5. Dengan menggunakan data mining pada dataset ini, diharapkan dapat memberikan insight atau wawasan tentang produksi padi di Sumatera, serta membantu dalam pengambilan keputusan dalam perencanaan dan pengembangan usaha pertanian di Sumatera."
      ],
      "metadata": {
        "id": "LD9SIvLAMuUK"
      }
    },
    {
      "cell_type": "markdown",
      "source": [
        "### Data Understanding"
      ],
      "metadata": {
        "id": "v4ZsO_MDMoOC"
      }
    },
    {
      "cell_type": "markdown",
      "source": [
        "##### Collect Data"
      ],
      "metadata": {
        "id": "9au-8PEuP5bD"
      }
    },
    {
      "cell_type": "code",
      "execution_count": null,
      "metadata": {
        "colab": {
          "base_uri": "https://localhost:8080/",
          "height": 423
        },
        "id": "86-9G5dTLvw1",
        "outputId": "2a6ac44a-f0b6-4c7f-a759-1fe6891e94b4"
      },
      "outputs": [
        {
          "output_type": "execute_result",
          "data": {
            "text/plain": [
              "    Provinsi  Tahun    Produksi  Luas Panen  Curah hujan  Kelembapan  \\\n",
              "0       Aceh   1993  1329536.00   323589.00       1627.0       82.00   \n",
              "1       Aceh   1994  1299699.00   329041.00       1521.0       82.12   \n",
              "2       Aceh   1995  1382905.00   339253.00       1476.0       82.72   \n",
              "3       Aceh   1996  1419128.00   348223.00       1557.0       83.00   \n",
              "4       Aceh   1997  1368074.00   337561.00       1339.0       82.46   \n",
              "..       ...    ...         ...         ...          ...         ...   \n",
              "219  Lampung   2016  3831923.00   390799.00       2317.6       79.40   \n",
              "220  Lampung   2017  4090654.00   396559.00       1825.1       77.04   \n",
              "221  Lampung   2018  2488641.91   511940.93       1385.8       76.05   \n",
              "222  Lampung   2019  2164089.33   464103.42       1706.4       78.03   \n",
              "223  Lampung   2020  2604913.29   545149.05       2211.3       75.80   \n",
              "\n",
              "     Suhu rata-rata  \n",
              "0             26.06  \n",
              "1             26.92  \n",
              "2             26.27  \n",
              "3             26.08  \n",
              "4             26.31  \n",
              "..              ...  \n",
              "219           26.45  \n",
              "220           26.36  \n",
              "221           25.50  \n",
              "222           27.23  \n",
              "223           24.58  \n",
              "\n",
              "[224 rows x 7 columns]"
            ],
            "text/html": [
              "\n",
              "  <div id=\"df-f927bcb6-45de-4f00-bfd2-7755007ca0f9\">\n",
              "    <div class=\"colab-df-container\">\n",
              "      <div>\n",
              "<style scoped>\n",
              "    .dataframe tbody tr th:only-of-type {\n",
              "        vertical-align: middle;\n",
              "    }\n",
              "\n",
              "    .dataframe tbody tr th {\n",
              "        vertical-align: top;\n",
              "    }\n",
              "\n",
              "    .dataframe thead th {\n",
              "        text-align: right;\n",
              "    }\n",
              "</style>\n",
              "<table border=\"1\" class=\"dataframe\">\n",
              "  <thead>\n",
              "    <tr style=\"text-align: right;\">\n",
              "      <th></th>\n",
              "      <th>Provinsi</th>\n",
              "      <th>Tahun</th>\n",
              "      <th>Produksi</th>\n",
              "      <th>Luas Panen</th>\n",
              "      <th>Curah hujan</th>\n",
              "      <th>Kelembapan</th>\n",
              "      <th>Suhu rata-rata</th>\n",
              "    </tr>\n",
              "  </thead>\n",
              "  <tbody>\n",
              "    <tr>\n",
              "      <th>0</th>\n",
              "      <td>Aceh</td>\n",
              "      <td>1993</td>\n",
              "      <td>1329536.00</td>\n",
              "      <td>323589.00</td>\n",
              "      <td>1627.0</td>\n",
              "      <td>82.00</td>\n",
              "      <td>26.06</td>\n",
              "    </tr>\n",
              "    <tr>\n",
              "      <th>1</th>\n",
              "      <td>Aceh</td>\n",
              "      <td>1994</td>\n",
              "      <td>1299699.00</td>\n",
              "      <td>329041.00</td>\n",
              "      <td>1521.0</td>\n",
              "      <td>82.12</td>\n",
              "      <td>26.92</td>\n",
              "    </tr>\n",
              "    <tr>\n",
              "      <th>2</th>\n",
              "      <td>Aceh</td>\n",
              "      <td>1995</td>\n",
              "      <td>1382905.00</td>\n",
              "      <td>339253.00</td>\n",
              "      <td>1476.0</td>\n",
              "      <td>82.72</td>\n",
              "      <td>26.27</td>\n",
              "    </tr>\n",
              "    <tr>\n",
              "      <th>3</th>\n",
              "      <td>Aceh</td>\n",
              "      <td>1996</td>\n",
              "      <td>1419128.00</td>\n",
              "      <td>348223.00</td>\n",
              "      <td>1557.0</td>\n",
              "      <td>83.00</td>\n",
              "      <td>26.08</td>\n",
              "    </tr>\n",
              "    <tr>\n",
              "      <th>4</th>\n",
              "      <td>Aceh</td>\n",
              "      <td>1997</td>\n",
              "      <td>1368074.00</td>\n",
              "      <td>337561.00</td>\n",
              "      <td>1339.0</td>\n",
              "      <td>82.46</td>\n",
              "      <td>26.31</td>\n",
              "    </tr>\n",
              "    <tr>\n",
              "      <th>...</th>\n",
              "      <td>...</td>\n",
              "      <td>...</td>\n",
              "      <td>...</td>\n",
              "      <td>...</td>\n",
              "      <td>...</td>\n",
              "      <td>...</td>\n",
              "      <td>...</td>\n",
              "    </tr>\n",
              "    <tr>\n",
              "      <th>219</th>\n",
              "      <td>Lampung</td>\n",
              "      <td>2016</td>\n",
              "      <td>3831923.00</td>\n",
              "      <td>390799.00</td>\n",
              "      <td>2317.6</td>\n",
              "      <td>79.40</td>\n",
              "      <td>26.45</td>\n",
              "    </tr>\n",
              "    <tr>\n",
              "      <th>220</th>\n",
              "      <td>Lampung</td>\n",
              "      <td>2017</td>\n",
              "      <td>4090654.00</td>\n",
              "      <td>396559.00</td>\n",
              "      <td>1825.1</td>\n",
              "      <td>77.04</td>\n",
              "      <td>26.36</td>\n",
              "    </tr>\n",
              "    <tr>\n",
              "      <th>221</th>\n",
              "      <td>Lampung</td>\n",
              "      <td>2018</td>\n",
              "      <td>2488641.91</td>\n",
              "      <td>511940.93</td>\n",
              "      <td>1385.8</td>\n",
              "      <td>76.05</td>\n",
              "      <td>25.50</td>\n",
              "    </tr>\n",
              "    <tr>\n",
              "      <th>222</th>\n",
              "      <td>Lampung</td>\n",
              "      <td>2019</td>\n",
              "      <td>2164089.33</td>\n",
              "      <td>464103.42</td>\n",
              "      <td>1706.4</td>\n",
              "      <td>78.03</td>\n",
              "      <td>27.23</td>\n",
              "    </tr>\n",
              "    <tr>\n",
              "      <th>223</th>\n",
              "      <td>Lampung</td>\n",
              "      <td>2020</td>\n",
              "      <td>2604913.29</td>\n",
              "      <td>545149.05</td>\n",
              "      <td>2211.3</td>\n",
              "      <td>75.80</td>\n",
              "      <td>24.58</td>\n",
              "    </tr>\n",
              "  </tbody>\n",
              "</table>\n",
              "<p>224 rows × 7 columns</p>\n",
              "</div>\n",
              "      <button class=\"colab-df-convert\" onclick=\"convertToInteractive('df-f927bcb6-45de-4f00-bfd2-7755007ca0f9')\"\n",
              "              title=\"Convert this dataframe to an interactive table.\"\n",
              "              style=\"display:none;\">\n",
              "        \n",
              "  <svg xmlns=\"http://www.w3.org/2000/svg\" height=\"24px\"viewBox=\"0 0 24 24\"\n",
              "       width=\"24px\">\n",
              "    <path d=\"M0 0h24v24H0V0z\" fill=\"none\"/>\n",
              "    <path d=\"M18.56 5.44l.94 2.06.94-2.06 2.06-.94-2.06-.94-.94-2.06-.94 2.06-2.06.94zm-11 1L8.5 8.5l.94-2.06 2.06-.94-2.06-.94L8.5 2.5l-.94 2.06-2.06.94zm10 10l.94 2.06.94-2.06 2.06-.94-2.06-.94-.94-2.06-.94 2.06-2.06.94z\"/><path d=\"M17.41 7.96l-1.37-1.37c-.4-.4-.92-.59-1.43-.59-.52 0-1.04.2-1.43.59L10.3 9.45l-7.72 7.72c-.78.78-.78 2.05 0 2.83L4 21.41c.39.39.9.59 1.41.59.51 0 1.02-.2 1.41-.59l7.78-7.78 2.81-2.81c.8-.78.8-2.07 0-2.86zM5.41 20L4 18.59l7.72-7.72 1.47 1.35L5.41 20z\"/>\n",
              "  </svg>\n",
              "      </button>\n",
              "      \n",
              "  <style>\n",
              "    .colab-df-container {\n",
              "      display:flex;\n",
              "      flex-wrap:wrap;\n",
              "      gap: 12px;\n",
              "    }\n",
              "\n",
              "    .colab-df-convert {\n",
              "      background-color: #E8F0FE;\n",
              "      border: none;\n",
              "      border-radius: 50%;\n",
              "      cursor: pointer;\n",
              "      display: none;\n",
              "      fill: #1967D2;\n",
              "      height: 32px;\n",
              "      padding: 0 0 0 0;\n",
              "      width: 32px;\n",
              "    }\n",
              "\n",
              "    .colab-df-convert:hover {\n",
              "      background-color: #E2EBFA;\n",
              "      box-shadow: 0px 1px 2px rgba(60, 64, 67, 0.3), 0px 1px 3px 1px rgba(60, 64, 67, 0.15);\n",
              "      fill: #174EA6;\n",
              "    }\n",
              "\n",
              "    [theme=dark] .colab-df-convert {\n",
              "      background-color: #3B4455;\n",
              "      fill: #D2E3FC;\n",
              "    }\n",
              "\n",
              "    [theme=dark] .colab-df-convert:hover {\n",
              "      background-color: #434B5C;\n",
              "      box-shadow: 0px 1px 3px 1px rgba(0, 0, 0, 0.15);\n",
              "      filter: drop-shadow(0px 1px 2px rgba(0, 0, 0, 0.3));\n",
              "      fill: #FFFFFF;\n",
              "    }\n",
              "  </style>\n",
              "\n",
              "      <script>\n",
              "        const buttonEl =\n",
              "          document.querySelector('#df-f927bcb6-45de-4f00-bfd2-7755007ca0f9 button.colab-df-convert');\n",
              "        buttonEl.style.display =\n",
              "          google.colab.kernel.accessAllowed ? 'block' : 'none';\n",
              "\n",
              "        async function convertToInteractive(key) {\n",
              "          const element = document.querySelector('#df-f927bcb6-45de-4f00-bfd2-7755007ca0f9');\n",
              "          const dataTable =\n",
              "            await google.colab.kernel.invokeFunction('convertToInteractive',\n",
              "                                                     [key], {});\n",
              "          if (!dataTable) return;\n",
              "\n",
              "          const docLinkHtml = 'Like what you see? Visit the ' +\n",
              "            '<a target=\"_blank\" href=https://colab.research.google.com/notebooks/data_table.ipynb>data table notebook</a>'\n",
              "            + ' to learn more about interactive tables.';\n",
              "          element.innerHTML = '';\n",
              "          dataTable['output_type'] = 'display_data';\n",
              "          await google.colab.output.renderOutput(dataTable, element);\n",
              "          const docLink = document.createElement('div');\n",
              "          docLink.innerHTML = docLinkHtml;\n",
              "          element.appendChild(docLink);\n",
              "        }\n",
              "      </script>\n",
              "    </div>\n",
              "  </div>\n",
              "  "
            ]
          },
          "metadata": {},
          "execution_count": 1
        }
      ],
      "source": [
        "import pandas as pd \n",
        "import seaborn as sns\n",
        "import plotly.express as px\n",
        "import matplotlib.pyplot as plt\n",
        "\n",
        "df = pd.read_csv(\"https://raw.githubusercontent.com/anazantoro/dataset-pa-datmin/main/archive/Data_Tanaman_Padi_Sumatera_version_1.csv\")\n",
        "\n",
        "df"
      ]
    },
    {
      "cell_type": "markdown",
      "source": [
        "##### Data Describing"
      ],
      "metadata": {
        "id": "rlZfZgJmP655"
      }
    },
    {
      "cell_type": "code",
      "source": [
        "df.describe()"
      ],
      "metadata": {
        "colab": {
          "base_uri": "https://localhost:8080/",
          "height": 300
        },
        "id": "sDe6dLKgPVol",
        "outputId": "949247fa-b52f-4635-9d0f-ec2bd2a7aa6b"
      },
      "execution_count": null,
      "outputs": [
        {
          "output_type": "execute_result",
          "data": {
            "text/plain": [
              "             Tahun      Produksi     Luas Panen  Curah hujan  Kelembapan  \\\n",
              "count   224.000000  2.240000e+02     224.000000   224.000000  224.000000   \n",
              "mean   2006.500000  1.679701e+06  374349.966920  2452.490759   80.948705   \n",
              "std       8.095838  1.161387e+06  232751.161987  1031.972625    4.878680   \n",
              "min    1993.000000  4.293800e+04   63142.040000   222.500000   54.200000   \n",
              "25%    1999.750000  5.488570e+05  146919.500000  1703.525000   78.975000   \n",
              "50%    2006.500000  1.667773e+06  373551.500000  2315.700000   82.375000   \n",
              "75%    2013.250000  2.436851e+06  514570.250000  3039.700000   84.000000   \n",
              "max    2020.000000  4.881089e+06  872737.000000  5522.000000   90.600000   \n",
              "\n",
              "       Suhu rata-rata  \n",
              "count      224.000000  \n",
              "mean        26.801964  \n",
              "std          1.197041  \n",
              "min         22.190000  \n",
              "25%         26.177500  \n",
              "50%         26.730000  \n",
              "75%         27.200000  \n",
              "max         29.850000  "
            ],
            "text/html": [
              "\n",
              "  <div id=\"df-87d966a1-9641-49b9-a2f0-dcef4668b1b1\">\n",
              "    <div class=\"colab-df-container\">\n",
              "      <div>\n",
              "<style scoped>\n",
              "    .dataframe tbody tr th:only-of-type {\n",
              "        vertical-align: middle;\n",
              "    }\n",
              "\n",
              "    .dataframe tbody tr th {\n",
              "        vertical-align: top;\n",
              "    }\n",
              "\n",
              "    .dataframe thead th {\n",
              "        text-align: right;\n",
              "    }\n",
              "</style>\n",
              "<table border=\"1\" class=\"dataframe\">\n",
              "  <thead>\n",
              "    <tr style=\"text-align: right;\">\n",
              "      <th></th>\n",
              "      <th>Tahun</th>\n",
              "      <th>Produksi</th>\n",
              "      <th>Luas Panen</th>\n",
              "      <th>Curah hujan</th>\n",
              "      <th>Kelembapan</th>\n",
              "      <th>Suhu rata-rata</th>\n",
              "    </tr>\n",
              "  </thead>\n",
              "  <tbody>\n",
              "    <tr>\n",
              "      <th>count</th>\n",
              "      <td>224.000000</td>\n",
              "      <td>2.240000e+02</td>\n",
              "      <td>224.000000</td>\n",
              "      <td>224.000000</td>\n",
              "      <td>224.000000</td>\n",
              "      <td>224.000000</td>\n",
              "    </tr>\n",
              "    <tr>\n",
              "      <th>mean</th>\n",
              "      <td>2006.500000</td>\n",
              "      <td>1.679701e+06</td>\n",
              "      <td>374349.966920</td>\n",
              "      <td>2452.490759</td>\n",
              "      <td>80.948705</td>\n",
              "      <td>26.801964</td>\n",
              "    </tr>\n",
              "    <tr>\n",
              "      <th>std</th>\n",
              "      <td>8.095838</td>\n",
              "      <td>1.161387e+06</td>\n",
              "      <td>232751.161987</td>\n",
              "      <td>1031.972625</td>\n",
              "      <td>4.878680</td>\n",
              "      <td>1.197041</td>\n",
              "    </tr>\n",
              "    <tr>\n",
              "      <th>min</th>\n",
              "      <td>1993.000000</td>\n",
              "      <td>4.293800e+04</td>\n",
              "      <td>63142.040000</td>\n",
              "      <td>222.500000</td>\n",
              "      <td>54.200000</td>\n",
              "      <td>22.190000</td>\n",
              "    </tr>\n",
              "    <tr>\n",
              "      <th>25%</th>\n",
              "      <td>1999.750000</td>\n",
              "      <td>5.488570e+05</td>\n",
              "      <td>146919.500000</td>\n",
              "      <td>1703.525000</td>\n",
              "      <td>78.975000</td>\n",
              "      <td>26.177500</td>\n",
              "    </tr>\n",
              "    <tr>\n",
              "      <th>50%</th>\n",
              "      <td>2006.500000</td>\n",
              "      <td>1.667773e+06</td>\n",
              "      <td>373551.500000</td>\n",
              "      <td>2315.700000</td>\n",
              "      <td>82.375000</td>\n",
              "      <td>26.730000</td>\n",
              "    </tr>\n",
              "    <tr>\n",
              "      <th>75%</th>\n",
              "      <td>2013.250000</td>\n",
              "      <td>2.436851e+06</td>\n",
              "      <td>514570.250000</td>\n",
              "      <td>3039.700000</td>\n",
              "      <td>84.000000</td>\n",
              "      <td>27.200000</td>\n",
              "    </tr>\n",
              "    <tr>\n",
              "      <th>max</th>\n",
              "      <td>2020.000000</td>\n",
              "      <td>4.881089e+06</td>\n",
              "      <td>872737.000000</td>\n",
              "      <td>5522.000000</td>\n",
              "      <td>90.600000</td>\n",
              "      <td>29.850000</td>\n",
              "    </tr>\n",
              "  </tbody>\n",
              "</table>\n",
              "</div>\n",
              "      <button class=\"colab-df-convert\" onclick=\"convertToInteractive('df-87d966a1-9641-49b9-a2f0-dcef4668b1b1')\"\n",
              "              title=\"Convert this dataframe to an interactive table.\"\n",
              "              style=\"display:none;\">\n",
              "        \n",
              "  <svg xmlns=\"http://www.w3.org/2000/svg\" height=\"24px\"viewBox=\"0 0 24 24\"\n",
              "       width=\"24px\">\n",
              "    <path d=\"M0 0h24v24H0V0z\" fill=\"none\"/>\n",
              "    <path d=\"M18.56 5.44l.94 2.06.94-2.06 2.06-.94-2.06-.94-.94-2.06-.94 2.06-2.06.94zm-11 1L8.5 8.5l.94-2.06 2.06-.94-2.06-.94L8.5 2.5l-.94 2.06-2.06.94zm10 10l.94 2.06.94-2.06 2.06-.94-2.06-.94-.94-2.06-.94 2.06-2.06.94z\"/><path d=\"M17.41 7.96l-1.37-1.37c-.4-.4-.92-.59-1.43-.59-.52 0-1.04.2-1.43.59L10.3 9.45l-7.72 7.72c-.78.78-.78 2.05 0 2.83L4 21.41c.39.39.9.59 1.41.59.51 0 1.02-.2 1.41-.59l7.78-7.78 2.81-2.81c.8-.78.8-2.07 0-2.86zM5.41 20L4 18.59l7.72-7.72 1.47 1.35L5.41 20z\"/>\n",
              "  </svg>\n",
              "      </button>\n",
              "      \n",
              "  <style>\n",
              "    .colab-df-container {\n",
              "      display:flex;\n",
              "      flex-wrap:wrap;\n",
              "      gap: 12px;\n",
              "    }\n",
              "\n",
              "    .colab-df-convert {\n",
              "      background-color: #E8F0FE;\n",
              "      border: none;\n",
              "      border-radius: 50%;\n",
              "      cursor: pointer;\n",
              "      display: none;\n",
              "      fill: #1967D2;\n",
              "      height: 32px;\n",
              "      padding: 0 0 0 0;\n",
              "      width: 32px;\n",
              "    }\n",
              "\n",
              "    .colab-df-convert:hover {\n",
              "      background-color: #E2EBFA;\n",
              "      box-shadow: 0px 1px 2px rgba(60, 64, 67, 0.3), 0px 1px 3px 1px rgba(60, 64, 67, 0.15);\n",
              "      fill: #174EA6;\n",
              "    }\n",
              "\n",
              "    [theme=dark] .colab-df-convert {\n",
              "      background-color: #3B4455;\n",
              "      fill: #D2E3FC;\n",
              "    }\n",
              "\n",
              "    [theme=dark] .colab-df-convert:hover {\n",
              "      background-color: #434B5C;\n",
              "      box-shadow: 0px 1px 3px 1px rgba(0, 0, 0, 0.15);\n",
              "      filter: drop-shadow(0px 1px 2px rgba(0, 0, 0, 0.3));\n",
              "      fill: #FFFFFF;\n",
              "    }\n",
              "  </style>\n",
              "\n",
              "      <script>\n",
              "        const buttonEl =\n",
              "          document.querySelector('#df-87d966a1-9641-49b9-a2f0-dcef4668b1b1 button.colab-df-convert');\n",
              "        buttonEl.style.display =\n",
              "          google.colab.kernel.accessAllowed ? 'block' : 'none';\n",
              "\n",
              "        async function convertToInteractive(key) {\n",
              "          const element = document.querySelector('#df-87d966a1-9641-49b9-a2f0-dcef4668b1b1');\n",
              "          const dataTable =\n",
              "            await google.colab.kernel.invokeFunction('convertToInteractive',\n",
              "                                                     [key], {});\n",
              "          if (!dataTable) return;\n",
              "\n",
              "          const docLinkHtml = 'Like what you see? Visit the ' +\n",
              "            '<a target=\"_blank\" href=https://colab.research.google.com/notebooks/data_table.ipynb>data table notebook</a>'\n",
              "            + ' to learn more about interactive tables.';\n",
              "          element.innerHTML = '';\n",
              "          dataTable['output_type'] = 'display_data';\n",
              "          await google.colab.output.renderOutput(dataTable, element);\n",
              "          const docLink = document.createElement('div');\n",
              "          docLink.innerHTML = docLinkHtml;\n",
              "          element.appendChild(docLink);\n",
              "        }\n",
              "      </script>\n",
              "    </div>\n",
              "  </div>\n",
              "  "
            ]
          },
          "metadata": {},
          "execution_count": 2
        }
      ]
    },
    {
      "cell_type": "markdown",
      "source": [
        "1. Count: Jumlah data atau pengamatan dalam suatu variabel. Kolom ini menunjukkan berapa banyak data yang ada dalam variabel tersebut, dan apakah ada nilai yang kosong (missing values).\n",
        "\n",
        "2. Mean: Rata-rata aritmatika dari data dalam variabel tersebut. Kolom ini menunjukkan nilai rata-rata dari data yang ada dalam variabel tersebut.\n",
        "\n",
        "3. Std: Standar deviasi dari data dalam variabel tersebut. Kolom ini menunjukkan besarnya deviasi atau variasi data dari nilai rata-rata. Semakin tinggi nilai standar deviasi, semakin besar variasi data.\n",
        "\n",
        "4. Min: Nilai terkecil dari data dalam variabel tersebut. Kolom ini menunjukkan nilai terkecil atau minimum dari data yang ada dalam variabel tersebut.\n",
        "\n",
        "5. 25%: Quartil pertama atau kuartil bawah. Kolom ini menunjukkan nilai data pada urutan ke-25% dari data yang telah diurutkan dari yang terkecil hingga yang terbesar. Quartil ini juga sering disebut dengan Q1.\n",
        "\n",
        "6. 50%: Median atau nilai tengah dari data dalam variabel tersebut. Kolom ini menunjukkan nilai data pada urutan ke-50% dari data yang telah diurutkan dari yang terkecil hingga yang terbesar. Median ini juga sering disebut dengan Q2.\n",
        "\n",
        "7. 75%: Quartil ketiga atau kuartil atas. Kolom ini menunjukkan nilai data pada urutan ke-75% dari data yang telah diurutkan dari yang terkecil hingga yang terbesar. Quartil ini juga sering disebut dengan Q3.\n",
        "\n",
        "8. Max: Nilai terbesar dari data dalam variabel tersebut. Kolom ini menunjukkan nilai terbesar atau maksimum dari data yang ada dalam variabel tersebut."
      ],
      "metadata": {
        "id": "yE0t9OBDP08V"
      }
    },
    {
      "cell_type": "code",
      "source": [
        "df.info()"
      ],
      "metadata": {
        "colab": {
          "base_uri": "https://localhost:8080/"
        },
        "id": "HHL2WzH0QPpk",
        "outputId": "0371ee0c-5750-4fbc-f530-281f159a49cb"
      },
      "execution_count": null,
      "outputs": [
        {
          "output_type": "stream",
          "name": "stdout",
          "text": [
            "<class 'pandas.core.frame.DataFrame'>\n",
            "RangeIndex: 224 entries, 0 to 223\n",
            "Data columns (total 7 columns):\n",
            " #   Column          Non-Null Count  Dtype  \n",
            "---  ------          --------------  -----  \n",
            " 0   Provinsi        224 non-null    object \n",
            " 1   Tahun           224 non-null    int64  \n",
            " 2   Produksi        224 non-null    float64\n",
            " 3   Luas Panen      224 non-null    float64\n",
            " 4   Curah hujan     224 non-null    float64\n",
            " 5   Kelembapan      224 non-null    float64\n",
            " 6   Suhu rata-rata  224 non-null    float64\n",
            "dtypes: float64(5), int64(1), object(1)\n",
            "memory usage: 12.4+ KB\n"
          ]
        }
      ]
    },
    {
      "cell_type": "markdown",
      "source": [
        "1. Provinsi: Menunjukkan lokasi pengamatan pada tiap-tiap provinsi.\n",
        "Tahun: Menunjukkan waktu pengamatan pada setiap tahunnya.\n",
        "\n",
        "2. Produksi: Menunjukkan jumlah produksi padi pada setiap provinsi dan tahunnya.\n",
        "Luas Panen: Menunjukkan luas lahan yang ditanami padi pada setiap provinsi dan tahunnya.\n",
        "\n",
        "3. Curah Hujan: Menunjukkan rata-rata curah hujan pada setiap provinsi dan tahunnya.\n",
        "\n",
        "4. Kelembapan: Menunjukkan rata-rata kelembapan udara pada setiap provinsi dan tahunnya.\n",
        "\n",
        "5. Suhu rata-rata: Menunjukkan rata-rata suhu udara pada setiap provinsi dan tahunnya."
      ],
      "metadata": {
        "id": "Q-uiBlfZReZs"
      }
    },
    {
      "cell_type": "markdown",
      "source": [
        "### Explore Data"
      ],
      "metadata": {
        "id": "9Dt5iSU8ZlLR"
      }
    },
    {
      "cell_type": "code",
      "source": [
        "sns.lineplot(x='Tahun', y='Produksi', data=df)"
      ],
      "metadata": {
        "colab": {
          "base_uri": "https://localhost:8080/",
          "height": 482
        },
        "id": "f18xRaydZUUe",
        "outputId": "e41af855-cd56-44da-cf0a-b96e9110a03f"
      },
      "execution_count": null,
      "outputs": [
        {
          "output_type": "execute_result",
          "data": {
            "text/plain": [
              "<Axes: xlabel='Tahun', ylabel='Produksi'>"
            ]
          },
          "metadata": {},
          "execution_count": 368
        },
        {
          "output_type": "display_data",
          "data": {
            "text/plain": [
              "<Figure size 640x480 with 1 Axes>"
            ],
            "image/png": "[encoded data removed]"
          },
          "metadata": {}
        }
      ]
    },
    {
      "cell_type": "code",
      "source": [
        "sns.lineplot(x='Luas Panen', y='Produksi', data=df)"
      ],
      "metadata": {
        "colab": {
          "base_uri": "https://localhost:8080/",
          "height": 482
        },
        "id": "A_9uTAIQZx44",
        "outputId": "1fa0531d-9d53-4ac6-b30a-19edfdb1e06a"
      },
      "execution_count": null,
      "outputs": [
        {
          "output_type": "execute_result",
          "data": {
            "text/plain": [
              "<Axes: xlabel='Luas Panen', ylabel='Produksi'>"
            ]
          },
          "metadata": {},
          "execution_count": 369
        },
        {
          "output_type": "display_data",
          "data": {
            "text/plain": [
              "<Figure size 640x480 with 1 Axes>"
            ],
            "image/png": "[encoded data removed]"
          },
          "metadata": {}
        }
      ]
    },
    {
      "cell_type": "code",
      "source": [
        "# membuat plot menggunakan plotly express\n",
        "fig = px.histogram(df, x='Luas Panen', y='Produksi')\n",
        "\n",
        "# menampilkan plot\n",
        "fig.show()"
      ],
      "metadata": {
        "colab": {
          "base_uri": "https://localhost:8080/",
          "height": 542
        },
        "id": "hrxFmVGGaQT_",
        "outputId": "93bc8ae5-2b62-43c7-b82d-1366ccab6e6f"
      },
      "execution_count": null,
      "outputs": [
        {
          "output_type": "display_data",
          "data": {
            "text/html": [
              "<html>\n",
              "<head><meta charset=\"utf-8\" /></head>\n",
              "<body>\n",
              "    <div>            <script src=\"https://cdnjs.cloudflare.com/ajax/libs/mathjax/2.7.5/MathJax.js?config=TeX-AMS-MML_SVG\"></script><script type=\"text/javascript\">if (window.MathJax && window.MathJax.Hub && window.MathJax.Hub.Config) {window.MathJax.Hub.Config({SVG: {font: \"STIX-Web\"}});}</script>                <script type=\"text/javascript\">window.PlotlyConfig = {MathJaxConfig: 'local'};</script>\n",
              "        <script src=\"https://cdn.plot.ly/plotly-2.18.2.min.js\"></script>                <div id=\"58c39e0a-de82-4824-9113-eb4158380c49\" class=\"plotly-graph-div\" style=\"height:525px; width:100%;\"></div>            <script type=\"text/javascript\">                                    window.PLOTLYENV=window.PLOTLYENV || {};                                    if (document.getElementById(\"58c39e0a-de82-4824-9113-eb4158380c49\")) {                    Plotly.newPlot(                        \"58c39e0a-de82-4824-9113-eb4158380c49\",                        [{\"alignmentgroup\":\"True\",\"bingroup\":\"x\",\"histfunc\":\"sum\",\"hovertemplate\":\"Luas Panen=%{x}<br>sum of Produksi=%{y}<extra></extra>\",\"legendgroup\":\"\",\"marker\":{\"color\":\"#636efa\",\"pattern\":{\"shape\":\"\"}},\"name\":\"\",\"offsetgroup\":\"\",\"orientation\":\"v\",\"showlegend\":false,\"x\":[323589.0,329041.0,339253.0,348223.0,337561.0,365892.0,359817.0,336765.0,295212.0,315131.0,367636.0,370966.0,337893.0,320789.0,360717.0,329109.0,359375.0,352281.0,380686.0,387803.0,419183.0,376137.0,461060.0,293067.0,294483.0,329515.78,310012.46,317869.41,754569.0,792534.0,795183.0,790051.0,797545.0,823749.0,838626.0,847610.0,801948.0,765161.0,825188.0,826091.0,822073.0,705023.0,750232.0,748540.0,768407.0,754674.0,757547.0,765099.0,742968.0,717318.0,781769.0,423029.0,415675.0,408176.45,413141.24,388591.22,394412.0,382740.0,400627.0,430343.0,395728.0,412810.0,432254.0,396919.0,376710.0,424253.0,411860.0,422582.0,426950.0,417846.0,423655.0,421902.0,439542.0,460497.0,461709.0,476422.0,487820.0,503198.0,507545.0,222482.0,222021.0,313050.82,311671.23,295664.47,146133.0,146177.0,152204.0,150354.0,137953.0,126280.0,155683.0,141640.0,132507.0,129025.0,132887.0,145239.0,134418.0,136177.0,147167.0,147796.0,149423.0,156088.0,145242.0,144015.0,118518.0,106037.0,107546.0,72151.0,70016.0,71448.08,63142.04,64733.13,199431.0,184029.0,193666.0,215975.0,190608.0,178766.0,178307.0,171395.0,164826.0,165729.0,159463.0,156803.0,154941.0,140613.0,149888.0,143034.0,155802.0,153897.0,157441.0,149369.0,153243.0,145990.0,122214.0,96588.0,97690.0,86202.68,69536.06,84772.93,439895.0,422109.0,492448.0,495958.0,469670.0,621829.0,530692.0,555427.0,511928.0,561724.0,570010.0,625013.0,626849.0,646927.0,691467.0,718797.0,746465.0,769478.0,784820.0,769725.0,800036.0,810900.0,872737.0,615184.0,621903.0,581574.61,539316.52,551320.76,109807.0,104747.0,115914.0,121929.0,113915.0,111158.0,114788.0,108751.0,105212.0,109519.0,110550.0,110929.0,116818.0,100991.0,123853.0,127506.0,132975.0,133629.0,127934.0,144448.0,147680.0,147572.0,128833.0,83449.0,82429.0,65891.16,64406.86,64137.28,433078.0,425940.0,514363.0,515192.0,454087.0,521575.0,476899.0,496879.0,501119.0,475461.0,472635.0,495519.0,496538.0,494102.0,524955.0,506547.0,570417.0,590608.0,606973.0,641876.0,638090.0,648731.0,707266.0,390799.0,396559.0,511940.93,464103.42,545149.05],\"xaxis\":\"x\",\"y\":[1329536.0,1299699.0,1382905.0,1419128.0,1368074.0,1404580.0,1478712.0,1486909.0,1547499.0,1314165.0,1246614.0,1350748.0,1411650.0,1552078.0,1556858.0,1402287.0,1533369.0,1788738.0,1772962.0,1582393.0,2331046.0,1820062.0,1956940.0,2180754.0,2478922.0,1751996.94,1714437.6,1861567.1,2918152.0,3079960.0,3134533.0,3136760.0,3212208.0,3321049.0,3451430.0,3514253.0,3291515.0,3153305.0,3403075.0,3418782.0,3447394.0,3007636.0,3265834.0,3340794.0,3527899.0,3582302.0,3607403.0,3715514.0,3727249.0,3631039.0,4044829.0,4387035.9,4669777.5,2108284.72,2078901.59,2076280.01,1806424.0,1747543.0,1829192.0,1971180.0,1787719.0,1807622.0,1897678.0,1759059.0,1668955.0,1875834.0,1823739.0,1875188.0,1907390.0,1889489.0,1938120.0,1965634.0,2105790.0,2211248.0,2279602.0,2368390.0,2430384.0,2519020.0,2550609.0,2487929.0,2810425.0,1483076.48,1482996.01,1450839.74,436297.0,445361.0,458756.0,461905.0,416135.0,370124.0,461630.0,431351.0,413391.0,396644.0,414237.0,454186.0,424095.0,42938.0,490087.0,494260.0,531429.0,574864.0,535788.0,512152.0,434144.0,385475.0,393917.0,325826.0,337421.0,266375.53,230873.97,269344.05,607529.0,564722.0,593502.0,657650.0,572269.0,550277.0,553641.0,536779.0,556564.0,561007.0,578346.0,579404.0,579635.0,544597.0,58663.0,581704.0,644947.0,628828.0,646641.0,625164.0,664535.0,664720.0,541486.0,642095.0,678127.0,383045.74,309932.68,374376.27,1409559.0,1347611.0,1557944.0,1666591.0,1577398.0,1931505.0,1789961.0,1863643.0,1723433.0,1899849.0,1977345.0,2260794.0,2320110.0,2456251.0,2753044.0,2971286.0,3125236.0,3272451.0,3384670.0,3295247.0,3676723.0,3670435.0,4247922.0,4881089.0,4807430.0,2994191.84,2603396.24,2696877.46,356709.0,334232.0,377337.0,396977.0,382123.0,375533.0,381577.0,362979.0,376973.0,379818.0,413375.0,414741.0,441276.0,378377.0,470469.0,484900.0,510160.0,516869.0,502552.0,581910.0,622832.0,593194.0,578654.0,629224.0,714017.0,288810.52,296472.07,296925.16,1646900.0,1615751.0,1943709.0,1971740.0,1753656.0,1975700.0,1801422.0,1946406.0,1992726.0,1951109.0,1966293.0,2091996.0,2124144.0,2129914.0,2308404.0,2341075.0,2673844.0,2807676.0,2940795.0,3101455.0,3207002.0,3320064.0,3641895.0,3831923.0,4090654.0,2488641.91,2164089.33,2604913.29],\"yaxis\":\"y\",\"type\":\"histogram\"}],                        {\"template\":{\"data\":{\"histogram2dcontour\":[{\"type\":\"histogram2dcontour\",\"colorbar\":{\"outlinewidth\":0,\"ticks\":\"\"},\"colorscale\":[[0.0,\"#0d0887\"],[0.1111111111111111,\"#46039f\"],[0.2222222222222222,\"#7201a8\"],[0.3333333333333333,\"#9c179e\"],[0.4444444444444444,\"#bd3786\"],[0.5555555555555556,\"#d8576b\"],[0.6666666666666666,\"#ed7953\"],[0.7777777777777778,\"#fb9f3a\"],[0.8888888888888888,\"#fdca26\"],[1.0,\"#f0f921\"]]}],\"choropleth\":[{\"type\":\"choropleth\",\"colorbar\":{\"outlinewidth\":0,\"ticks\":\"\"}}],\"histogram2d\":[{\"type\":\"histogram2d\",\"colorbar\":{\"outlinewidth\":0,\"ticks\":\"\"},\"colorscale\":[[0.0,\"#0d0887\"],[0.1111111111111111,\"#46039f\"],[0.2222222222222222,\"#7201a8\"],[0.3333333333333333,\"#9c179e\"],[0.4444444444444444,\"#bd3786\"],[0.5555555555555556,\"#d8576b\"],[0.6666666666666666,\"#ed7953\"],[0.7777777777777778,\"#fb9f3a\"],[0.8888888888888888,\"#fdca26\"],[1.0,\"#f0f921\"]]}],\"heatmap\":[{\"type\":\"heatmap\",\"colorbar\":{\"outlinewidth\":0,\"ticks\":\"\"},\"colorscale\":[[0.0,\"#0d0887\"],[0.1111111111111111,\"#46039f\"],[0.2222222222222222,\"#7201a8\"],[0.3333333333333333,\"#9c179e\"],[0.4444444444444444,\"#bd3786\"],[0.5555555555555556,\"#d8576b\"],[0.6666666666666666,\"#ed7953\"],[0.7777777777777778,\"#fb9f3a\"],[0.8888888888888888,\"#fdca26\"],[1.0,\"#f0f921\"]]}],\"heatmapgl\":[{\"type\":\"heatmapgl\",\"colorbar\":{\"outlinewidth\":0,\"ticks\":\"\"},\"colorscale\":[[0.0,\"#0d0887\"],[0.1111111111111111,\"#46039f\"],[0.2222222222222222,\"#7201a8\"],[0.3333333333333333,\"#9c179e\"],[0.4444444444444444,\"#bd3786\"],[0.5555555555555556,\"#d8576b\"],[0.6666666666666666,\"#ed7953\"],[0.7777777777777778,\"#fb9f3a\"],[0.8888888888888888,\"#fdca26\"],[1.0,\"#f0f921\"]]}],\"contourcarpet\":[{\"type\":\"contourcarpet\",\"colorbar\":{\"outlinewidth\":0,\"ticks\":\"\"}}],\"contour\":[{\"type\":\"contour\",\"colorbar\":{\"outlinewidth\":0,\"ticks\":\"\"},\"colorscale\":[[0.0,\"#0d0887\"],[0.1111111111111111,\"#46039f\"],[0.2222222222222222,\"#7201a8\"],[0.3333333333333333,\"#9c179e\"],[0.4444444444444444,\"#bd3786\"],[0.5555555555555556,\"#d8576b\"],[0.6666666666666666,\"#ed7953\"],[0.7777777777777778,\"#fb9f3a\"],[0.8888888888888888,\"#fdca26\"],[1.0,\"#f0f921\"]]}],\"surface\":[{\"type\":\"surface\",\"colorbar\":{\"outlinewidth\":0,\"ticks\":\"\"},\"colorscale\":[[0.0,\"#0d0887\"],[0.1111111111111111,\"#46039f\"],[0.2222222222222222,\"#7201a8\"],[0.3333333333333333,\"#9c179e\"],[0.4444444444444444,\"#bd3786\"],[0.5555555555555556,\"#d8576b\"],[0.6666666666666666,\"#ed7953\"],[0.7777777777777778,\"#fb9f3a\"],[0.8888888888888888,\"#fdca26\"],[1.0,\"#f0f921\"]]}],\"mesh3d\":[{\"type\":\"mesh3d\",\"colorbar\":{\"outlinewidth\":0,\"ticks\":\"\"}}],\"scatter\":[{\"fillpattern\":{\"fillmode\":\"overlay\",\"size\":10,\"solidity\":0.2},\"type\":\"scatter\"}],\"parcoords\":[{\"type\":\"parcoords\",\"line\":{\"colorbar\":{\"outlinewidth\":0,\"ticks\":\"\"}}}],\"scatterpolargl\":[{\"type\":\"scatterpolargl\",\"marker\":{\"colorbar\":{\"outlinewidth\":0,\"ticks\":\"\"}}}],\"bar\":[{\"error_x\":{\"color\":\"#2a3f5f\"},\"error_y\":{\"color\":\"#2a3f5f\"},\"marker\":{\"line\":{\"color\":\"#E5ECF6\",\"width\":0.5},\"pattern\":{\"fillmode\":\"overlay\",\"size\":10,\"solidity\":0.2}},\"type\":\"bar\"}],\"scattergeo\":[{\"type\":\"scattergeo\",\"marker\":{\"colorbar\":{\"outlinewidth\":0,\"ticks\":\"\"}}}],\"scatterpolar\":[{\"type\":\"scatterpolar\",\"marker\":{\"colorbar\":{\"outlinewidth\":0,\"ticks\":\"\"}}}],\"histogram\":[{\"marker\":{\"pattern\":{\"fillmode\":\"overlay\",\"size\":10,\"solidity\":0.2}},\"type\":\"histogram\"}],\"scattergl\":[{\"type\":\"scattergl\",\"marker\":{\"colorbar\":{\"outlinewidth\":0,\"ticks\":\"\"}}}],\"scatter3d\":[{\"type\":\"scatter3d\",\"line\":{\"colorbar\":{\"outlinewidth\":0,\"ticks\":\"\"}},\"marker\":{\"colorbar\":{\"outlinewidth\":0,\"ticks\":\"\"}}}],\"scattermapbox\":[{\"type\":\"scattermapbox\",\"marker\":{\"colorbar\":{\"outlinewidth\":0,\"ticks\":\"\"}}}],\"scatterternary\":[{\"type\":\"scatterternary\",\"marker\":{\"colorbar\":{\"outlinewidth\":0,\"ticks\":\"\"}}}],\"scattercarpet\":[{\"type\":\"scattercarpet\",\"marker\":{\"colorbar\":{\"outlinewidth\":0,\"ticks\":\"\"}}}],\"carpet\":[{\"aaxis\":{\"endlinecolor\":\"#2a3f5f\",\"gridcolor\":\"white\",\"linecolor\":\"white\",\"minorgridcolor\":\"white\",\"startlinecolor\":\"#2a3f5f\"},\"baxis\":{\"endlinecolor\":\"#2a3f5f\",\"gridcolor\":\"white\",\"linecolor\":\"white\",\"minorgridcolor\":\"white\",\"startlinecolor\":\"#2a3f5f\"},\"type\":\"carpet\"}],\"table\":[{\"cells\":{\"fill\":{\"color\":\"#EBF0F8\"},\"line\":{\"color\":\"white\"}},\"header\":{\"fill\":{\"color\":\"#C8D4E3\"},\"line\":{\"color\":\"white\"}},\"type\":\"table\"}],\"barpolar\":[{\"marker\":{\"line\":{\"color\":\"#E5ECF6\",\"width\":0.5},\"pattern\":{\"fillmode\":\"overlay\",\"size\":10,\"solidity\":0.2}},\"type\":\"barpolar\"}],\"pie\":[{\"automargin\":true,\"type\":\"pie\"}]},\"layout\":{\"autotypenumbers\":\"strict\",\"colorway\":[\"#636efa\",\"#EF553B\",\"#00cc96\",\"#ab63fa\",\"#FFA15A\",\"#19d3f3\",\"#FF6692\",\"#B6E880\",\"#FF97FF\",\"#FECB52\"],\"font\":{\"color\":\"#2a3f5f\"},\"hovermode\":\"closest\",\"hoverlabel\":{\"align\":\"left\"},\"paper_bgcolor\":\"white\",\"plot_bgcolor\":\"#E5ECF6\",\"polar\":{\"bgcolor\":\"#E5ECF6\",\"angularaxis\":{\"gridcolor\":\"white\",\"linecolor\":\"white\",\"ticks\":\"\"},\"radialaxis\":{\"gridcolor\":\"white\",\"linecolor\":\"white\",\"ticks\":\"\"}},\"ternary\":{\"bgcolor\":\"#E5ECF6\",\"aaxis\":{\"gridcolor\":\"white\",\"linecolor\":\"white\",\"ticks\":\"\"},\"baxis\":{\"gridcolor\":\"white\",\"linecolor\":\"white\",\"ticks\":\"\"},\"caxis\":{\"gridcolor\":\"white\",\"linecolor\":\"white\",\"ticks\":\"\"}},\"coloraxis\":{\"colorbar\":{\"outlinewidth\":0,\"ticks\":\"\"}},\"colorscale\":{\"sequential\":[[0.0,\"#0d0887\"],[0.1111111111111111,\"#46039f\"],[0.2222222222222222,\"#7201a8\"],[0.3333333333333333,\"#9c179e\"],[0.4444444444444444,\"#bd3786\"],[0.5555555555555556,\"#d8576b\"],[0.6666666666666666,\"#ed7953\"],[0.7777777777777778,\"#fb9f3a\"],[0.8888888888888888,\"#fdca26\"],[1.0,\"#f0f921\"]],\"sequentialminus\":[[0.0,\"#0d0887\"],[0.1111111111111111,\"#46039f\"],[0.2222222222222222,\"#7201a8\"],[0.3333333333333333,\"#9c179e\"],[0.4444444444444444,\"#bd3786\"],[0.5555555555555556,\"#d8576b\"],[0.6666666666666666,\"#ed7953\"],[0.7777777777777778,\"#fb9f3a\"],[0.8888888888888888,\"#fdca26\"],[1.0,\"#f0f921\"]],\"diverging\":[[0,\"#8e0152\"],[0.1,\"#c51b7d\"],[0.2,\"#de77ae\"],[0.3,\"#f1b6da\"],[0.4,\"#fde0ef\"],[0.5,\"#f7f7f7\"],[0.6,\"#e6f5d0\"],[0.7,\"#b8e186\"],[0.8,\"#7fbc41\"],[0.9,\"#4d9221\"],[1,\"#276419\"]]},\"xaxis\":{\"gridcolor\":\"white\",\"linecolor\":\"white\",\"ticks\":\"\",\"title\":{\"standoff\":15},\"zerolinecolor\":\"white\",\"automargin\":true,\"zerolinewidth\":2},\"yaxis\":{\"gridcolor\":\"white\",\"linecolor\":\"white\",\"ticks\":\"\",\"title\":{\"standoff\":15},\"zerolinecolor\":\"white\",\"automargin\":true,\"zerolinewidth\":2},\"scene\":{\"xaxis\":{\"backgroundcolor\":\"#E5ECF6\",\"gridcolor\":\"white\",\"linecolor\":\"white\",\"showbackground\":true,\"ticks\":\"\",\"zerolinecolor\":\"white\",\"gridwidth\":2},\"yaxis\":{\"backgroundcolor\":\"#E5ECF6\",\"gridcolor\":\"white\",\"linecolor\":\"white\",\"showbackground\":true,\"ticks\":\"\",\"zerolinecolor\":\"white\",\"gridwidth\":2},\"zaxis\":{\"backgroundcolor\":\"#E5ECF6\",\"gridcolor\":\"white\",\"linecolor\":\"white\",\"showbackground\":true,\"ticks\":\"\",\"zerolinecolor\":\"white\",\"gridwidth\":2}},\"shapedefaults\":{\"line\":{\"color\":\"#2a3f5f\"}},\"annotationdefaults\":{\"arrowcolor\":\"#2a3f5f\",\"arrowhead\":0,\"arrowwidth\":1},\"geo\":{\"bgcolor\":\"white\",\"landcolor\":\"#E5ECF6\",\"subunitcolor\":\"white\",\"showland\":true,\"showlakes\":true,\"lakecolor\":\"white\"},\"title\":{\"x\":0.05},\"mapbox\":{\"style\":\"light\"}}},\"xaxis\":{\"anchor\":\"y\",\"domain\":[0.0,1.0],\"title\":{\"text\":\"Luas Panen\"}},\"yaxis\":{\"anchor\":\"x\",\"domain\":[0.0,1.0],\"title\":{\"text\":\"sum of Produksi\"}},\"legend\":{\"tracegroupgap\":0},\"margin\":{\"t\":60},\"barmode\":\"relative\"},                        {\"responsive\": true}                    ).then(function(){\n",
              "                            \n",
              "var gd = document.getElementById('58c39e0a-de82-4824-9113-eb4158380c49');\n",
              "var x = new MutationObserver(function (mutations, observer) {{\n",
              "        var display = window.getComputedStyle(gd).display;\n",
              "        if (!display || display === 'none') {{\n",
              "            console.log([gd, 'removed!']);\n",
              "            Plotly.purge(gd);\n",
              "            observer.disconnect();\n",
              "        }}\n",
              "}});\n",
              "\n",
              "// Listen for the removal of the full notebook cells\n",
              "var notebookContainer = gd.closest('#notebook-container');\n",
              "if (notebookContainer) {{\n",
              "    x.observe(notebookContainer, {childList: true});\n",
              "}}\n",
              "\n",
              "// Listen for the clearing of the current output cell\n",
              "var outputEl = gd.closest('.output');\n",
              "if (outputEl) {{\n",
              "    x.observe(outputEl, {childList: true});\n",
              "}}\n",
              "\n",
              "                        })                };                            </script>        </div>\n",
              "</body>\n",
              "</html>"
            ]
          },
          "metadata": {}
        }
      ]
    },
    {
      "cell_type": "code",
      "source": [
        "px.pie(df, names='Tahun')"
      ],
      "metadata": {
        "id": "QFZIHlfpdDGN",
        "colab": {
          "base_uri": "https://localhost:8080/",
          "height": 542
        },
        "outputId": "92c65ab3-a065-42d4-c9e1-47c78d2e457b"
      },
      "execution_count": null,
      "outputs": [
        {
          "output_type": "display_data",
          "data": {
            "text/html": [
              "<html>\n",
              "<head><meta charset=\"utf-8\" /></head>\n",
              "<body>\n",
              "    <div>            <script src=\"https://cdnjs.cloudflare.com/ajax/libs/mathjax/2.7.5/MathJax.js?config=TeX-AMS-MML_SVG\"></script><script type=\"text/javascript\">if (window.MathJax && window.MathJax.Hub && window.MathJax.Hub.Config) {window.MathJax.Hub.Config({SVG: {font: \"STIX-Web\"}});}</script>                <script type=\"text/javascript\">window.PlotlyConfig = {MathJaxConfig: 'local'};</script>\n",
              "        <script src=\"https://cdn.plot.ly/plotly-2.18.2.min.js\"></script>                <div id=\"3d95154a-95ea-4e79-a88a-1a640c0f125b\" class=\"plotly-graph-div\" style=\"height:525px; width:100%;\"></div>            <script type=\"text/javascript\">                                    window.PLOTLYENV=window.PLOTLYENV || {};                                    if (document.getElementById(\"3d95154a-95ea-4e79-a88a-1a640c0f125b\")) {                    Plotly.newPlot(                        \"3d95154a-95ea-4e79-a88a-1a640c0f125b\",                        [{\"domain\":{\"x\":[0.0,1.0],\"y\":[0.0,1.0]},\"hovertemplate\":\"Tahun=%{label}<extra></extra>\",\"labels\":[1993,1994,1995,1996,1997,1998,1999,2000,2001,2002,2003,2004,2005,2006,2007,2008,2009,2010,2011,2012,2013,2014,2015,2016,2017,2018,2019,2020,1993,1994,1995,1996,1997,1998,1999,2000,2001,2002,2003,2004,2005,2006,2007,2008,2009,2010,2011,2012,2013,2014,2015,2016,2017,2018,2019,2020,1993,1994,1995,1996,1997,1998,1999,2000,2001,2002,2003,2004,2005,2006,2007,2008,2009,2010,2011,2012,2013,2014,2015,2016,2017,2018,2019,2020,1993,1994,1995,1996,1997,1998,1999,2000,2001,2002,2003,2004,2005,2006,2007,2008,2009,2010,2011,2012,2013,2014,2015,2016,2017,2018,2019,2020,1993,1994,1995,1996,1997,1998,1999,2000,2001,2002,2003,2004,2005,2006,2007,2008,2009,2010,2011,2012,2013,2014,2015,2016,2017,2018,2019,2020,1993,1994,1995,1996,1997,1998,1999,2000,2001,2002,2003,2004,2005,2006,2007,2008,2009,2010,2011,2012,2013,2014,2015,2016,2017,2018,2019,2020,1993,1994,1995,1996,1997,1998,1999,2000,2001,2002,2003,2004,2005,2006,2007,2008,2009,2010,2011,2012,2013,2014,2015,2016,2017,2018,2019,2020,1993,1994,1995,1996,1997,1998,1999,2000,2001,2002,2003,2004,2005,2006,2007,2008,2009,2010,2011,2012,2013,2014,2015,2016,2017,2018,2019,2020],\"legendgroup\":\"\",\"name\":\"\",\"showlegend\":true,\"type\":\"pie\"}],                        {\"template\":{\"data\":{\"histogram2dcontour\":[{\"type\":\"histogram2dcontour\",\"colorbar\":{\"outlinewidth\":0,\"ticks\":\"\"},\"colorscale\":[[0.0,\"#0d0887\"],[0.1111111111111111,\"#46039f\"],[0.2222222222222222,\"#7201a8\"],[0.3333333333333333,\"#9c179e\"],[0.4444444444444444,\"#bd3786\"],[0.5555555555555556,\"#d8576b\"],[0.6666666666666666,\"#ed7953\"],[0.7777777777777778,\"#fb9f3a\"],[0.8888888888888888,\"#fdca26\"],[1.0,\"#f0f921\"]]}],\"choropleth\":[{\"type\":\"choropleth\",\"colorbar\":{\"outlinewidth\":0,\"ticks\":\"\"}}],\"histogram2d\":[{\"type\":\"histogram2d\",\"colorbar\":{\"outlinewidth\":0,\"ticks\":\"\"},\"colorscale\":[[0.0,\"#0d0887\"],[0.1111111111111111,\"#46039f\"],[0.2222222222222222,\"#7201a8\"],[0.3333333333333333,\"#9c179e\"],[0.4444444444444444,\"#bd3786\"],[0.5555555555555556,\"#d8576b\"],[0.6666666666666666,\"#ed7953\"],[0.7777777777777778,\"#fb9f3a\"],[0.8888888888888888,\"#fdca26\"],[1.0,\"#f0f921\"]]}],\"heatmap\":[{\"type\":\"heatmap\",\"colorbar\":{\"outlinewidth\":0,\"ticks\":\"\"},\"colorscale\":[[0.0,\"#0d0887\"],[0.1111111111111111,\"#46039f\"],[0.2222222222222222,\"#7201a8\"],[0.3333333333333333,\"#9c179e\"],[0.4444444444444444,\"#bd3786\"],[0.5555555555555556,\"#d8576b\"],[0.6666666666666666,\"#ed7953\"],[0.7777777777777778,\"#fb9f3a\"],[0.8888888888888888,\"#fdca26\"],[1.0,\"#f0f921\"]]}],\"heatmapgl\":[{\"type\":\"heatmapgl\",\"colorbar\":{\"outlinewidth\":0,\"ticks\":\"\"},\"colorscale\":[[0.0,\"#0d0887\"],[0.1111111111111111,\"#46039f\"],[0.2222222222222222,\"#7201a8\"],[0.3333333333333333,\"#9c179e\"],[0.4444444444444444,\"#bd3786\"],[0.5555555555555556,\"#d8576b\"],[0.6666666666666666,\"#ed7953\"],[0.7777777777777778,\"#fb9f3a\"],[0.8888888888888888,\"#fdca26\"],[1.0,\"#f0f921\"]]}],\"contourcarpet\":[{\"type\":\"contourcarpet\",\"colorbar\":{\"outlinewidth\":0,\"ticks\":\"\"}}],\"contour\":[{\"type\":\"contour\",\"colorbar\":{\"outlinewidth\":0,\"ticks\":\"\"},\"colorscale\":[[0.0,\"#0d0887\"],[0.1111111111111111,\"#46039f\"],[0.2222222222222222,\"#7201a8\"],[0.3333333333333333,\"#9c179e\"],[0.4444444444444444,\"#bd3786\"],[0.5555555555555556,\"#d8576b\"],[0.6666666666666666,\"#ed7953\"],[0.7777777777777778,\"#fb9f3a\"],[0.8888888888888888,\"#fdca26\"],[1.0,\"#f0f921\"]]}],\"surface\":[{\"type\":\"surface\",\"colorbar\":{\"outlinewidth\":0,\"ticks\":\"\"},\"colorscale\":[[0.0,\"#0d0887\"],[0.1111111111111111,\"#46039f\"],[0.2222222222222222,\"#7201a8\"],[0.3333333333333333,\"#9c179e\"],[0.4444444444444444,\"#bd3786\"],[0.5555555555555556,\"#d8576b\"],[0.6666666666666666,\"#ed7953\"],[0.7777777777777778,\"#fb9f3a\"],[0.8888888888888888,\"#fdca26\"],[1.0,\"#f0f921\"]]}],\"mesh3d\":[{\"type\":\"mesh3d\",\"colorbar\":{\"outlinewidth\":0,\"ticks\":\"\"}}],\"scatter\":[{\"fillpattern\":{\"fillmode\":\"overlay\",\"size\":10,\"solidity\":0.2},\"type\":\"scatter\"}],\"parcoords\":[{\"type\":\"parcoords\",\"line\":{\"colorbar\":{\"outlinewidth\":0,\"ticks\":\"\"}}}],\"scatterpolargl\":[{\"type\":\"scatterpolargl\",\"marker\":{\"colorbar\":{\"outlinewidth\":0,\"ticks\":\"\"}}}],\"bar\":[{\"error_x\":{\"color\":\"#2a3f5f\"},\"error_y\":{\"color\":\"#2a3f5f\"},\"marker\":{\"line\":{\"color\":\"#E5ECF6\",\"width\":0.5},\"pattern\":{\"fillmode\":\"overlay\",\"size\":10,\"solidity\":0.2}},\"type\":\"bar\"}],\"scattergeo\":[{\"type\":\"scattergeo\",\"marker\":{\"colorbar\":{\"outlinewidth\":0,\"ticks\":\"\"}}}],\"scatterpolar\":[{\"type\":\"scatterpolar\",\"marker\":{\"colorbar\":{\"outlinewidth\":0,\"ticks\":\"\"}}}],\"histogram\":[{\"marker\":{\"pattern\":{\"fillmode\":\"overlay\",\"size\":10,\"solidity\":0.2}},\"type\":\"histogram\"}],\"scattergl\":[{\"type\":\"scattergl\",\"marker\":{\"colorbar\":{\"outlinewidth\":0,\"ticks\":\"\"}}}],\"scatter3d\":[{\"type\":\"scatter3d\",\"line\":{\"colorbar\":{\"outlinewidth\":0,\"ticks\":\"\"}},\"marker\":{\"colorbar\":{\"outlinewidth\":0,\"ticks\":\"\"}}}],\"scattermapbox\":[{\"type\":\"scattermapbox\",\"marker\":{\"colorbar\":{\"outlinewidth\":0,\"ticks\":\"\"}}}],\"scatterternary\":[{\"type\":\"scatterternary\",\"marker\":{\"colorbar\":{\"outlinewidth\":0,\"ticks\":\"\"}}}],\"scattercarpet\":[{\"type\":\"scattercarpet\",\"marker\":{\"colorbar\":{\"outlinewidth\":0,\"ticks\":\"\"}}}],\"carpet\":[{\"aaxis\":{\"endlinecolor\":\"#2a3f5f\",\"gridcolor\":\"white\",\"linecolor\":\"white\",\"minorgridcolor\":\"white\",\"startlinecolor\":\"#2a3f5f\"},\"baxis\":{\"endlinecolor\":\"#2a3f5f\",\"gridcolor\":\"white\",\"linecolor\":\"white\",\"minorgridcolor\":\"white\",\"startlinecolor\":\"#2a3f5f\"},\"type\":\"carpet\"}],\"table\":[{\"cells\":{\"fill\":{\"color\":\"#EBF0F8\"},\"line\":{\"color\":\"white\"}},\"header\":{\"fill\":{\"color\":\"#C8D4E3\"},\"line\":{\"color\":\"white\"}},\"type\":\"table\"}],\"barpolar\":[{\"marker\":{\"line\":{\"color\":\"#E5ECF6\",\"width\":0.5},\"pattern\":{\"fillmode\":\"overlay\",\"size\":10,\"solidity\":0.2}},\"type\":\"barpolar\"}],\"pie\":[{\"automargin\":true,\"type\":\"pie\"}]},\"layout\":{\"autotypenumbers\":\"strict\",\"colorway\":[\"#636efa\",\"#EF553B\",\"#00cc96\",\"#ab63fa\",\"#FFA15A\",\"#19d3f3\",\"#FF6692\",\"#B6E880\",\"#FF97FF\",\"#FECB52\"],\"font\":{\"color\":\"#2a3f5f\"},\"hovermode\":\"closest\",\"hoverlabel\":{\"align\":\"left\"},\"paper_bgcolor\":\"white\",\"plot_bgcolor\":\"#E5ECF6\",\"polar\":{\"bgcolor\":\"#E5ECF6\",\"angularaxis\":{\"gridcolor\":\"white\",\"linecolor\":\"white\",\"ticks\":\"\"},\"radialaxis\":{\"gridcolor\":\"white\",\"linecolor\":\"white\",\"ticks\":\"\"}},\"ternary\":{\"bgcolor\":\"#E5ECF6\",\"aaxis\":{\"gridcolor\":\"white\",\"linecolor\":\"white\",\"ticks\":\"\"},\"baxis\":{\"gridcolor\":\"white\",\"linecolor\":\"white\",\"ticks\":\"\"},\"caxis\":{\"gridcolor\":\"white\",\"linecolor\":\"white\",\"ticks\":\"\"}},\"coloraxis\":{\"colorbar\":{\"outlinewidth\":0,\"ticks\":\"\"}},\"colorscale\":{\"sequential\":[[0.0,\"#0d0887\"],[0.1111111111111111,\"#46039f\"],[0.2222222222222222,\"#7201a8\"],[0.3333333333333333,\"#9c179e\"],[0.4444444444444444,\"#bd3786\"],[0.5555555555555556,\"#d8576b\"],[0.6666666666666666,\"#ed7953\"],[0.7777777777777778,\"#fb9f3a\"],[0.8888888888888888,\"#fdca26\"],[1.0,\"#f0f921\"]],\"sequentialminus\":[[0.0,\"#0d0887\"],[0.1111111111111111,\"#46039f\"],[0.2222222222222222,\"#7201a8\"],[0.3333333333333333,\"#9c179e\"],[0.4444444444444444,\"#bd3786\"],[0.5555555555555556,\"#d8576b\"],[0.6666666666666666,\"#ed7953\"],[0.7777777777777778,\"#fb9f3a\"],[0.8888888888888888,\"#fdca26\"],[1.0,\"#f0f921\"]],\"diverging\":[[0,\"#8e0152\"],[0.1,\"#c51b7d\"],[0.2,\"#de77ae\"],[0.3,\"#f1b6da\"],[0.4,\"#fde0ef\"],[0.5,\"#f7f7f7\"],[0.6,\"#e6f5d0\"],[0.7,\"#b8e186\"],[0.8,\"#7fbc41\"],[0.9,\"#4d9221\"],[1,\"#276419\"]]},\"xaxis\":{\"gridcolor\":\"white\",\"linecolor\":\"white\",\"ticks\":\"\",\"title\":{\"standoff\":15},\"zerolinecolor\":\"white\",\"automargin\":true,\"zerolinewidth\":2},\"yaxis\":{\"gridcolor\":\"white\",\"linecolor\":\"white\",\"ticks\":\"\",\"title\":{\"standoff\":15},\"zerolinecolor\":\"white\",\"automargin\":true,\"zerolinewidth\":2},\"scene\":{\"xaxis\":{\"backgroundcolor\":\"#E5ECF6\",\"gridcolor\":\"white\",\"linecolor\":\"white\",\"showbackground\":true,\"ticks\":\"\",\"zerolinecolor\":\"white\",\"gridwidth\":2},\"yaxis\":{\"backgroundcolor\":\"#E5ECF6\",\"gridcolor\":\"white\",\"linecolor\":\"white\",\"showbackground\":true,\"ticks\":\"\",\"zerolinecolor\":\"white\",\"gridwidth\":2},\"zaxis\":{\"backgroundcolor\":\"#E5ECF6\",\"gridcolor\":\"white\",\"linecolor\":\"white\",\"showbackground\":true,\"ticks\":\"\",\"zerolinecolor\":\"white\",\"gridwidth\":2}},\"shapedefaults\":{\"line\":{\"color\":\"#2a3f5f\"}},\"annotationdefaults\":{\"arrowcolor\":\"#2a3f5f\",\"arrowhead\":0,\"arrowwidth\":1},\"geo\":{\"bgcolor\":\"white\",\"landcolor\":\"#E5ECF6\",\"subunitcolor\":\"white\",\"showland\":true,\"showlakes\":true,\"lakecolor\":\"white\"},\"title\":{\"x\":0.05},\"mapbox\":{\"style\":\"light\"}}},\"legend\":{\"tracegroupgap\":0},\"margin\":{\"t\":60}},                        {\"responsive\": true}                    ).then(function(){\n",
              "                            \n",
              "var gd = document.getElementById('3d95154a-95ea-4e79-a88a-1a640c0f125b');\n",
              "var x = new MutationObserver(function (mutations, observer) {{\n",
              "        var display = window.getComputedStyle(gd).display;\n",
              "        if (!display || display === 'none') {{\n",
              "            console.log([gd, 'removed!']);\n",
              "            Plotly.purge(gd);\n",
              "            observer.disconnect();\n",
              "        }}\n",
              "}});\n",
              "\n",
              "// Listen for the removal of the full notebook cells\n",
              "var notebookContainer = gd.closest('#notebook-container');\n",
              "if (notebookContainer) {{\n",
              "    x.observe(notebookContainer, {childList: true});\n",
              "}}\n",
              "\n",
              "// Listen for the clearing of the current output cell\n",
              "var outputEl = gd.closest('.output');\n",
              "if (outputEl) {{\n",
              "    x.observe(outputEl, {childList: true});\n",
              "}}\n",
              "\n",
              "                        })                };                            </script>        </div>\n",
              "</body>\n",
              "</html>"
            ]
          },
          "metadata": {}
        }
      ]
    },
    {
      "cell_type": "markdown",
      "source": [
        "### Data Preparation"
      ],
      "metadata": {
        "id": "RQB63H_hRunB"
      }
    },
    {
      "cell_type": "markdown",
      "source": [
        "##### Missing Value Check"
      ],
      "metadata": {
        "id": "Pr9O_E3jR0af"
      }
    },
    {
      "cell_type": "code",
      "source": [
        "df.info()"
      ],
      "metadata": {
        "colab": {
          "base_uri": "https://localhost:8080/"
        },
        "id": "Epju1lNhal6f",
        "outputId": "ddf2fa99-9fbb-4141-92ba-b136b8a6ae28"
      },
      "execution_count": null,
      "outputs": [
        {
          "output_type": "stream",
          "name": "stdout",
          "text": [
            "<class 'pandas.core.frame.DataFrame'>\n",
            "RangeIndex: 224 entries, 0 to 223\n",
            "Data columns (total 7 columns):\n",
            " #   Column          Non-Null Count  Dtype  \n",
            "---  ------          --------------  -----  \n",
            " 0   Provinsi        224 non-null    object \n",
            " 1   Tahun           224 non-null    int64  \n",
            " 2   Produksi        224 non-null    float64\n",
            " 3   Luas Panen      224 non-null    float64\n",
            " 4   Curah hujan     224 non-null    float64\n",
            " 5   Kelembapan      224 non-null    float64\n",
            " 6   Suhu rata-rata  224 non-null    float64\n",
            "dtypes: float64(5), int64(1), object(1)\n",
            "memory usage: 12.4+ KB\n"
          ]
        }
      ]
    },
    {
      "cell_type": "code",
      "source": [
        "df.isna().sum()"
      ],
      "metadata": {
        "colab": {
          "base_uri": "https://localhost:8080/"
        },
        "id": "JMOv9tHxRz20",
        "outputId": "c7e14c0e-057d-4442-9bad-3bc77387204c"
      },
      "execution_count": null,
      "outputs": [
        {
          "output_type": "execute_result",
          "data": {
            "text/plain": [
              "Provinsi          0\n",
              "Tahun             0\n",
              "Produksi          0\n",
              "Luas Panen        0\n",
              "Curah hujan       0\n",
              "Kelembapan        0\n",
              "Suhu rata-rata    0\n",
              "dtype: int64"
            ]
          },
          "metadata": {},
          "execution_count": 373
        }
      ]
    },
    {
      "cell_type": "code",
      "source": [
        "# List untuk menyimpan hasil\n",
        "results = []\n",
        "\n",
        "cols = df.select_dtypes(include=['float64', 'int64'])\n",
        "\n",
        "for col in cols:\n",
        "    q1 = df[col].quantile(0.25)\n",
        "    q3 = df[col].quantile(0.75)\n",
        "    iqr = q3 - q1\n",
        "    lower_bound = q1 - 1.5*iqr\n",
        "    upper_bound = q3 + 1.5*iqr\n",
        "    outliers = df[(df[col] < lower_bound) | (df[col] > upper_bound)]\n",
        "    percent_outliers = (len(outliers)/len(df))*100\n",
        "    results.append({'Kolom': col, 'Persentase Outliers': percent_outliers})\n",
        "\n",
        "# Dataframe dari list hasil\n",
        "results_df = pd.DataFrame(results)\n",
        "results_df.set_index('Kolom', inplace=True)\n",
        "results_df = results_df.rename_axis(None, axis=0).rename_axis('Kolom', axis=1)\n",
        "\n",
        "# Tampilkan dataframe\n",
        "display(results_df)"
      ],
      "metadata": {
        "colab": {
          "base_uri": "https://localhost:8080/",
          "height": 238
        },
        "id": "LCLK0ieKbQWd",
        "outputId": "871e9eb3-c4d6-4873-b7ca-2b0a3a59377f"
      },
      "execution_count": null,
      "outputs": [
        {
          "output_type": "display_data",
          "data": {
            "text/plain": [
              "Kolom           Persentase Outliers\n",
              "Tahun                      0.000000\n",
              "Produksi                   0.000000\n",
              "Luas Panen                 0.000000\n",
              "Curah hujan                1.339286\n",
              "Kelembapan                 7.142857\n",
              "Suhu rata-rata            12.500000"
            ],
            "text/html": [
              "\n",
              "  <div id=\"df-9594381c-bcc2-4ca8-9970-928e10da79a4\">\n",
              "    <div class=\"colab-df-container\">\n",
              "      <div>\n",
              "<style scoped>\n",
              "    .dataframe tbody tr th:only-of-type {\n",
              "        vertical-align: middle;\n",
              "    }\n",
              "\n",
              "    .dataframe tbody tr th {\n",
              "        vertical-align: top;\n",
              "    }\n",
              "\n",
              "    .dataframe thead th {\n",
              "        text-align: right;\n",
              "    }\n",
              "</style>\n",
              "<table border=\"1\" class=\"dataframe\">\n",
              "  <thead>\n",
              "    <tr style=\"text-align: right;\">\n",
              "      <th>Kolom</th>\n",
              "      <th>Persentase Outliers</th>\n",
              "    </tr>\n",
              "  </thead>\n",
              "  <tbody>\n",
              "    <tr>\n",
              "      <th>Tahun</th>\n",
              "      <td>0.000000</td>\n",
              "    </tr>\n",
              "    <tr>\n",
              "      <th>Produksi</th>\n",
              "      <td>0.000000</td>\n",
              "    </tr>\n",
              "    <tr>\n",
              "      <th>Luas Panen</th>\n",
              "      <td>0.000000</td>\n",
              "    </tr>\n",
              "    <tr>\n",
              "      <th>Curah hujan</th>\n",
              "      <td>1.339286</td>\n",
              "    </tr>\n",
              "    <tr>\n",
              "      <th>Kelembapan</th>\n",
              "      <td>7.142857</td>\n",
              "    </tr>\n",
              "    <tr>\n",
              "      <th>Suhu rata-rata</th>\n",
              "      <td>12.500000</td>\n",
              "    </tr>\n",
              "  </tbody>\n",
              "</table>\n",
              "</div>\n",
              "      <button class=\"colab-df-convert\" onclick=\"convertToInteractive('df-9594381c-bcc2-4ca8-9970-928e10da79a4')\"\n",
              "              title=\"Convert this dataframe to an interactive table.\"\n",
              "              style=\"display:none;\">\n",
              "        \n",
              "  <svg xmlns=\"http://www.w3.org/2000/svg\" height=\"24px\"viewBox=\"0 0 24 24\"\n",
              "       width=\"24px\">\n",
              "    <path d=\"M0 0h24v24H0V0z\" fill=\"none\"/>\n",
              "    <path d=\"M18.56 5.44l.94 2.06.94-2.06 2.06-.94-2.06-.94-.94-2.06-.94 2.06-2.06.94zm-11 1L8.5 8.5l.94-2.06 2.06-.94-2.06-.94L8.5 2.5l-.94 2.06-2.06.94zm10 10l.94 2.06.94-2.06 2.06-.94-2.06-.94-.94-2.06-.94 2.06-2.06.94z\"/><path d=\"M17.41 7.96l-1.37-1.37c-.4-.4-.92-.59-1.43-.59-.52 0-1.04.2-1.43.59L10.3 9.45l-7.72 7.72c-.78.78-.78 2.05 0 2.83L4 21.41c.39.39.9.59 1.41.59.51 0 1.02-.2 1.41-.59l7.78-7.78 2.81-2.81c.8-.78.8-2.07 0-2.86zM5.41 20L4 18.59l7.72-7.72 1.47 1.35L5.41 20z\"/>\n",
              "  </svg>\n",
              "      </button>\n",
              "      \n",
              "  <style>\n",
              "    .colab-df-container {\n",
              "      display:flex;\n",
              "      flex-wrap:wrap;\n",
              "      gap: 12px;\n",
              "    }\n",
              "\n",
              "    .colab-df-convert {\n",
              "      background-color: #E8F0FE;\n",
              "      border: none;\n",
              "      border-radius: 50%;\n",
              "      cursor: pointer;\n",
              "      display: none;\n",
              "      fill: #1967D2;\n",
              "      height: 32px;\n",
              "      padding: 0 0 0 0;\n",
              "      width: 32px;\n",
              "    }\n",
              "\n",
              "    .colab-df-convert:hover {\n",
              "      background-color: #E2EBFA;\n",
              "      box-shadow: 0px 1px 2px rgba(60, 64, 67, 0.3), 0px 1px 3px 1px rgba(60, 64, 67, 0.15);\n",
              "      fill: #174EA6;\n",
              "    }\n",
              "\n",
              "    [theme=dark] .colab-df-convert {\n",
              "      background-color: #3B4455;\n",
              "      fill: #D2E3FC;\n",
              "    }\n",
              "\n",
              "    [theme=dark] .colab-df-convert:hover {\n",
              "      background-color: #434B5C;\n",
              "      box-shadow: 0px 1px 3px 1px rgba(0, 0, 0, 0.15);\n",
              "      filter: drop-shadow(0px 1px 2px rgba(0, 0, 0, 0.3));\n",
              "      fill: #FFFFFF;\n",
              "    }\n",
              "  </style>\n",
              "\n",
              "      <script>\n",
              "        const buttonEl =\n",
              "          document.querySelector('#df-9594381c-bcc2-4ca8-9970-928e10da79a4 button.colab-df-convert');\n",
              "        buttonEl.style.display =\n",
              "          google.colab.kernel.accessAllowed ? 'block' : 'none';\n",
              "\n",
              "        async function convertToInteractive(key) {\n",
              "          const element = document.querySelector('#df-9594381c-bcc2-4ca8-9970-928e10da79a4');\n",
              "          const dataTable =\n",
              "            await google.colab.kernel.invokeFunction('convertToInteractive',\n",
              "                                                     [key], {});\n",
              "          if (!dataTable) return;\n",
              "\n",
              "          const docLinkHtml = 'Like what you see? Visit the ' +\n",
              "            '<a target=\"_blank\" href=https://colab.research.google.com/notebooks/data_table.ipynb>data table notebook</a>'\n",
              "            + ' to learn more about interactive tables.';\n",
              "          element.innerHTML = '';\n",
              "          dataTable['output_type'] = 'display_data';\n",
              "          await google.colab.output.renderOutput(dataTable, element);\n",
              "          const docLink = document.createElement('div');\n",
              "          docLink.innerHTML = docLinkHtml;\n",
              "          element.appendChild(docLink);\n",
              "        }\n",
              "      </script>\n",
              "    </div>\n",
              "  </div>\n",
              "  "
            ]
          },
          "metadata": {}
        }
      ]
    },
    {
      "cell_type": "code",
      "source": [
        "cols = df.select_dtypes(include=['float64', 'int64'])\n",
        "\n",
        "# List untuk menyimpan hasil\n",
        "results = []\n",
        "\n",
        "for col in cols:\n",
        "    q1 = df[col].quantile(0.25)\n",
        "    q3 = df[col].quantile(0.75)\n",
        "    iqr = q3 - q1\n",
        "    lower_bound = q1 - 1.5*iqr\n",
        "    upper_bound = q3 + 1.5*iqr\n",
        "    outliers = df[(df[col] < lower_bound) | (df[col] > upper_bound)]\n",
        "    percent_outliers = (len(outliers)/len(df))*100\n",
        "    if percent_outliers < 10:\n",
        "      df = df[~((df[col] > upper_bound) | (df[col] < lower_bound))]\n",
        "    outliers_after = df[(df[col] < lower_bound) | (df[col] > upper_bound)]\n",
        "    percent_outliers_after = (len(outliers_after)/len(df))*100\n",
        "    results.append({'Kolom': col, 'Persentase Outliers': percent_outliers_after})\n",
        "\n",
        "# Dataframe dari list hasil\n",
        "results_df = pd.DataFrame(results)\n",
        "results_df.set_index('Kolom', inplace=True)\n",
        "results_df = results_df.rename_axis(None, axis=0).rename_axis('Kolom', axis=1)\n",
        "\n",
        "# Tampilkan dataframe\n",
        "display(results_df)"
      ],
      "metadata": {
        "colab": {
          "base_uri": "https://localhost:8080/",
          "height": 238
        },
        "id": "EUCqJPGlbbFy",
        "outputId": "0c273b6c-a44d-4387-80ee-266ecad5a81d"
      },
      "execution_count": null,
      "outputs": [
        {
          "output_type": "display_data",
          "data": {
            "text/plain": [
              "Kolom           Persentase Outliers\n",
              "Tahun                      0.000000\n",
              "Produksi                   0.000000\n",
              "Luas Panen                 0.000000\n",
              "Curah hujan                0.000000\n",
              "Kelembapan                 0.000000\n",
              "Suhu rata-rata            10.628019"
            ],
            "text/html": [
              "\n",
              "  <div id=\"df-11d87e35-162b-4af1-b1e1-6b6f98b43e99\">\n",
              "    <div class=\"colab-df-container\">\n",
              "      <div>\n",
              "<style scoped>\n",
              "    .dataframe tbody tr th:only-of-type {\n",
              "        vertical-align: middle;\n",
              "    }\n",
              "\n",
              "    .dataframe tbody tr th {\n",
              "        vertical-align: top;\n",
              "    }\n",
              "\n",
              "    .dataframe thead th {\n",
              "        text-align: right;\n",
              "    }\n",
              "</style>\n",
              "<table border=\"1\" class=\"dataframe\">\n",
              "  <thead>\n",
              "    <tr style=\"text-align: right;\">\n",
              "      <th>Kolom</th>\n",
              "      <th>Persentase Outliers</th>\n",
              "    </tr>\n",
              "  </thead>\n",
              "  <tbody>\n",
              "    <tr>\n",
              "      <th>Tahun</th>\n",
              "      <td>0.000000</td>\n",
              "    </tr>\n",
              "    <tr>\n",
              "      <th>Produksi</th>\n",
              "      <td>0.000000</td>\n",
              "    </tr>\n",
              "    <tr>\n",
              "      <th>Luas Panen</th>\n",
              "      <td>0.000000</td>\n",
              "    </tr>\n",
              "    <tr>\n",
              "      <th>Curah hujan</th>\n",
              "      <td>0.000000</td>\n",
              "    </tr>\n",
              "    <tr>\n",
              "      <th>Kelembapan</th>\n",
              "      <td>0.000000</td>\n",
              "    </tr>\n",
              "    <tr>\n",
              "      <th>Suhu rata-rata</th>\n",
              "      <td>10.628019</td>\n",
              "    </tr>\n",
              "  </tbody>\n",
              "</table>\n",
              "</div>\n",
              "      <button class=\"colab-df-convert\" onclick=\"convertToInteractive('df-11d87e35-162b-4af1-b1e1-6b6f98b43e99')\"\n",
              "              title=\"Convert this dataframe to an interactive table.\"\n",
              "              style=\"display:none;\">\n",
              "        \n",
              "  <svg xmlns=\"http://www.w3.org/2000/svg\" height=\"24px\"viewBox=\"0 0 24 24\"\n",
              "       width=\"24px\">\n",
              "    <path d=\"M0 0h24v24H0V0z\" fill=\"none\"/>\n",
              "    <path d=\"M18.56 5.44l.94 2.06.94-2.06 2.06-.94-2.06-.94-.94-2.06-.94 2.06-2.06.94zm-11 1L8.5 8.5l.94-2.06 2.06-.94-2.06-.94L8.5 2.5l-.94 2.06-2.06.94zm10 10l.94 2.06.94-2.06 2.06-.94-2.06-.94-.94-2.06-.94 2.06-2.06.94z\"/><path d=\"M17.41 7.96l-1.37-1.37c-.4-.4-.92-.59-1.43-.59-.52 0-1.04.2-1.43.59L10.3 9.45l-7.72 7.72c-.78.78-.78 2.05 0 2.83L4 21.41c.39.39.9.59 1.41.59.51 0 1.02-.2 1.41-.59l7.78-7.78 2.81-2.81c.8-.78.8-2.07 0-2.86zM5.41 20L4 18.59l7.72-7.72 1.47 1.35L5.41 20z\"/>\n",
              "  </svg>\n",
              "      </button>\n",
              "      \n",
              "  <style>\n",
              "    .colab-df-container {\n",
              "      display:flex;\n",
              "      flex-wrap:wrap;\n",
              "      gap: 12px;\n",
              "    }\n",
              "\n",
              "    .colab-df-convert {\n",
              "      background-color: #E8F0FE;\n",
              "      border: none;\n",
              "      border-radius: 50%;\n",
              "      cursor: pointer;\n",
              "      display: none;\n",
              "      fill: #1967D2;\n",
              "      height: 32px;\n",
              "      padding: 0 0 0 0;\n",
              "      width: 32px;\n",
              "    }\n",
              "\n",
              "    .colab-df-convert:hover {\n",
              "      background-color: #E2EBFA;\n",
              "      box-shadow: 0px 1px 2px rgba(60, 64, 67, 0.3), 0px 1px 3px 1px rgba(60, 64, 67, 0.15);\n",
              "      fill: #174EA6;\n",
              "    }\n",
              "\n",
              "    [theme=dark] .colab-df-convert {\n",
              "      background-color: #3B4455;\n",
              "      fill: #D2E3FC;\n",
              "    }\n",
              "\n",
              "    [theme=dark] .colab-df-convert:hover {\n",
              "      background-color: #434B5C;\n",
              "      box-shadow: 0px 1px 3px 1px rgba(0, 0, 0, 0.15);\n",
              "      filter: drop-shadow(0px 1px 2px rgba(0, 0, 0, 0.3));\n",
              "      fill: #FFFFFF;\n",
              "    }\n",
              "  </style>\n",
              "\n",
              "      <script>\n",
              "        const buttonEl =\n",
              "          document.querySelector('#df-11d87e35-162b-4af1-b1e1-6b6f98b43e99 button.colab-df-convert');\n",
              "        buttonEl.style.display =\n",
              "          google.colab.kernel.accessAllowed ? 'block' : 'none';\n",
              "\n",
              "        async function convertToInteractive(key) {\n",
              "          const element = document.querySelector('#df-11d87e35-162b-4af1-b1e1-6b6f98b43e99');\n",
              "          const dataTable =\n",
              "            await google.colab.kernel.invokeFunction('convertToInteractive',\n",
              "                                                     [key], {});\n",
              "          if (!dataTable) return;\n",
              "\n",
              "          const docLinkHtml = 'Like what you see? Visit the ' +\n",
              "            '<a target=\"_blank\" href=https://colab.research.google.com/notebooks/data_table.ipynb>data table notebook</a>'\n",
              "            + ' to learn more about interactive tables.';\n",
              "          element.innerHTML = '';\n",
              "          dataTable['output_type'] = 'display_data';\n",
              "          await google.colab.output.renderOutput(dataTable, element);\n",
              "          const docLink = document.createElement('div');\n",
              "          docLink.innerHTML = docLinkHtml;\n",
              "          element.appendChild(docLink);\n",
              "        }\n",
              "      </script>\n",
              "    </div>\n",
              "  </div>\n",
              "  "
            ]
          },
          "metadata": {}
        }
      ]
    },
    {
      "cell_type": "code",
      "source": [
        "df.head()"
      ],
      "metadata": {
        "colab": {
          "base_uri": "https://localhost:8080/",
          "height": 206
        },
        "id": "fDyGA_8oYx1N",
        "outputId": "a4cbe52f-75c0-4e0d-f3e6-db9364066e92"
      },
      "execution_count": null,
      "outputs": [
        {
          "output_type": "execute_result",
          "data": {
            "text/plain": [
              "  Provinsi  Tahun   Produksi  Luas Panen  Curah hujan  Kelembapan  \\\n",
              "0     Aceh   1993  1329536.0    323589.0       1627.0       82.00   \n",
              "1     Aceh   1994  1299699.0    329041.0       1521.0       82.12   \n",
              "2     Aceh   1995  1382905.0    339253.0       1476.0       82.72   \n",
              "3     Aceh   1996  1419128.0    348223.0       1557.0       83.00   \n",
              "4     Aceh   1997  1368074.0    337561.0       1339.0       82.46   \n",
              "\n",
              "   Suhu rata-rata  \n",
              "0           26.06  \n",
              "1           26.92  \n",
              "2           26.27  \n",
              "3           26.08  \n",
              "4           26.31  "
            ],
            "text/html": [
              "\n",
              "  <div id=\"df-72dc1602-0a77-4848-9390-d7151b01891e\">\n",
              "    <div class=\"colab-df-container\">\n",
              "      <div>\n",
              "<style scoped>\n",
              "    .dataframe tbody tr th:only-of-type {\n",
              "        vertical-align: middle;\n",
              "    }\n",
              "\n",
              "    .dataframe tbody tr th {\n",
              "        vertical-align: top;\n",
              "    }\n",
              "\n",
              "    .dataframe thead th {\n",
              "        text-align: right;\n",
              "    }\n",
              "</style>\n",
              "<table border=\"1\" class=\"dataframe\">\n",
              "  <thead>\n",
              "    <tr style=\"text-align: right;\">\n",
              "      <th></th>\n",
              "      <th>Provinsi</th>\n",
              "      <th>Tahun</th>\n",
              "      <th>Produksi</th>\n",
              "      <th>Luas Panen</th>\n",
              "      <th>Curah hujan</th>\n",
              "      <th>Kelembapan</th>\n",
              "      <th>Suhu rata-rata</th>\n",
              "    </tr>\n",
              "  </thead>\n",
              "  <tbody>\n",
              "    <tr>\n",
              "      <th>0</th>\n",
              "      <td>Aceh</td>\n",
              "      <td>1993</td>\n",
              "      <td>1329536.0</td>\n",
              "      <td>323589.0</td>\n",
              "      <td>1627.0</td>\n",
              "      <td>82.00</td>\n",
              "      <td>26.06</td>\n",
              "    </tr>\n",
              "    <tr>\n",
              "      <th>1</th>\n",
              "      <td>Aceh</td>\n",
              "      <td>1994</td>\n",
              "      <td>1299699.0</td>\n",
              "      <td>329041.0</td>\n",
              "      <td>1521.0</td>\n",
              "      <td>82.12</td>\n",
              "      <td>26.92</td>\n",
              "    </tr>\n",
              "    <tr>\n",
              "      <th>2</th>\n",
              "      <td>Aceh</td>\n",
              "      <td>1995</td>\n",
              "      <td>1382905.0</td>\n",
              "      <td>339253.0</td>\n",
              "      <td>1476.0</td>\n",
              "      <td>82.72</td>\n",
              "      <td>26.27</td>\n",
              "    </tr>\n",
              "    <tr>\n",
              "      <th>3</th>\n",
              "      <td>Aceh</td>\n",
              "      <td>1996</td>\n",
              "      <td>1419128.0</td>\n",
              "      <td>348223.0</td>\n",
              "      <td>1557.0</td>\n",
              "      <td>83.00</td>\n",
              "      <td>26.08</td>\n",
              "    </tr>\n",
              "    <tr>\n",
              "      <th>4</th>\n",
              "      <td>Aceh</td>\n",
              "      <td>1997</td>\n",
              "      <td>1368074.0</td>\n",
              "      <td>337561.0</td>\n",
              "      <td>1339.0</td>\n",
              "      <td>82.46</td>\n",
              "      <td>26.31</td>\n",
              "    </tr>\n",
              "  </tbody>\n",
              "</table>\n",
              "</div>\n",
              "      <button class=\"colab-df-convert\" onclick=\"convertToInteractive('df-72dc1602-0a77-4848-9390-d7151b01891e')\"\n",
              "              title=\"Convert this dataframe to an interactive table.\"\n",
              "              style=\"display:none;\">\n",
              "        \n",
              "  <svg xmlns=\"http://www.w3.org/2000/svg\" height=\"24px\"viewBox=\"0 0 24 24\"\n",
              "       width=\"24px\">\n",
              "    <path d=\"M0 0h24v24H0V0z\" fill=\"none\"/>\n",
              "    <path d=\"M18.56 5.44l.94 2.06.94-2.06 2.06-.94-2.06-.94-.94-2.06-.94 2.06-2.06.94zm-11 1L8.5 8.5l.94-2.06 2.06-.94-2.06-.94L8.5 2.5l-.94 2.06-2.06.94zm10 10l.94 2.06.94-2.06 2.06-.94-2.06-.94-.94-2.06-.94 2.06-2.06.94z\"/><path d=\"M17.41 7.96l-1.37-1.37c-.4-.4-.92-.59-1.43-.59-.52 0-1.04.2-1.43.59L10.3 9.45l-7.72 7.72c-.78.78-.78 2.05 0 2.83L4 21.41c.39.39.9.59 1.41.59.51 0 1.02-.2 1.41-.59l7.78-7.78 2.81-2.81c.8-.78.8-2.07 0-2.86zM5.41 20L4 18.59l7.72-7.72 1.47 1.35L5.41 20z\"/>\n",
              "  </svg>\n",
              "      </button>\n",
              "      \n",
              "  <style>\n",
              "    .colab-df-container {\n",
              "      display:flex;\n",
              "      flex-wrap:wrap;\n",
              "      gap: 12px;\n",
              "    }\n",
              "\n",
              "    .colab-df-convert {\n",
              "      background-color: #E8F0FE;\n",
              "      border: none;\n",
              "      border-radius: 50%;\n",
              "      cursor: pointer;\n",
              "      display: none;\n",
              "      fill: #1967D2;\n",
              "      height: 32px;\n",
              "      padding: 0 0 0 0;\n",
              "      width: 32px;\n",
              "    }\n",
              "\n",
              "    .colab-df-convert:hover {\n",
              "      background-color: #E2EBFA;\n",
              "      box-shadow: 0px 1px 2px rgba(60, 64, 67, 0.3), 0px 1px 3px 1px rgba(60, 64, 67, 0.15);\n",
              "      fill: #174EA6;\n",
              "    }\n",
              "\n",
              "    [theme=dark] .colab-df-convert {\n",
              "      background-color: #3B4455;\n",
              "      fill: #D2E3FC;\n",
              "    }\n",
              "\n",
              "    [theme=dark] .colab-df-convert:hover {\n",
              "      background-color: #434B5C;\n",
              "      box-shadow: 0px 1px 3px 1px rgba(0, 0, 0, 0.15);\n",
              "      filter: drop-shadow(0px 1px 2px rgba(0, 0, 0, 0.3));\n",
              "      fill: #FFFFFF;\n",
              "    }\n",
              "  </style>\n",
              "\n",
              "      <script>\n",
              "        const buttonEl =\n",
              "          document.querySelector('#df-72dc1602-0a77-4848-9390-d7151b01891e button.colab-df-convert');\n",
              "        buttonEl.style.display =\n",
              "          google.colab.kernel.accessAllowed ? 'block' : 'none';\n",
              "\n",
              "        async function convertToInteractive(key) {\n",
              "          const element = document.querySelector('#df-72dc1602-0a77-4848-9390-d7151b01891e');\n",
              "          const dataTable =\n",
              "            await google.colab.kernel.invokeFunction('convertToInteractive',\n",
              "                                                     [key], {});\n",
              "          if (!dataTable) return;\n",
              "\n",
              "          const docLinkHtml = 'Like what you see? Visit the ' +\n",
              "            '<a target=\"_blank\" href=https://colab.research.google.com/notebooks/data_table.ipynb>data table notebook</a>'\n",
              "            + ' to learn more about interactive tables.';\n",
              "          element.innerHTML = '';\n",
              "          dataTable['output_type'] = 'display_data';\n",
              "          await google.colab.output.renderOutput(dataTable, element);\n",
              "          const docLink = document.createElement('div');\n",
              "          docLink.innerHTML = docLinkHtml;\n",
              "          element.appendChild(docLink);\n",
              "        }\n",
              "      </script>\n",
              "    </div>\n",
              "  </div>\n",
              "  "
            ]
          },
          "metadata": {},
          "execution_count": 376
        }
      ]
    },
    {
      "cell_type": "markdown",
      "source": [
        "##### Data Transformation"
      ],
      "metadata": {
        "id": "et4aHVk1yOOb"
      }
    },
    {
      "cell_type": "code",
      "source": [
        "selected_data = df[['Provinsi', 'Tahun', 'Produksi', 'Luas Panen', 'Curah hujan', 'Kelembapan', 'Suhu rata-rata']]\n",
        "\n",
        "print(selected_data.head())\n",
        "print(selected_data.tail())"
      ],
      "metadata": {
        "colab": {
          "base_uri": "https://localhost:8080/"
        },
        "id": "poPR5IzLyQaD",
        "outputId": "a0be85c9-2464-4574-80c9-45b2a30643a2"
      },
      "execution_count": null,
      "outputs": [
        {
          "output_type": "stream",
          "name": "stdout",
          "text": [
            "  Provinsi  Tahun   Produksi  Luas Panen  Curah hujan  Kelembapan  \\\n",
            "0     Aceh   1993  1329536.0    323589.0       1627.0       82.00   \n",
            "1     Aceh   1994  1299699.0    329041.0       1521.0       82.12   \n",
            "2     Aceh   1995  1382905.0    339253.0       1476.0       82.72   \n",
            "3     Aceh   1996  1419128.0    348223.0       1557.0       83.00   \n",
            "4     Aceh   1997  1368074.0    337561.0       1339.0       82.46   \n",
            "\n",
            "   Suhu rata-rata  \n",
            "0           26.06  \n",
            "1           26.92  \n",
            "2           26.27  \n",
            "3           26.08  \n",
            "4           26.31  \n",
            "    Provinsi  Tahun    Produksi  Luas Panen  Curah hujan  Kelembapan  \\\n",
            "219  Lampung   2016  3831923.00   390799.00       2317.6       79.40   \n",
            "220  Lampung   2017  4090654.00   396559.00       1825.1       77.04   \n",
            "221  Lampung   2018  2488641.91   511940.93       1385.8       76.05   \n",
            "222  Lampung   2019  2164089.33   464103.42       1706.4       78.03   \n",
            "223  Lampung   2020  2604913.29   545149.05       2211.3       75.80   \n",
            "\n",
            "     Suhu rata-rata  \n",
            "219           26.45  \n",
            "220           26.36  \n",
            "221           25.50  \n",
            "222           27.23  \n",
            "223           24.58  \n"
          ]
        }
      ]
    },
    {
      "cell_type": "code",
      "source": [
        "df=df.drop('Provinsi',axis=1)\n",
        "df.sample(5)"
      ],
      "metadata": {
        "colab": {
          "base_uri": "https://localhost:8080/",
          "height": 206
        },
        "id": "BUu1jYBoypJG",
        "outputId": "4f806c30-3f01-4797-a589-5705eb684e45"
      },
      "execution_count": null,
      "outputs": [
        {
          "output_type": "execute_result",
          "data": {
            "text/plain": [
              "     Tahun   Produksi  Luas Panen  Curah hujan  Kelembapan  Suhu rata-rata\n",
              "217   2014  3320064.0    648731.0       1682.5       79.90           25.80\n",
              "28    1993  2918152.0    754569.0       2549.4       83.80           26.45\n",
              "106   2015   393917.0    107546.0       2048.3       80.50           27.20\n",
              "88    1997   416135.0    137953.0       1510.4       83.82           26.26\n",
              "94    2003   414237.0    132887.0       3822.8       72.92           29.64"
            ],
            "text/html": [
              "\n",
              "  <div id=\"df-96eebb89-8421-4c69-982c-00eae291f09d\">\n",
              "    <div class=\"colab-df-container\">\n",
              "      <div>\n",
              "<style scoped>\n",
              "    .dataframe tbody tr th:only-of-type {\n",
              "        vertical-align: middle;\n",
              "    }\n",
              "\n",
              "    .dataframe tbody tr th {\n",
              "        vertical-align: top;\n",
              "    }\n",
              "\n",
              "    .dataframe thead th {\n",
              "        text-align: right;\n",
              "    }\n",
              "</style>\n",
              "<table border=\"1\" class=\"dataframe\">\n",
              "  <thead>\n",
              "    <tr style=\"text-align: right;\">\n",
              "      <th></th>\n",
              "      <th>Tahun</th>\n",
              "      <th>Produksi</th>\n",
              "      <th>Luas Panen</th>\n",
              "      <th>Curah hujan</th>\n",
              "      <th>Kelembapan</th>\n",
              "      <th>Suhu rata-rata</th>\n",
              "    </tr>\n",
              "  </thead>\n",
              "  <tbody>\n",
              "    <tr>\n",
              "      <th>217</th>\n",
              "      <td>2014</td>\n",
              "      <td>3320064.0</td>\n",
              "      <td>648731.0</td>\n",
              "      <td>1682.5</td>\n",
              "      <td>79.90</td>\n",
              "      <td>25.80</td>\n",
              "    </tr>\n",
              "    <tr>\n",
              "      <th>28</th>\n",
              "      <td>1993</td>\n",
              "      <td>2918152.0</td>\n",
              "      <td>754569.0</td>\n",
              "      <td>2549.4</td>\n",
              "      <td>83.80</td>\n",
              "      <td>26.45</td>\n",
              "    </tr>\n",
              "    <tr>\n",
              "      <th>106</th>\n",
              "      <td>2015</td>\n",
              "      <td>393917.0</td>\n",
              "      <td>107546.0</td>\n",
              "      <td>2048.3</td>\n",
              "      <td>80.50</td>\n",
              "      <td>27.20</td>\n",
              "    </tr>\n",
              "    <tr>\n",
              "      <th>88</th>\n",
              "      <td>1997</td>\n",
              "      <td>416135.0</td>\n",
              "      <td>137953.0</td>\n",
              "      <td>1510.4</td>\n",
              "      <td>83.82</td>\n",
              "      <td>26.26</td>\n",
              "    </tr>\n",
              "    <tr>\n",
              "      <th>94</th>\n",
              "      <td>2003</td>\n",
              "      <td>414237.0</td>\n",
              "      <td>132887.0</td>\n",
              "      <td>3822.8</td>\n",
              "      <td>72.92</td>\n",
              "      <td>29.64</td>\n",
              "    </tr>\n",
              "  </tbody>\n",
              "</table>\n",
              "</div>\n",
              "      <button class=\"colab-df-convert\" onclick=\"convertToInteractive('df-96eebb89-8421-4c69-982c-00eae291f09d')\"\n",
              "              title=\"Convert this dataframe to an interactive table.\"\n",
              "              style=\"display:none;\">\n",
              "        \n",
              "  <svg xmlns=\"http://www.w3.org/2000/svg\" height=\"24px\"viewBox=\"0 0 24 24\"\n",
              "       width=\"24px\">\n",
              "    <path d=\"M0 0h24v24H0V0z\" fill=\"none\"/>\n",
              "    <path d=\"M18.56 5.44l.94 2.06.94-2.06 2.06-.94-2.06-.94-.94-2.06-.94 2.06-2.06.94zm-11 1L8.5 8.5l.94-2.06 2.06-.94-2.06-.94L8.5 2.5l-.94 2.06-2.06.94zm10 10l.94 2.06.94-2.06 2.06-.94-2.06-.94-.94-2.06-.94 2.06-2.06.94z\"/><path d=\"M17.41 7.96l-1.37-1.37c-.4-.4-.92-.59-1.43-.59-.52 0-1.04.2-1.43.59L10.3 9.45l-7.72 7.72c-.78.78-.78 2.05 0 2.83L4 21.41c.39.39.9.59 1.41.59.51 0 1.02-.2 1.41-.59l7.78-7.78 2.81-2.81c.8-.78.8-2.07 0-2.86zM5.41 20L4 18.59l7.72-7.72 1.47 1.35L5.41 20z\"/>\n",
              "  </svg>\n",
              "      </button>\n",
              "      \n",
              "  <style>\n",
              "    .colab-df-container {\n",
              "      display:flex;\n",
              "      flex-wrap:wrap;\n",
              "      gap: 12px;\n",
              "    }\n",
              "\n",
              "    .colab-df-convert {\n",
              "      background-color: #E8F0FE;\n",
              "      border: none;\n",
              "      border-radius: 50%;\n",
              "      cursor: pointer;\n",
              "      display: none;\n",
              "      fill: #1967D2;\n",
              "      height: 32px;\n",
              "      padding: 0 0 0 0;\n",
              "      width: 32px;\n",
              "    }\n",
              "\n",
              "    .colab-df-convert:hover {\n",
              "      background-color: #E2EBFA;\n",
              "      box-shadow: 0px 1px 2px rgba(60, 64, 67, 0.3), 0px 1px 3px 1px rgba(60, 64, 67, 0.15);\n",
              "      fill: #174EA6;\n",
              "    }\n",
              "\n",
              "    [theme=dark] .colab-df-convert {\n",
              "      background-color: #3B4455;\n",
              "      fill: #D2E3FC;\n",
              "    }\n",
              "\n",
              "    [theme=dark] .colab-df-convert:hover {\n",
              "      background-color: #434B5C;\n",
              "      box-shadow: 0px 1px 3px 1px rgba(0, 0, 0, 0.15);\n",
              "      filter: drop-shadow(0px 1px 2px rgba(0, 0, 0, 0.3));\n",
              "      fill: #FFFFFF;\n",
              "    }\n",
              "  </style>\n",
              "\n",
              "      <script>\n",
              "        const buttonEl =\n",
              "          document.querySelector('#df-96eebb89-8421-4c69-982c-00eae291f09d button.colab-df-convert');\n",
              "        buttonEl.style.display =\n",
              "          google.colab.kernel.accessAllowed ? 'block' : 'none';\n",
              "\n",
              "        async function convertToInteractive(key) {\n",
              "          const element = document.querySelector('#df-96eebb89-8421-4c69-982c-00eae291f09d');\n",
              "          const dataTable =\n",
              "            await google.colab.kernel.invokeFunction('convertToInteractive',\n",
              "                                                     [key], {});\n",
              "          if (!dataTable) return;\n",
              "\n",
              "          const docLinkHtml = 'Like what you see? Visit the ' +\n",
              "            '<a target=\"_blank\" href=https://colab.research.google.com/notebooks/data_table.ipynb>data table notebook</a>'\n",
              "            + ' to learn more about interactive tables.';\n",
              "          element.innerHTML = '';\n",
              "          dataTable['output_type'] = 'display_data';\n",
              "          await google.colab.output.renderOutput(dataTable, element);\n",
              "          const docLink = document.createElement('div');\n",
              "          docLink.innerHTML = docLinkHtml;\n",
              "          element.appendChild(docLink);\n",
              "        }\n",
              "      </script>\n",
              "    </div>\n",
              "  </div>\n",
              "  "
            ]
          },
          "metadata": {},
          "execution_count": 5
        }
      ]
    },
    {
      "cell_type": "code",
      "source": [],
      "metadata": {
        "id": "fUUTS4G-IWzd"
      },
      "execution_count": null,
      "outputs": []
    },
    {
      "cell_type": "markdown",
      "source": [
        "### Modelling"
      ],
      "metadata": {
        "id": "KIii-WWIm-UR"
      }
    },
    {
      "cell_type": "markdown",
      "source": [
        "##### Preprocessing Data"
      ],
      "metadata": {
        "id": "ZnctQmnxUXKq"
      }
    },
    {
      "cell_type": "code",
      "source": [
        "df.columns"
      ],
      "metadata": {
        "colab": {
          "base_uri": "https://localhost:8080/"
        },
        "id": "CNdL5H21vmn9",
        "outputId": "598b1021-e48f-42b2-9979-4f62c2b99ce7"
      },
      "execution_count": null,
      "outputs": [
        {
          "output_type": "execute_result",
          "data": {
            "text/plain": [
              "Index(['Tahun', 'Produksi', 'Luas Panen', 'Curah hujan', 'Kelembapan',\n",
              "       'Suhu rata-rata'],\n",
              "      dtype='object')"
            ]
          },
          "metadata": {},
          "execution_count": 6
        }
      ]
    },
    {
      "cell_type": "code",
      "source": [
        "# Calculate the average production\n",
        "avg_production = df['Produksi'].mean()\n",
        "\n",
        "# Create a new column 'Produksi_Kategori' with binary categories based on average production\n",
        "df['Produksi_Kategori'] = df['Produksi'].apply(lambda x: 1 if x > avg_production else 0)\n"
      ],
      "metadata": {
        "id": "gEuci_snu2m0"
      },
      "execution_count": null,
      "outputs": []
    },
    {
      "cell_type": "code",
      "source": [
        "df.sample()"
      ],
      "metadata": {
        "colab": {
          "base_uri": "https://localhost:8080/",
          "height": 81
        },
        "id": "3fKBgQofvXm-",
        "outputId": "87b2c02f-a6f1-4a87-9c50-e5a1454abe83"
      },
      "execution_count": null,
      "outputs": [
        {
          "output_type": "execute_result",
          "data": {
            "text/plain": [
              "     Tahun  Produksi  Luas Panen  Curah hujan  Kelembapan  Suhu rata-rata  \\\n",
              "113   1994  564722.0    184029.0       1824.0       81.25           25.51   \n",
              "\n",
              "     Produksi_Kategori  \n",
              "113                  0  "
            ],
            "text/html": [
              "\n",
              "  <div id=\"df-ea722848-c458-4685-8e70-383869059c49\">\n",
              "    <div class=\"colab-df-container\">\n",
              "      <div>\n",
              "<style scoped>\n",
              "    .dataframe tbody tr th:only-of-type {\n",
              "        vertical-align: middle;\n",
              "    }\n",
              "\n",
              "    .dataframe tbody tr th {\n",
              "        vertical-align: top;\n",
              "    }\n",
              "\n",
              "    .dataframe thead th {\n",
              "        text-align: right;\n",
              "    }\n",
              "</style>\n",
              "<table border=\"1\" class=\"dataframe\">\n",
              "  <thead>\n",
              "    <tr style=\"text-align: right;\">\n",
              "      <th></th>\n",
              "      <th>Tahun</th>\n",
              "      <th>Produksi</th>\n",
              "      <th>Luas Panen</th>\n",
              "      <th>Curah hujan</th>\n",
              "      <th>Kelembapan</th>\n",
              "      <th>Suhu rata-rata</th>\n",
              "      <th>Produksi_Kategori</th>\n",
              "    </tr>\n",
              "  </thead>\n",
              "  <tbody>\n",
              "    <tr>\n",
              "      <th>113</th>\n",
              "      <td>1994</td>\n",
              "      <td>564722.0</td>\n",
              "      <td>184029.0</td>\n",
              "      <td>1824.0</td>\n",
              "      <td>81.25</td>\n",
              "      <td>25.51</td>\n",
              "      <td>0</td>\n",
              "    </tr>\n",
              "  </tbody>\n",
              "</table>\n",
              "</div>\n",
              "      <button class=\"colab-df-convert\" onclick=\"convertToInteractive('df-ea722848-c458-4685-8e70-383869059c49')\"\n",
              "              title=\"Convert this dataframe to an interactive table.\"\n",
              "              style=\"display:none;\">\n",
              "        \n",
              "  <svg xmlns=\"http://www.w3.org/2000/svg\" height=\"24px\"viewBox=\"0 0 24 24\"\n",
              "       width=\"24px\">\n",
              "    <path d=\"M0 0h24v24H0V0z\" fill=\"none\"/>\n",
              "    <path d=\"M18.56 5.44l.94 2.06.94-2.06 2.06-.94-2.06-.94-.94-2.06-.94 2.06-2.06.94zm-11 1L8.5 8.5l.94-2.06 2.06-.94-2.06-.94L8.5 2.5l-.94 2.06-2.06.94zm10 10l.94 2.06.94-2.06 2.06-.94-2.06-.94-.94-2.06-.94 2.06-2.06.94z\"/><path d=\"M17.41 7.96l-1.37-1.37c-.4-.4-.92-.59-1.43-.59-.52 0-1.04.2-1.43.59L10.3 9.45l-7.72 7.72c-.78.78-.78 2.05 0 2.83L4 21.41c.39.39.9.59 1.41.59.51 0 1.02-.2 1.41-.59l7.78-7.78 2.81-2.81c.8-.78.8-2.07 0-2.86zM5.41 20L4 18.59l7.72-7.72 1.47 1.35L5.41 20z\"/>\n",
              "  </svg>\n",
              "      </button>\n",
              "      \n",
              "  <style>\n",
              "    .colab-df-container {\n",
              "      display:flex;\n",
              "      flex-wrap:wrap;\n",
              "      gap: 12px;\n",
              "    }\n",
              "\n",
              "    .colab-df-convert {\n",
              "      background-color: #E8F0FE;\n",
              "      border: none;\n",
              "      border-radius: 50%;\n",
              "      cursor: pointer;\n",
              "      display: none;\n",
              "      fill: #1967D2;\n",
              "      height: 32px;\n",
              "      padding: 0 0 0 0;\n",
              "      width: 32px;\n",
              "    }\n",
              "\n",
              "    .colab-df-convert:hover {\n",
              "      background-color: #E2EBFA;\n",
              "      box-shadow: 0px 1px 2px rgba(60, 64, 67, 0.3), 0px 1px 3px 1px rgba(60, 64, 67, 0.15);\n",
              "      fill: #174EA6;\n",
              "    }\n",
              "\n",
              "    [theme=dark] .colab-df-convert {\n",
              "      background-color: #3B4455;\n",
              "      fill: #D2E3FC;\n",
              "    }\n",
              "\n",
              "    [theme=dark] .colab-df-convert:hover {\n",
              "      background-color: #434B5C;\n",
              "      box-shadow: 0px 1px 3px 1px rgba(0, 0, 0, 0.15);\n",
              "      filter: drop-shadow(0px 1px 2px rgba(0, 0, 0, 0.3));\n",
              "      fill: #FFFFFF;\n",
              "    }\n",
              "  </style>\n",
              "\n",
              "      <script>\n",
              "        const buttonEl =\n",
              "          document.querySelector('#df-ea722848-c458-4685-8e70-383869059c49 button.colab-df-convert');\n",
              "        buttonEl.style.display =\n",
              "          google.colab.kernel.accessAllowed ? 'block' : 'none';\n",
              "\n",
              "        async function convertToInteractive(key) {\n",
              "          const element = document.querySelector('#df-ea722848-c458-4685-8e70-383869059c49');\n",
              "          const dataTable =\n",
              "            await google.colab.kernel.invokeFunction('convertToInteractive',\n",
              "                                                     [key], {});\n",
              "          if (!dataTable) return;\n",
              "\n",
              "          const docLinkHtml = 'Like what you see? Visit the ' +\n",
              "            '<a target=\"_blank\" href=https://colab.research.google.com/notebooks/data_table.ipynb>data table notebook</a>'\n",
              "            + ' to learn more about interactive tables.';\n",
              "          element.innerHTML = '';\n",
              "          dataTable['output_type'] = 'display_data';\n",
              "          await google.colab.output.renderOutput(dataTable, element);\n",
              "          const docLink = document.createElement('div');\n",
              "          docLink.innerHTML = docLinkHtml;\n",
              "          element.appendChild(docLink);\n",
              "        }\n",
              "      </script>\n",
              "    </div>\n",
              "  </div>\n",
              "  "
            ]
          },
          "metadata": {},
          "execution_count": 8
        }
      ]
    },
    {
      "cell_type": "code",
      "source": [
        "df = pd.get_dummies(df)"
      ],
      "metadata": {
        "id": "uaHOxAgt5VlE"
      },
      "execution_count": null,
      "outputs": []
    },
    {
      "cell_type": "code",
      "source": [
        "from sklearn.preprocessing import LabelEncoder\n",
        "from sklearn.preprocessing import StandardScaler\n",
        "le = LabelEncoder()\n",
        "\n",
        "for column in df:\n",
        "  if df[column].dtypes != int:\n",
        "    df[column] = le.fit_transform(df[column])\n",
        "\n"
      ],
      "metadata": {
        "id": "vDbMwOnvp1Xj"
      },
      "execution_count": null,
      "outputs": []
    },
    {
      "cell_type": "code",
      "source": [
        "from sklearn.model_selection import train_test_split \n",
        "\n",
        "X = df.drop(columns=['Produksi_Kategori'])\n",
        "y = df['Produksi_Kategori']\n",
        "\n",
        "x_train, x_test, y_train, y_test = train_test_split(X, y, test_size=0.2, random_state=42, stratify=y)\n"
      ],
      "metadata": {
        "id": "8avo4KGpwi5x"
      },
      "execution_count": null,
      "outputs": []
    },
    {
      "cell_type": "code",
      "source": [
        "# scaler = StandardScaler()\n",
        "\n",
        "# x_train_scaled = scaler.fit_transform(X_train)\n",
        "\n",
        "# x_test_scaled = scaler.transform(X_test)"
      ],
      "metadata": {
        "id": "srX3U1DeUZDk"
      },
      "execution_count": null,
      "outputs": []
    },
    {
      "cell_type": "markdown",
      "source": [
        "#### Modelling"
      ],
      "metadata": {
        "id": "XKHzNjwYyoCp"
      }
    },
    {
      "cell_type": "markdown",
      "source": [
        "###### Naive Bayes"
      ],
      "metadata": {
        "id": "SAXV6TGfz1TB"
      }
    },
    {
      "cell_type": "code",
      "source": [
        "from sklearn.naive_bayes import GaussianNB\n",
        "from sklearn.metrics import roc_auc_score, precision_score, accuracy_score\n",
        "\n",
        "gnb = GaussianNB()\n",
        "\n",
        "# Train the model using the training sets\n",
        "gnb.fit(x_train, y_train)\n",
        "\n",
        "# Predict the response for test dataset\n",
        "y_pred = gnb.predict(x_test)\n",
        "\n",
        "# Compute ROC-AUC score\n",
        "roc_auc = roc_auc_score(y_test, y_pred)\n",
        "\n",
        "# Compute Precision score\n",
        "precision = precision_score(y_test, y_pred)\n",
        "\n",
        "# Compute Accuracy score\n",
        "accuracy = accuracy_score(y_test, y_pred)"
      ],
      "metadata": {
        "id": "hXOCGIg9yp3j"
      },
      "execution_count": null,
      "outputs": []
    },
    {
      "cell_type": "markdown",
      "source": [
        "###### KNN"
      ],
      "metadata": {
        "id": "t2635sdsz32x"
      }
    },
    {
      "cell_type": "code",
      "source": [
        "from sklearn.neighbors import KNeighborsClassifier\n",
        "from sklearn.metrics import accuracy_score, classification_report, roc_auc_score\n",
        "\n",
        "# Create KNN classifier object\n",
        "knn = KNeighborsClassifier(n_neighbors=5)\n",
        "\n",
        "# Train the model using the training sets\n",
        "knn.fit(x_train, y_train)\n",
        "\n",
        "# Predict the response for test dataset\n",
        "y_pred = knn.predict(x_test)\n",
        "\n",
        "# Evaluate the model\n",
        "accuracy = accuracy_score(y_test, y_pred)\n",
        "\n",
        "# Calculate precision, recall, and F1-score\n",
        "report = classification_report(y_test, y_pred)\n",
        "\n",
        "# Calculate ROC-AUC score\n",
        "roc_auc = roc_auc_score(y_test, y_pred)\n",
        "\n"
      ],
      "metadata": {
        "id": "uM1YGDq7zKU8"
      },
      "execution_count": null,
      "outputs": []
    },
    {
      "cell_type": "markdown",
      "source": [
        "##### C4.5"
      ],
      "metadata": {
        "id": "aJZ8kuPjz5rS"
      }
    },
    {
      "cell_type": "code",
      "source": [
        "class Node:\n",
        "    def __init__(self):\n",
        "        \n",
        "        # links to the left and right child nodes\n",
        "        self.right = None\n",
        "        self.left = None\n",
        "        \n",
        "        # derived from splitting criteria\n",
        "        self.column = None\n",
        "        self.threshold = None\n",
        "        \n",
        "        # probability for object inside the Node to belong for each of the given classes\n",
        "        self.probas = None\n",
        "        # depth of the given node\n",
        "        self.depth = None\n",
        "        \n",
        "        # if it is the root Node or not\n",
        "        self.is_terminal = False\n",
        "\n",
        "        "
      ],
      "metadata": {
        "id": "pP2WH-Guzzjq"
      },
      "execution_count": null,
      "outputs": []
    },
    {
      "cell_type": "code",
      "source": [
        "import numpy as np\n",
        "\n",
        "class DecisionTreeClassifier:\n",
        "    def __init__(self, max_depth = 3, min_samples_leaf = 1, min_samples_split = 2):\n",
        "        \n",
        "        self.max_depth = max_depth\n",
        "        self.min_samples_leaf = min_samples_leaf\n",
        "        self.min_samples_split = min_samples_split\n",
        "        \n",
        "        self.classes = None\n",
        "        \n",
        "        # Decision tree itself\n",
        "        self.Tree = None\n",
        "    \n",
        "    def nodeProbas(self, y):\n",
        "        '''\n",
        "        Calculates probability of class in a given node\n",
        "        '''\n",
        "        \n",
        "        probas = []\n",
        "        \n",
        "        # for each unique label calculate the probability for it\n",
        "        for one_class in self.classes:\n",
        "            proba = y[y == one_class].shape[0] / y.shape[0]\n",
        "            probas.append(proba)\n",
        "        return np.asarray(probas)\n",
        "\n",
        "    def gini(self, probas):\n",
        "        '''\n",
        "        Calculates gini criterion\n",
        "        '''\n",
        "        \n",
        "        return 1 - np.sum(probas**2)\n",
        "    \n",
        "    def calcImpurity(self, y):\n",
        "        '''\n",
        "        Wrapper for the impurity calculation. Calculates probas first and then passses them\n",
        "        to the Gini criterion\n",
        "        '''\n",
        "        \n",
        "        return self.gini(self.nodeProbas(y))\n",
        "    \n",
        "    def calcBestSplit(self, X, y):\n",
        "        '''\n",
        "        Calculates the best possible split for the concrete node of the tree\n",
        "        '''\n",
        "        \n",
        "        bestSplitCol = None\n",
        "        bestThresh = None\n",
        "        bestInfoGain = -999\n",
        "        \n",
        "        impurityBefore = self.calcImpurity(y)\n",
        "        \n",
        "        # for each column in X\n",
        "        for col in range(X.shape[1]):\n",
        "            x_col = X[:, col]\n",
        "            \n",
        "            # for each value in the column\n",
        "            for x_i in x_col:\n",
        "                threshold = x_i\n",
        "                y_right = y[x_col > threshold]\n",
        "                y_left = y[x_col <= threshold]\n",
        "                \n",
        "                if y_right.shape[0] == 0 or y_left.shape[0] == 0:\n",
        "                    continue\n",
        "                    \n",
        "                # calculate impurity for the right and left nodes\n",
        "                impurityRight = self.calcImpurity(y_right)\n",
        "                impurityLeft = self.calcImpurity(y_left)\n",
        "                \n",
        "                # calculate information gain\n",
        "                infoGain = impurityBefore\n",
        "                infoGain -= (impurityLeft * y_left.shape[0] / y.shape[0]) + (impurityRight * y_right.shape[0] / y.shape[0])\n",
        "                \n",
        "                # is this infoGain better then all other?\n",
        "                if infoGain > bestInfoGain:\n",
        "                    bestSplitCol = col\n",
        "                    bestThresh = threshold\n",
        "                    bestInfoGain = infoGain\n",
        "                    \n",
        "        \n",
        "        # if we still didn't find the split\n",
        "        if bestInfoGain == -999:\n",
        "            return None, None, None, None, None, None\n",
        "        \n",
        "        # making the best split\n",
        "        \n",
        "        x_col = X[:, bestSplitCol]\n",
        "        x_left, x_right = X[x_col <= bestThresh, :], X[x_col > bestThresh, :]\n",
        "        y_left, y_right = y[x_col <= bestThresh], y[x_col > bestThresh]\n",
        "        \n",
        "        return bestSplitCol, bestThresh, x_left, y_left, x_right, y_right\n",
        "                  \n",
        "    def buildDT(self, X, y, node):\n",
        "        '''\n",
        "        Recursively builds decision tree from the top to bottom\n",
        "        '''\n",
        "        \n",
        "        # checking for the terminal conditions\n",
        "        \n",
        "        if node.depth >= self.max_depth:\n",
        "            node.is_terminal = True\n",
        "            return\n",
        "        \n",
        "        if X.shape[0] < self.min_samples_split:\n",
        "            node.is_terminal = True\n",
        "            return\n",
        "        \n",
        "        if np.unique(y).shape[0] == 1:\n",
        "            node.is_terminal = True\n",
        "            return\n",
        "        \n",
        "        # calculating current split\n",
        "        splitCol, thresh, x_left, y_left, x_right, y_right = self.calcBestSplit(X, y)\n",
        "        \n",
        "        if splitCol is None:\n",
        "            node.is_terminal = True\n",
        "            \n",
        "        if x_left.shape[0] < self.min_samples_leaf or x_right.shape[0] < self.min_samples_leaf:\n",
        "            node.is_terminal = True\n",
        "            return\n",
        "        \n",
        "        node.column = splitCol\n",
        "        node.threshold = thresh\n",
        "        \n",
        "        # creating left and right child nodes\n",
        "        node.left = Node()\n",
        "        node.left.depth = node.depth + 1\n",
        "        node.left.probas = self.nodeProbas(y_left)\n",
        "        \n",
        "        node.right = Node()\n",
        "        node.right.depth = node.depth + 1\n",
        "        node.right.probas = self.nodeProbas(y_right)\n",
        "        \n",
        "        # splitting recursevely\n",
        "        self.buildDT(x_right, y_right, node.right)\n",
        "        self.buildDT(x_left, y_left, node.left)\n",
        "        \n",
        "    def fit(self, X, y):\n",
        "        '''\n",
        "        Standard fit function to run all the model training\n",
        "        '''\n",
        "        \n",
        "        if type(X) == pd.DataFrame:\n",
        "            X = np.asarray(X)\n",
        "        \n",
        "        self.classes = np.unique(y)\n",
        "        # root node creation\n",
        "        self.Tree = Node()\n",
        "        self.Tree.depth = 1\n",
        "        self.Tree.probas = self.nodeProbas(y)\n",
        "        \n",
        "        self.buildDT(X, y, self.Tree)\n",
        "    \n",
        "    def predictSample(self, x, node):\n",
        "        '''\n",
        "        Passes one object through decision tree and return the probability of it to belong to each class\n",
        "        '''\n",
        "       \n",
        "    \n",
        "        # if we have reached the terminal node of the tree\n",
        "        if node.is_terminal:\n",
        "            return node.probas\n",
        "        \n",
        "        if x[node.column] > node.threshold:\n",
        "            probas = self.predictSample(x, node.right)\n",
        "        else:\n",
        "            probas = self.predictSample(x, node.left)\n",
        "            \n",
        "        return probas\n",
        "        \n",
        "    def predict(self, X):\n",
        "        '''\n",
        "        Returns the labels for each X\n",
        "        '''\n",
        "        \n",
        "        if type(X) == pd.DataFrame:\n",
        "            X = np.asarray(X)\n",
        "            \n",
        "        predictions = []\n",
        "        for x in X:\n",
        "            pred = np.argmax(self.predictSample(x, self.Tree))\n",
        "            predictions.append(pred)\n",
        "        \n",
        "        return np.asarray(predictions)"
      ],
      "metadata": {
        "id": "Y32lhR5X1Mjd"
      },
      "execution_count": null,
      "outputs": []
    },
    {
      "cell_type": "code",
      "source": [
        "# definisikan model Decission Tree Classifier\n",
        "dtc = DecisionTreeClassifier(max_depth = 10, min_samples_leaf=2, min_samples_split=2)\n",
        "\n",
        "# latih model Decission Tree Classifier\n",
        "dtc.fit(x_train, y_train)\n",
        "\n",
        "# evalusasi performa model menggunakan data uji\n",
        "dtc_pred = dtc.predict(x_test)"
      ],
      "metadata": {
        "id": "hYSI0_5D1qXU"
      },
      "execution_count": null,
      "outputs": []
    },
    {
      "cell_type": "markdown",
      "source": [
        "### Evaluation"
      ],
      "metadata": {
        "id": "NG-GuUAKk1Ts"
      }
    },
    {
      "cell_type": "code",
      "source": [
        "from sklearn.metrics import confusion_matrix, ConfusionMatrixDisplay, roc_auc_score, roc_curve\n",
        "\n",
        "# buat list model dan nama model\n",
        "models = [knn, gnb, dtc]\n",
        "model_names = ['K-Nearest Neighbor', 'Gaussian Naive Bayes', 'Decision Tree Classifier']\n",
        "\n",
        "# inisialisasi list untuk menyimpan hasil evaluasi\n",
        "acc_scores = []\n",
        "pre_scores = []\n",
        "rec_scores = []\n",
        "roc_scores = []\n",
        "\n",
        "# buat figure dan axes untuk menampilkan visualisasi\n",
        "fig, axes = plt.subplots(nrows=2, ncols=3, figsize=(20, 10))\n",
        "\n",
        "# loop untuk setiap model\n",
        "for i, model in enumerate(models):\n",
        "    # prediksi target variabel pada data uji\n",
        "    y_pred = model.predict(x_test)\n",
        "\n",
        "    # hitung confusion matrix\n",
        "    cm = confusion_matrix(y_test, y_pred)\n",
        "\n",
        "    # hitung nilai roc-auc\n",
        "    roc = roc_auc_score(y_test, y_pred)\n",
        "\n",
        "    # hitung false positive rate (fpr) dan true positive rate (tpr) untuk kurva roc\n",
        "    fpr, tpr, _ = roc_curve(y_test, y_pred)\n",
        "\n",
        "    # tampilkan kurva roc\n",
        "    roc_display = axes[0,i].plot(fpr, tpr, color='darkorange', label='ROC curve (area = %0.2f)' % roc)\n",
        "    roc_display = axes[0,i].plot([0, 1], [0, 1], color='navy', linestyle='--')\n",
        "    roc_display = axes[0,i].set_xlim([0.0, 1.0])\n",
        "    roc_display = axes[0,i].set_ylim([0.0, 1.05])\n",
        "    roc_display = axes[0,i].set_xlabel('False Positive Rate')\n",
        "    roc_display = axes[0,i].set_ylabel('True Positive Rate')\n",
        "    roc_display = axes[0,i].set_title('ROC Curve - ' + model_names[i])\n",
        "    roc_display = axes[0,i].legend(loc=\"lower right\")\n",
        "\n",
        "    # tambahkan baris kosong\n",
        "    fig.subplots_adjust(hspace=0.3)\n",
        "\n",
        "    # tampilkan confusion matrix\n",
        "    cm_display = ConfusionMatrixDisplay(cm).plot(ax=axes[1,i], cmap='inferno')\n",
        "    cm_display.ax_.set_title(model_names[i])\n",
        "\n",
        "    # hitung true negative, false positive, false negative, true positive\n",
        "    tn, fp, fn, tp = cm.ravel()\n",
        "\n",
        "    # hitung precision dan recall\n",
        "    ac = (tp + tn) / (tp + fp + fn + tn)\n",
        "    pr = tp / (tp + fp)\n",
        "    rc = tp / (tp + fn)\n",
        "\n",
        "    # simpan hasil evaluasi pada list\n",
        "    acc_scores.append(ac * 100)\n",
        "    pre_scores.append(pr * 100)\n",
        "    rec_scores.append(rc * 100)\n",
        "    roc_scores.append(roc * 100)\n",
        "\n",
        "# tampilkan visualisasi\n",
        "plt.show()\n",
        "\n",
        "# buat dataframe dari hasil evaluasi\n",
        "df_eval = pd.DataFrame({'': model_names,\n",
        "                        'Accuracy (%)': acc_scores,\n",
        "                        'Precision (%)': pre_scores,\n",
        "                        'Recall (%)': rec_scores,\n",
        "                        'ROC-AUC (%)': roc_scores})\n",
        "\n",
        "# set index dataframe menjadi kosong\n",
        "df_eval = df_eval.set_index('')\n",
        "\n",
        "# ubah nama axis pada index dan kolom\n",
        "df_eval = df_eval.rename_axis(None, axis=0).rename_axis('', axis=1)\n",
        "\n",
        "# menampilkan dataframe dengan style untuk highlight nilai tertinggi\n",
        "def highlight_max(s):\n",
        "    is_max = s == s.max()\n",
        "    return ['background-color: green' if v else '' for v in is_max]\n",
        "\n",
        "df_eval = df_eval.style.apply(highlight_max, axis=0)\n",
        "\n",
        "# tampilkan dataframe\n",
        "display(df_eval)"
      ],
      "metadata": {
        "colab": {
          "base_uri": "https://localhost:8080/",
          "height": 676
        },
        "id": "mQQvrNLvk21Z",
        "outputId": "70b3a6e9-0b9e-450e-dcf9-767c2ffbb328"
      },
      "execution_count": null,
      "outputs": [
        {
          "output_type": "display_data",
          "data": {
            "text/plain": [
              "<Figure size 2000x1000 with 9 Axes>"
            ],
            "image/png": "[encoded data removed]"
          },
          "metadata": {}
        },
        {
          "output_type": "display_data",
          "data": {
            "text/plain": [
              "<pandas.io.formats.style.Styler at 0x7f55a86780a0>"
            ],
            "text/html": [
              "<style type=\"text/css\">\n",
              "#T_ec520_row2_col0, #T_ec520_row2_col1, #T_ec520_row2_col2, #T_ec520_row2_col3 {\n",
              "  background-color: green;\n",
              "}\n",
              "</style>\n",
              "<table id=\"T_ec520\" class=\"dataframe\">\n",
              "  <thead>\n",
              "    <tr>\n",
              "      <th class=\"index_name level0\" ></th>\n",
              "      <th id=\"T_ec520_level0_col0\" class=\"col_heading level0 col0\" >Accuracy (%)</th>\n",
              "      <th id=\"T_ec520_level0_col1\" class=\"col_heading level0 col1\" >Precision (%)</th>\n",
              "      <th id=\"T_ec520_level0_col2\" class=\"col_heading level0 col2\" >Recall (%)</th>\n",
              "      <th id=\"T_ec520_level0_col3\" class=\"col_heading level0 col3\" >ROC-AUC (%)</th>\n",
              "    </tr>\n",
              "  </thead>\n",
              "  <tbody>\n",
              "    <tr>\n",
              "      <th id=\"T_ec520_level0_row0\" class=\"row_heading level0 row0\" >K-Nearest Neighbor</th>\n",
              "      <td id=\"T_ec520_row0_col0\" class=\"data row0 col0\" >90.476190</td>\n",
              "      <td id=\"T_ec520_row0_col1\" class=\"data row0 col1\" >86.956522</td>\n",
              "      <td id=\"T_ec520_row0_col2\" class=\"data row0 col2\" >95.238095</td>\n",
              "      <td id=\"T_ec520_row0_col3\" class=\"data row0 col3\" >90.476190</td>\n",
              "    </tr>\n",
              "    <tr>\n",
              "      <th id=\"T_ec520_level0_row1\" class=\"row_heading level0 row1\" >Gaussian Naive Bayes</th>\n",
              "      <td id=\"T_ec520_row1_col0\" class=\"data row1 col0\" >90.476190</td>\n",
              "      <td id=\"T_ec520_row1_col1\" class=\"data row1 col1\" >86.956522</td>\n",
              "      <td id=\"T_ec520_row1_col2\" class=\"data row1 col2\" >95.238095</td>\n",
              "      <td id=\"T_ec520_row1_col3\" class=\"data row1 col3\" >90.476190</td>\n",
              "    </tr>\n",
              "    <tr>\n",
              "      <th id=\"T_ec520_level0_row2\" class=\"row_heading level0 row2\" >Decision Tree Classifier</th>\n",
              "      <td id=\"T_ec520_row2_col0\" class=\"data row2 col0\" >97.619048</td>\n",
              "      <td id=\"T_ec520_row2_col1\" class=\"data row2 col1\" >95.454545</td>\n",
              "      <td id=\"T_ec520_row2_col2\" class=\"data row2 col2\" >100.000000</td>\n",
              "      <td id=\"T_ec520_row2_col3\" class=\"data row2 col3\" >97.619048</td>\n",
              "    </tr>\n",
              "  </tbody>\n",
              "</table>\n"
            ]
          },
          "metadata": {}
        }
      ]
    },
    {
      "cell_type": "markdown",
      "source": [
        "### Deployment"
      ],
      "metadata": {
        "id": "E6htDAH3n2E0"
      }
    },
    {
      "cell_type": "code",
      "source": [
        "df.to_csv('Supervised - Deployment.csv')"
      ],
      "metadata": {
        "id": "tjyf3hEZB9-3"
      },
      "execution_count": null,
      "outputs": []
    },
    {
      "cell_type": "markdown",
      "source": [
        "# CRISP-DM (Unsupervised Dataset)\n",
        "\n",
        "Life Expectancy Dataset"
      ],
      "metadata": {
        "id": "8WIShco--XDa"
      }
    },
    {
      "cell_type": "markdown",
      "source": [
        "### Business Understanding\n",
        "\n"
      ],
      "metadata": {
        "id": "Y1ivVrXI-iAY"
      }
    },
    {
      "cell_type": "markdown",
      "source": [
        "Business Understanding : \n",
        "Dataset ini berisi data rata-rata angka harapan hidup pada setiap negara yang ada di dunia. Adapun variabel yang mempengaruhi angka harapan hidup penduduk di suatu negara dipengarhui oleh tingkat harapan hidup penduduk laki-laki dan perempuan.\n",
        "\n",
        "Goals :\n",
        "Tujuan analisis terhadap data ini yaitu untuk mengidentifikasi faktor-faktor yang mempengaruhi harapan hidup penduduk di berbagai negara di dunia. \n",
        "Hal tersebut penting untuk dilakukan dalam upaya meningkatkan kesehatan dan kesejahteraan masyarakat, oleh karena itu penting untuk memahami faktor-faktor yang mempengaruhi harapan hidup penduduk.\n",
        "Sebab dibeberapa kasus, tingkat harapan hidup penduduk digunakan sebagai salah satu indikator penilaian terhadap suatu negara dalam menjamin kesejahteraan penduduknya.\n",
        "\n",
        "> Tujuan Penggunaan Dataset :\n",
        "\n",
        "1. Melakukan analisis exploratory data untuk mendapatkan pemahaman awal mengenai statistik angka harapan hidup penduduk di suatu negara.\n",
        "\n",
        "2. Melakukan analisis regresi untuk melihat hubungan antara variabel yang mempengaruhi angka harapan hidup penduduk.\n",
        "\n",
        "3. Melakukan analisis faktor untuk mengidentifikasi faktor-faktor yang mempengaruhi harapan hidup penduduk pada suatu negara.\n",
        "\n",
        "4. Membuat model prediksi kemungkinan angka harapan hidup penduduk pada suatu negara berdasarkan variabel-variabel yang ada dalam dataset."
      ],
      "metadata": {
        "id": "0M6hmvbjAU9_"
      }
    },
    {
      "cell_type": "markdown",
      "source": [
        "### Data Understanding"
      ],
      "metadata": {
        "id": "V9iWtEzF-smO"
      }
    },
    {
      "cell_type": "markdown",
      "source": [
        "##### Collect Data"
      ],
      "metadata": {
        "id": "bPub9zCV_lbP"
      }
    },
    {
      "cell_type": "code",
      "source": [
        "df2 = pd.read_csv(\"https://raw.githubusercontent.com/anazantoro/dataset-pa-datmin/main/archive/Life_expectancy_dataset.csv\", encoding=\"ISO-8859-1\")\n",
        "\n",
        "df2"
      ],
      "metadata": {
        "id": "orQvqmX1_SBe",
        "colab": {
          "base_uri": "https://localhost:8080/",
          "height": 423
        },
        "outputId": "94e90fc0-808c-4f56-e985-b2a16f795712"
      },
      "execution_count": null,
      "outputs": [
        {
          "output_type": "execute_result",
          "data": {
            "text/plain": [
              "     Rank        Country  Overall Life  Male Life  Female Life Continent\n",
              "0       1         Monaco          89.5       85.6         93.5    Europe\n",
              "1       2          Japan          85.0       81.7         88.5      Asia\n",
              "2       3      Singapore          85.0       82.3         87.8      Asia\n",
              "3       4   Macau; China          84.5       81.6         87.6      Asia\n",
              "4       5     San Marino          83.3       80.7         86.1    Europe\n",
              "..    ...            ...           ...        ...          ...       ...\n",
              "218   219          Gabon          52.1       51.6         52.5    Africa\n",
              "219   220      Swaziland          51.6       52.2         51.0    Africa\n",
              "220   221    Afghanistan          51.3       49.9         52.7      Asia\n",
              "221   222  Guinea-Bissau          50.6       48.6         52.7    Africa\n",
              "222   223           Chad          50.2       49.0         51.3    Africa\n",
              "\n",
              "[223 rows x 6 columns]"
            ],
            "text/html": [
              "\n",
              "  <div id=\"df-d5226db1-84c1-474c-ba27-a83015bb3ab5\">\n",
              "    <div class=\"colab-df-container\">\n",
              "      <div>\n",
              "<style scoped>\n",
              "    .dataframe tbody tr th:only-of-type {\n",
              "        vertical-align: middle;\n",
              "    }\n",
              "\n",
              "    .dataframe tbody tr th {\n",
              "        vertical-align: top;\n",
              "    }\n",
              "\n",
              "    .dataframe thead th {\n",
              "        text-align: right;\n",
              "    }\n",
              "</style>\n",
              "<table border=\"1\" class=\"dataframe\">\n",
              "  <thead>\n",
              "    <tr style=\"text-align: right;\">\n",
              "      <th></th>\n",
              "      <th>Rank</th>\n",
              "      <th>Country</th>\n",
              "      <th>Overall Life</th>\n",
              "      <th>Male Life</th>\n",
              "      <th>Female Life</th>\n",
              "      <th>Continent</th>\n",
              "    </tr>\n",
              "  </thead>\n",
              "  <tbody>\n",
              "    <tr>\n",
              "      <th>0</th>\n",
              "      <td>1</td>\n",
              "      <td>Monaco</td>\n",
              "      <td>89.5</td>\n",
              "      <td>85.6</td>\n",
              "      <td>93.5</td>\n",
              "      <td>Europe</td>\n",
              "    </tr>\n",
              "    <tr>\n",
              "      <th>1</th>\n",
              "      <td>2</td>\n",
              "      <td>Japan</td>\n",
              "      <td>85.0</td>\n",
              "      <td>81.7</td>\n",
              "      <td>88.5</td>\n",
              "      <td>Asia</td>\n",
              "    </tr>\n",
              "    <tr>\n",
              "      <th>2</th>\n",
              "      <td>3</td>\n",
              "      <td>Singapore</td>\n",
              "      <td>85.0</td>\n",
              "      <td>82.3</td>\n",
              "      <td>87.8</td>\n",
              "      <td>Asia</td>\n",
              "    </tr>\n",
              "    <tr>\n",
              "      <th>3</th>\n",
              "      <td>4</td>\n",
              "      <td>Macau; China</td>\n",
              "      <td>84.5</td>\n",
              "      <td>81.6</td>\n",
              "      <td>87.6</td>\n",
              "      <td>Asia</td>\n",
              "    </tr>\n",
              "    <tr>\n",
              "      <th>4</th>\n",
              "      <td>5</td>\n",
              "      <td>San Marino</td>\n",
              "      <td>83.3</td>\n",
              "      <td>80.7</td>\n",
              "      <td>86.1</td>\n",
              "      <td>Europe</td>\n",
              "    </tr>\n",
              "    <tr>\n",
              "      <th>...</th>\n",
              "      <td>...</td>\n",
              "      <td>...</td>\n",
              "      <td>...</td>\n",
              "      <td>...</td>\n",
              "      <td>...</td>\n",
              "      <td>...</td>\n",
              "    </tr>\n",
              "    <tr>\n",
              "      <th>218</th>\n",
              "      <td>219</td>\n",
              "      <td>Gabon</td>\n",
              "      <td>52.1</td>\n",
              "      <td>51.6</td>\n",
              "      <td>52.5</td>\n",
              "      <td>Africa</td>\n",
              "    </tr>\n",
              "    <tr>\n",
              "      <th>219</th>\n",
              "      <td>220</td>\n",
              "      <td>Swaziland</td>\n",
              "      <td>51.6</td>\n",
              "      <td>52.2</td>\n",
              "      <td>51.0</td>\n",
              "      <td>Africa</td>\n",
              "    </tr>\n",
              "    <tr>\n",
              "      <th>220</th>\n",
              "      <td>221</td>\n",
              "      <td>Afghanistan</td>\n",
              "      <td>51.3</td>\n",
              "      <td>49.9</td>\n",
              "      <td>52.7</td>\n",
              "      <td>Asia</td>\n",
              "    </tr>\n",
              "    <tr>\n",
              "      <th>221</th>\n",
              "      <td>222</td>\n",
              "      <td>Guinea-Bissau</td>\n",
              "      <td>50.6</td>\n",
              "      <td>48.6</td>\n",
              "      <td>52.7</td>\n",
              "      <td>Africa</td>\n",
              "    </tr>\n",
              "    <tr>\n",
              "      <th>222</th>\n",
              "      <td>223</td>\n",
              "      <td>Chad</td>\n",
              "      <td>50.2</td>\n",
              "      <td>49.0</td>\n",
              "      <td>51.3</td>\n",
              "      <td>Africa</td>\n",
              "    </tr>\n",
              "  </tbody>\n",
              "</table>\n",
              "<p>223 rows × 6 columns</p>\n",
              "</div>\n",
              "      <button class=\"colab-df-convert\" onclick=\"convertToInteractive('df-d5226db1-84c1-474c-ba27-a83015bb3ab5')\"\n",
              "              title=\"Convert this dataframe to an interactive table.\"\n",
              "              style=\"display:none;\">\n",
              "        \n",
              "  <svg xmlns=\"http://www.w3.org/2000/svg\" height=\"24px\"viewBox=\"0 0 24 24\"\n",
              "       width=\"24px\">\n",
              "    <path d=\"M0 0h24v24H0V0z\" fill=\"none\"/>\n",
              "    <path d=\"M18.56 5.44l.94 2.06.94-2.06 2.06-.94-2.06-.94-.94-2.06-.94 2.06-2.06.94zm-11 1L8.5 8.5l.94-2.06 2.06-.94-2.06-.94L8.5 2.5l-.94 2.06-2.06.94zm10 10l.94 2.06.94-2.06 2.06-.94-2.06-.94-.94-2.06-.94 2.06-2.06.94z\"/><path d=\"M17.41 7.96l-1.37-1.37c-.4-.4-.92-.59-1.43-.59-.52 0-1.04.2-1.43.59L10.3 9.45l-7.72 7.72c-.78.78-.78 2.05 0 2.83L4 21.41c.39.39.9.59 1.41.59.51 0 1.02-.2 1.41-.59l7.78-7.78 2.81-2.81c.8-.78.8-2.07 0-2.86zM5.41 20L4 18.59l7.72-7.72 1.47 1.35L5.41 20z\"/>\n",
              "  </svg>\n",
              "      </button>\n",
              "      \n",
              "  <style>\n",
              "    .colab-df-container {\n",
              "      display:flex;\n",
              "      flex-wrap:wrap;\n",
              "      gap: 12px;\n",
              "    }\n",
              "\n",
              "    .colab-df-convert {\n",
              "      background-color: #E8F0FE;\n",
              "      border: none;\n",
              "      border-radius: 50%;\n",
              "      cursor: pointer;\n",
              "      display: none;\n",
              "      fill: #1967D2;\n",
              "      height: 32px;\n",
              "      padding: 0 0 0 0;\n",
              "      width: 32px;\n",
              "    }\n",
              "\n",
              "    .colab-df-convert:hover {\n",
              "      background-color: #E2EBFA;\n",
              "      box-shadow: 0px 1px 2px rgba(60, 64, 67, 0.3), 0px 1px 3px 1px rgba(60, 64, 67, 0.15);\n",
              "      fill: #174EA6;\n",
              "    }\n",
              "\n",
              "    [theme=dark] .colab-df-convert {\n",
              "      background-color: #3B4455;\n",
              "      fill: #D2E3FC;\n",
              "    }\n",
              "\n",
              "    [theme=dark] .colab-df-convert:hover {\n",
              "      background-color: #434B5C;\n",
              "      box-shadow: 0px 1px 3px 1px rgba(0, 0, 0, 0.15);\n",
              "      filter: drop-shadow(0px 1px 2px rgba(0, 0, 0, 0.3));\n",
              "      fill: #FFFFFF;\n",
              "    }\n",
              "  </style>\n",
              "\n",
              "      <script>\n",
              "        const buttonEl =\n",
              "          document.querySelector('#df-d5226db1-84c1-474c-ba27-a83015bb3ab5 button.colab-df-convert');\n",
              "        buttonEl.style.display =\n",
              "          google.colab.kernel.accessAllowed ? 'block' : 'none';\n",
              "\n",
              "        async function convertToInteractive(key) {\n",
              "          const element = document.querySelector('#df-d5226db1-84c1-474c-ba27-a83015bb3ab5');\n",
              "          const dataTable =\n",
              "            await google.colab.kernel.invokeFunction('convertToInteractive',\n",
              "                                                     [key], {});\n",
              "          if (!dataTable) return;\n",
              "\n",
              "          const docLinkHtml = 'Like what you see? Visit the ' +\n",
              "            '<a target=\"_blank\" href=https://colab.research.google.com/notebooks/data_table.ipynb>data table notebook</a>'\n",
              "            + ' to learn more about interactive tables.';\n",
              "          element.innerHTML = '';\n",
              "          dataTable['output_type'] = 'display_data';\n",
              "          await google.colab.output.renderOutput(dataTable, element);\n",
              "          const docLink = document.createElement('div');\n",
              "          docLink.innerHTML = docLinkHtml;\n",
              "          element.appendChild(docLink);\n",
              "        }\n",
              "      </script>\n",
              "    </div>\n",
              "  </div>\n",
              "  "
            ]
          },
          "metadata": {},
          "execution_count": 12
        }
      ]
    },
    {
      "cell_type": "markdown",
      "source": [
        "##### Data Describing"
      ],
      "metadata": {
        "id": "61sOYUun_nsZ"
      }
    },
    {
      "cell_type": "code",
      "source": [
        "df2.describe()"
      ],
      "metadata": {
        "id": "WSBUXyaL_qZL",
        "colab": {
          "base_uri": "https://localhost:8080/",
          "height": 300
        },
        "outputId": "7b862ed1-e3f4-4869-9538-762490ba9bc5"
      },
      "execution_count": null,
      "outputs": [
        {
          "output_type": "execute_result",
          "data": {
            "text/plain": [
              "             Rank  Overall Life   Male Life  Female Life\n",
              "count  223.000000    223.000000  223.000000   223.000000\n",
              "mean   112.000000     72.487892   70.041704    75.019283\n",
              "std     64.518731      8.459335    8.074942     8.986633\n",
              "min      1.000000     50.200000   48.600000    51.000000\n",
              "25%     56.500000     67.450000   64.500000    69.750000\n",
              "50%    112.000000     74.900000   72.200000    77.900000\n",
              "75%    167.500000     78.600000   75.850000    81.600000\n",
              "max    223.000000     89.500000   85.600000    93.500000"
            ],
            "text/html": [
              "\n",
              "  <div id=\"df-d2db8a0e-be46-4d59-9065-98b3cb2988b3\">\n",
              "    <div class=\"colab-df-container\">\n",
              "      <div>\n",
              "<style scoped>\n",
              "    .dataframe tbody tr th:only-of-type {\n",
              "        vertical-align: middle;\n",
              "    }\n",
              "\n",
              "    .dataframe tbody tr th {\n",
              "        vertical-align: top;\n",
              "    }\n",
              "\n",
              "    .dataframe thead th {\n",
              "        text-align: right;\n",
              "    }\n",
              "</style>\n",
              "<table border=\"1\" class=\"dataframe\">\n",
              "  <thead>\n",
              "    <tr style=\"text-align: right;\">\n",
              "      <th></th>\n",
              "      <th>Rank</th>\n",
              "      <th>Overall Life</th>\n",
              "      <th>Male Life</th>\n",
              "      <th>Female Life</th>\n",
              "    </tr>\n",
              "  </thead>\n",
              "  <tbody>\n",
              "    <tr>\n",
              "      <th>count</th>\n",
              "      <td>223.000000</td>\n",
              "      <td>223.000000</td>\n",
              "      <td>223.000000</td>\n",
              "      <td>223.000000</td>\n",
              "    </tr>\n",
              "    <tr>\n",
              "      <th>mean</th>\n",
              "      <td>112.000000</td>\n",
              "      <td>72.487892</td>\n",
              "      <td>70.041704</td>\n",
              "      <td>75.019283</td>\n",
              "    </tr>\n",
              "    <tr>\n",
              "      <th>std</th>\n",
              "      <td>64.518731</td>\n",
              "      <td>8.459335</td>\n",
              "      <td>8.074942</td>\n",
              "      <td>8.986633</td>\n",
              "    </tr>\n",
              "    <tr>\n",
              "      <th>min</th>\n",
              "      <td>1.000000</td>\n",
              "      <td>50.200000</td>\n",
              "      <td>48.600000</td>\n",
              "      <td>51.000000</td>\n",
              "    </tr>\n",
              "    <tr>\n",
              "      <th>25%</th>\n",
              "      <td>56.500000</td>\n",
              "      <td>67.450000</td>\n",
              "      <td>64.500000</td>\n",
              "      <td>69.750000</td>\n",
              "    </tr>\n",
              "    <tr>\n",
              "      <th>50%</th>\n",
              "      <td>112.000000</td>\n",
              "      <td>74.900000</td>\n",
              "      <td>72.200000</td>\n",
              "      <td>77.900000</td>\n",
              "    </tr>\n",
              "    <tr>\n",
              "      <th>75%</th>\n",
              "      <td>167.500000</td>\n",
              "      <td>78.600000</td>\n",
              "      <td>75.850000</td>\n",
              "      <td>81.600000</td>\n",
              "    </tr>\n",
              "    <tr>\n",
              "      <th>max</th>\n",
              "      <td>223.000000</td>\n",
              "      <td>89.500000</td>\n",
              "      <td>85.600000</td>\n",
              "      <td>93.500000</td>\n",
              "    </tr>\n",
              "  </tbody>\n",
              "</table>\n",
              "</div>\n",
              "      <button class=\"colab-df-convert\" onclick=\"convertToInteractive('df-d2db8a0e-be46-4d59-9065-98b3cb2988b3')\"\n",
              "              title=\"Convert this dataframe to an interactive table.\"\n",
              "              style=\"display:none;\">\n",
              "        \n",
              "  <svg xmlns=\"http://www.w3.org/2000/svg\" height=\"24px\"viewBox=\"0 0 24 24\"\n",
              "       width=\"24px\">\n",
              "    <path d=\"M0 0h24v24H0V0z\" fill=\"none\"/>\n",
              "    <path d=\"M18.56 5.44l.94 2.06.94-2.06 2.06-.94-2.06-.94-.94-2.06-.94 2.06-2.06.94zm-11 1L8.5 8.5l.94-2.06 2.06-.94-2.06-.94L8.5 2.5l-.94 2.06-2.06.94zm10 10l.94 2.06.94-2.06 2.06-.94-2.06-.94-.94-2.06-.94 2.06-2.06.94z\"/><path d=\"M17.41 7.96l-1.37-1.37c-.4-.4-.92-.59-1.43-.59-.52 0-1.04.2-1.43.59L10.3 9.45l-7.72 7.72c-.78.78-.78 2.05 0 2.83L4 21.41c.39.39.9.59 1.41.59.51 0 1.02-.2 1.41-.59l7.78-7.78 2.81-2.81c.8-.78.8-2.07 0-2.86zM5.41 20L4 18.59l7.72-7.72 1.47 1.35L5.41 20z\"/>\n",
              "  </svg>\n",
              "      </button>\n",
              "      \n",
              "  <style>\n",
              "    .colab-df-container {\n",
              "      display:flex;\n",
              "      flex-wrap:wrap;\n",
              "      gap: 12px;\n",
              "    }\n",
              "\n",
              "    .colab-df-convert {\n",
              "      background-color: #E8F0FE;\n",
              "      border: none;\n",
              "      border-radius: 50%;\n",
              "      cursor: pointer;\n",
              "      display: none;\n",
              "      fill: #1967D2;\n",
              "      height: 32px;\n",
              "      padding: 0 0 0 0;\n",
              "      width: 32px;\n",
              "    }\n",
              "\n",
              "    .colab-df-convert:hover {\n",
              "      background-color: #E2EBFA;\n",
              "      box-shadow: 0px 1px 2px rgba(60, 64, 67, 0.3), 0px 1px 3px 1px rgba(60, 64, 67, 0.15);\n",
              "      fill: #174EA6;\n",
              "    }\n",
              "\n",
              "    [theme=dark] .colab-df-convert {\n",
              "      background-color: #3B4455;\n",
              "      fill: #D2E3FC;\n",
              "    }\n",
              "\n",
              "    [theme=dark] .colab-df-convert:hover {\n",
              "      background-color: #434B5C;\n",
              "      box-shadow: 0px 1px 3px 1px rgba(0, 0, 0, 0.15);\n",
              "      filter: drop-shadow(0px 1px 2px rgba(0, 0, 0, 0.3));\n",
              "      fill: #FFFFFF;\n",
              "    }\n",
              "  </style>\n",
              "\n",
              "      <script>\n",
              "        const buttonEl =\n",
              "          document.querySelector('#df-d2db8a0e-be46-4d59-9065-98b3cb2988b3 button.colab-df-convert');\n",
              "        buttonEl.style.display =\n",
              "          google.colab.kernel.accessAllowed ? 'block' : 'none';\n",
              "\n",
              "        async function convertToInteractive(key) {\n",
              "          const element = document.querySelector('#df-d2db8a0e-be46-4d59-9065-98b3cb2988b3');\n",
              "          const dataTable =\n",
              "            await google.colab.kernel.invokeFunction('convertToInteractive',\n",
              "                                                     [key], {});\n",
              "          if (!dataTable) return;\n",
              "\n",
              "          const docLinkHtml = 'Like what you see? Visit the ' +\n",
              "            '<a target=\"_blank\" href=https://colab.research.google.com/notebooks/data_table.ipynb>data table notebook</a>'\n",
              "            + ' to learn more about interactive tables.';\n",
              "          element.innerHTML = '';\n",
              "          dataTable['output_type'] = 'display_data';\n",
              "          await google.colab.output.renderOutput(dataTable, element);\n",
              "          const docLink = document.createElement('div');\n",
              "          docLink.innerHTML = docLinkHtml;\n",
              "          element.appendChild(docLink);\n",
              "        }\n",
              "      </script>\n",
              "    </div>\n",
              "  </div>\n",
              "  "
            ]
          },
          "metadata": {},
          "execution_count": 13
        }
      ]
    },
    {
      "cell_type": "markdown",
      "source": [
        "1. Count: Jumlah data atau pengamatan dalam suatu variabel. Kolom ini menunjukkan berapa banyak data yang ada dalam variabel tersebut, dan apakah ada nilai yang kosong (missing values).\n",
        "\n",
        "2. Mean: Rata-rata aritmatika dari data dalam variabel tersebut. Kolom ini menunjukkan nilai rata-rata dari data yang ada dalam variabel tersebut.\n",
        "\n",
        "3. Std: Standar deviasi dari data dalam variabel tersebut. Kolom ini menunjukkan besarnya deviasi atau variasi data dari nilai rata-rata. Semakin tinggi nilai standar deviasi, semakin besar variasi data.\n",
        "\n",
        "4. Min: Nilai terkecil dari data dalam variabel tersebut. Kolom ini menunjukkan nilai terkecil atau minimum dari data yang ada dalam variabel tersebut.\n",
        "\n",
        "5. 25%: Quartil pertama atau kuartil bawah. Kolom ini menunjukkan nilai data pada urutan ke-25% dari data yang telah diurutkan dari yang terkecil hingga yang terbesar. Quartil ini juga sering disebut dengan Q1.\n",
        "\n",
        "6. 50%: Median atau nilai tengah dari data dalam variabel tersebut. Kolom ini menunjukkan nilai data pada urutan ke-50% dari data yang telah diurutkan dari yang terkecil hingga yang terbesar. Median ini juga sering disebut dengan Q2.\n",
        "\n",
        "7. 75%: Quartil ketiga atau kuartil atas. Kolom ini menunjukkan nilai data pada urutan ke-75% dari data yang telah diurutkan dari yang terkecil hingga yang terbesar. Quartil ini juga sering disebut dengan Q3.\n",
        "\n",
        "8. Max: Nilai terbesar dari data dalam variabel tersebut. Kolom ini menunjukkan nilai terbesar atau maksimum dari data yang ada dalam variabel tersebut."
      ],
      "metadata": {
        "id": "1_w-drEBw8Gi"
      }
    },
    {
      "cell_type": "code",
      "source": [
        "df2.info()"
      ],
      "metadata": {
        "id": "ZSehjfNP_uJ0",
        "colab": {
          "base_uri": "https://localhost:8080/"
        },
        "outputId": "cb7f3296-ca82-4474-cb4d-1a8e337767ff"
      },
      "execution_count": null,
      "outputs": [
        {
          "output_type": "stream",
          "name": "stdout",
          "text": [
            "<class 'pandas.core.frame.DataFrame'>\n",
            "RangeIndex: 223 entries, 0 to 222\n",
            "Data columns (total 6 columns):\n",
            " #   Column        Non-Null Count  Dtype  \n",
            "---  ------        --------------  -----  \n",
            " 0   Rank          223 non-null    int64  \n",
            " 1   Country       223 non-null    object \n",
            " 2   Overall Life  223 non-null    float64\n",
            " 3   Male Life     223 non-null    float64\n",
            " 4   Female Life   223 non-null    float64\n",
            " 5   Continent     223 non-null    object \n",
            "dtypes: float64(3), int64(1), object(2)\n",
            "memory usage: 10.6+ KB\n"
          ]
        }
      ]
    },
    {
      "cell_type": "markdown",
      "source": [
        "1. Kolom 'Rank' merupakan kolom yang menunjukan peringkat dari suatu negara berdasarkan angka harapan hidup penduduk tertinggi.\n",
        "\n",
        "2. Kolom 'Country' merupakan kolom yang menunjukan daftar negara-negara yang terdata pada dataset harapan hidup penduduk.\n",
        "\n",
        "3. Kolom 'Overall Life' merupakan kolom yang menunjukan angka harapan hidup penduduk secara rata-rata kombinasi dari penduduk berjenis kelamin laki-laki dan penduduk berjenis kelamin perempuan.\n",
        "\n",
        "4. Kolom 'Male Life' merupakan kolom yang menunjukan angka harapan hidup penduduk berjenis kelamin laki-laki pada suatu negara.\n",
        "\n",
        "5. Kolom 'Female Life' merupakan kolom yang menunjukan angka harapan hidup penduduk berjenis kelamin perempuan pada suatu negara.\n",
        "\n",
        "6. Kolom 'Continent' merupakan kolom yang menunjukan asal wilayah regional atau benua dari suatu negara.\n"
      ],
      "metadata": {
        "id": "BC9PYe2R_xfM"
      }
    },
    {
      "cell_type": "markdown",
      "source": [
        "### Explore Data"
      ],
      "metadata": {
        "id": "ndZ6KJ996XPK"
      }
    },
    {
      "cell_type": "code",
      "source": [
        "sns.lineplot(x=\"Continent\", y=\"Overall Life\", data=df2)"
      ],
      "metadata": {
        "id": "hVZbPkBv6Zi8",
        "colab": {
          "base_uri": "https://localhost:8080/"
        },
        "outputId": "b10ed051-af1b-4d6c-c0bf-d3f9fb3a1880"
      },
      "execution_count": null,
      "outputs": [
        {
          "output_type": "execute_result",
          "data": {
            "text/plain": [
              "<Axes: xlabel='Continent', ylabel='Overall Life'>"
            ]
          },
          "metadata": {},
          "execution_count": 396
        },
        {
          "output_type": "display_data",
          "data": {
            "text/plain": [
              "<Figure size 640x480 with 1 Axes>"
            ],
            "image/png": "[encoded data removed]"
          },
          "metadata": {}
        }
      ]
    },
    {
      "cell_type": "code",
      "source": [
        "px.pie(df2, names='Continent')"
      ],
      "metadata": {
        "colab": {
          "base_uri": "https://localhost:8080/"
        },
        "id": "liKYLPfDa2Yh",
        "outputId": "05e29a8e-c7c6-466a-f0fa-3ac41898bdfb"
      },
      "execution_count": null,
      "outputs": [
        {
          "output_type": "display_data",
          "data": {
            "text/html": [
              "<html>\n",
              "<head><meta charset=\"utf-8\" /></head>\n",
              "<body>\n",
              "    <div>            <script src=\"https://cdnjs.cloudflare.com/ajax/libs/mathjax/2.7.5/MathJax.js?config=TeX-AMS-MML_SVG\"></script><script type=\"text/javascript\">if (window.MathJax && window.MathJax.Hub && window.MathJax.Hub.Config) {window.MathJax.Hub.Config({SVG: {font: \"STIX-Web\"}});}</script>                <script type=\"text/javascript\">window.PlotlyConfig = {MathJaxConfig: 'local'};</script>\n",
              "        <script src=\"https://cdn.plot.ly/plotly-2.18.2.min.js\"></script>                <div id=\"c808350f-d154-461a-abdd-5cb805cb7efd\" class=\"plotly-graph-div\" style=\"height:525px; width:100%;\"></div>            <script type=\"text/javascript\">                                    window.PLOTLYENV=window.PLOTLYENV || {};                                    if (document.getElementById(\"c808350f-d154-461a-abdd-5cb805cb7efd\")) {                    Plotly.newPlot(                        \"c808350f-d154-461a-abdd-5cb805cb7efd\",                        [{\"domain\":{\"x\":[0.0,1.0],\"y\":[0.0,1.0]},\"hovertemplate\":\"Continent=%{label}<extra></extra>\",\"labels\":[\"Europe\",\"Asia\",\"Asia\",\"Asia\",\"Europe\",\"Europe\",\"Asia\",\"Europe\",\"Europe\",\"Europe\",\"Asia\",\"Asia\",\"Europe\",\"Oceania\",\"Europe\",\"Europe\",\"North America\",\"Europe\",\"Europe\",\"Europe\",\"Europe\",\"Europe\",\"Europe\",\"North America\",\"North America\",\"Europe\",\"North America\",\"Europe\",\"Oceania\",\"Europe\",\"Europe\",\"Europe\",\"Europe\",\"Europe\",\"Europe\",\"North America\",\"Europe\",\"Europe\",\"Europe\",\"Asia\",\"North America\",\"North America\",\"North America\",\"Oceania\",\"Africa\",\"Europe\",\"Europe\",\"North America\",\"Europe\",\"Asia\",\"South America\",\"North America\",\"Europe\",\"Asia\",\"North America\",\"North America\",\"Europe\",\"North America\",\"Europe\",\"Europe\",\"North America\",\"North America\",\"Asia\",\"Oceania\",\"South America\",\"North America\",\"Oceania\",\"Asia\",\"Europe\",\"Asia\",\"Asia\",\"Oceania\",\"South America\",\"South America\",\"South America\",\"Europe\",\"North America\",\"Africa\",\"Africa\",\"South America\",\"South America\",\"Asia\",\"Europe\",\"Europe\",\"North America\",\"Africa\",\"Europe\",\"Europe\",\"Oceania\",\"Africa\",\"Europe\",\"Europe\",\"North America\",\"Oceania\",\"South America\",\"South America\",\"North America\",\"Asia\",\"Africa\",\"Asia\",\"Asia\",\"Europe\",\"Oceania\",\"North America\",\"North America\",\"Asia\",\"Oceania\",\"Europe\",\"Asia\",\"Asia\",\"Asia\",\"Europe\",\"Asia\",\"Asia\",\"North America\",\"Africa\",\"Asia\",\"Europe\",\"Asia\",\"Europe\",\"Europe\",\"North America\",\"North America\",\"Asia\",\"South America\",\"Asia\",\"South America\",\"Oceania\",\"North America\",\"Oceania\",\"Asia\",\"Asia\",\"North America\",\"Oceania\",\"Oceania\",\"Oceania\",\"North America\",\"Europe\",\"Africa\",\"Oceania\",\"Asia\",\"Europe\",\"North America\",\"North America\",\"North America\",\"South America\",\"Africa\",\"Europe\",\"Asia\",\"North America\",\"Asia\",\"Asia\",\"Europe\",\"Asia\",\"Asia\",\"Asia\",\"Asia\",\"Asia\",\"Asia\",\"South America\",\"Asia\",\"North America\",\"Asia\",\"South America\",\"Asia\",\"Asia\",\"Asia\",\"Oceania\",\"Oceania\",\"Asia\",\"Africa\",\"Oceania\",\"Oceania\",\"Africa\",\"Asia\",\"Africa\",\"Africa\",\"Africa\",\"Africa\",\"Asia\",\"Asia\",\"Africa\",\"Africa\",\"Africa\",\"Africa\",\"North America\",\"Africa\",\"Africa\",\"Africa\",\"Africa\",\"Africa\",\"Africa\",\"Africa\",\"Africa\",\"Africa\",\"Africa\",\"Africa\",\"Africa\",\"Africa\",\"Africa\",\"Africa\",\"Africa\",\"Africa\",\"Africa\",\"Africa\",\"Africa\",\"Africa\",\"Africa\",\"Africa\",\"Africa\",\"Africa\",\"Africa\",\"Africa\",\"Africa\",\"Africa\",\"Africa\",\"Africa\",\"Africa\",\"Africa\",\"Africa\",\"Asia\",\"Africa\",\"Africa\"],\"legendgroup\":\"\",\"name\":\"\",\"showlegend\":true,\"type\":\"pie\"}],                        {\"template\":{\"data\":{\"histogram2dcontour\":[{\"type\":\"histogram2dcontour\",\"colorbar\":{\"outlinewidth\":0,\"ticks\":\"\"},\"colorscale\":[[0.0,\"#0d0887\"],[0.1111111111111111,\"#46039f\"],[0.2222222222222222,\"#7201a8\"],[0.3333333333333333,\"#9c179e\"],[0.4444444444444444,\"#bd3786\"],[0.5555555555555556,\"#d8576b\"],[0.6666666666666666,\"#ed7953\"],[0.7777777777777778,\"#fb9f3a\"],[0.8888888888888888,\"#fdca26\"],[1.0,\"#f0f921\"]]}],\"choropleth\":[{\"type\":\"choropleth\",\"colorbar\":{\"outlinewidth\":0,\"ticks\":\"\"}}],\"histogram2d\":[{\"type\":\"histogram2d\",\"colorbar\":{\"outlinewidth\":0,\"ticks\":\"\"},\"colorscale\":[[0.0,\"#0d0887\"],[0.1111111111111111,\"#46039f\"],[0.2222222222222222,\"#7201a8\"],[0.3333333333333333,\"#9c179e\"],[0.4444444444444444,\"#bd3786\"],[0.5555555555555556,\"#d8576b\"],[0.6666666666666666,\"#ed7953\"],[0.7777777777777778,\"#fb9f3a\"],[0.8888888888888888,\"#fdca26\"],[1.0,\"#f0f921\"]]}],\"heatmap\":[{\"type\":\"heatmap\",\"colorbar\":{\"outlinewidth\":0,\"ticks\":\"\"},\"colorscale\":[[0.0,\"#0d0887\"],[0.1111111111111111,\"#46039f\"],[0.2222222222222222,\"#7201a8\"],[0.3333333333333333,\"#9c179e\"],[0.4444444444444444,\"#bd3786\"],[0.5555555555555556,\"#d8576b\"],[0.6666666666666666,\"#ed7953\"],[0.7777777777777778,\"#fb9f3a\"],[0.8888888888888888,\"#fdca26\"],[1.0,\"#f0f921\"]]}],\"heatmapgl\":[{\"type\":\"heatmapgl\",\"colorbar\":{\"outlinewidth\":0,\"ticks\":\"\"},\"colorscale\":[[0.0,\"#0d0887\"],[0.1111111111111111,\"#46039f\"],[0.2222222222222222,\"#7201a8\"],[0.3333333333333333,\"#9c179e\"],[0.4444444444444444,\"#bd3786\"],[0.5555555555555556,\"#d8576b\"],[0.6666666666666666,\"#ed7953\"],[0.7777777777777778,\"#fb9f3a\"],[0.8888888888888888,\"#fdca26\"],[1.0,\"#f0f921\"]]}],\"contourcarpet\":[{\"type\":\"contourcarpet\",\"colorbar\":{\"outlinewidth\":0,\"ticks\":\"\"}}],\"contour\":[{\"type\":\"contour\",\"colorbar\":{\"outlinewidth\":0,\"ticks\":\"\"},\"colorscale\":[[0.0,\"#0d0887\"],[0.1111111111111111,\"#46039f\"],[0.2222222222222222,\"#7201a8\"],[0.3333333333333333,\"#9c179e\"],[0.4444444444444444,\"#bd3786\"],[0.5555555555555556,\"#d8576b\"],[0.6666666666666666,\"#ed7953\"],[0.7777777777777778,\"#fb9f3a\"],[0.8888888888888888,\"#fdca26\"],[1.0,\"#f0f921\"]]}],\"surface\":[{\"type\":\"surface\",\"colorbar\":{\"outlinewidth\":0,\"ticks\":\"\"},\"colorscale\":[[0.0,\"#0d0887\"],[0.1111111111111111,\"#46039f\"],[0.2222222222222222,\"#7201a8\"],[0.3333333333333333,\"#9c179e\"],[0.4444444444444444,\"#bd3786\"],[0.5555555555555556,\"#d8576b\"],[0.6666666666666666,\"#ed7953\"],[0.7777777777777778,\"#fb9f3a\"],[0.8888888888888888,\"#fdca26\"],[1.0,\"#f0f921\"]]}],\"mesh3d\":[{\"type\":\"mesh3d\",\"colorbar\":{\"outlinewidth\":0,\"ticks\":\"\"}}],\"scatter\":[{\"fillpattern\":{\"fillmode\":\"overlay\",\"size\":10,\"solidity\":0.2},\"type\":\"scatter\"}],\"parcoords\":[{\"type\":\"parcoords\",\"line\":{\"colorbar\":{\"outlinewidth\":0,\"ticks\":\"\"}}}],\"scatterpolargl\":[{\"type\":\"scatterpolargl\",\"marker\":{\"colorbar\":{\"outlinewidth\":0,\"ticks\":\"\"}}}],\"bar\":[{\"error_x\":{\"color\":\"#2a3f5f\"},\"error_y\":{\"color\":\"#2a3f5f\"},\"marker\":{\"line\":{\"color\":\"#E5ECF6\",\"width\":0.5},\"pattern\":{\"fillmode\":\"overlay\",\"size\":10,\"solidity\":0.2}},\"type\":\"bar\"}],\"scattergeo\":[{\"type\":\"scattergeo\",\"marker\":{\"colorbar\":{\"outlinewidth\":0,\"ticks\":\"\"}}}],\"scatterpolar\":[{\"type\":\"scatterpolar\",\"marker\":{\"colorbar\":{\"outlinewidth\":0,\"ticks\":\"\"}}}],\"histogram\":[{\"marker\":{\"pattern\":{\"fillmode\":\"overlay\",\"size\":10,\"solidity\":0.2}},\"type\":\"histogram\"}],\"scattergl\":[{\"type\":\"scattergl\",\"marker\":{\"colorbar\":{\"outlinewidth\":0,\"ticks\":\"\"}}}],\"scatter3d\":[{\"type\":\"scatter3d\",\"line\":{\"colorbar\":{\"outlinewidth\":0,\"ticks\":\"\"}},\"marker\":{\"colorbar\":{\"outlinewidth\":0,\"ticks\":\"\"}}}],\"scattermapbox\":[{\"type\":\"scattermapbox\",\"marker\":{\"colorbar\":{\"outlinewidth\":0,\"ticks\":\"\"}}}],\"scatterternary\":[{\"type\":\"scatterternary\",\"marker\":{\"colorbar\":{\"outlinewidth\":0,\"ticks\":\"\"}}}],\"scattercarpet\":[{\"type\":\"scattercarpet\",\"marker\":{\"colorbar\":{\"outlinewidth\":0,\"ticks\":\"\"}}}],\"carpet\":[{\"aaxis\":{\"endlinecolor\":\"#2a3f5f\",\"gridcolor\":\"white\",\"linecolor\":\"white\",\"minorgridcolor\":\"white\",\"startlinecolor\":\"#2a3f5f\"},\"baxis\":{\"endlinecolor\":\"#2a3f5f\",\"gridcolor\":\"white\",\"linecolor\":\"white\",\"minorgridcolor\":\"white\",\"startlinecolor\":\"#2a3f5f\"},\"type\":\"carpet\"}],\"table\":[{\"cells\":{\"fill\":{\"color\":\"#EBF0F8\"},\"line\":{\"color\":\"white\"}},\"header\":{\"fill\":{\"color\":\"#C8D4E3\"},\"line\":{\"color\":\"white\"}},\"type\":\"table\"}],\"barpolar\":[{\"marker\":{\"line\":{\"color\":\"#E5ECF6\",\"width\":0.5},\"pattern\":{\"fillmode\":\"overlay\",\"size\":10,\"solidity\":0.2}},\"type\":\"barpolar\"}],\"pie\":[{\"automargin\":true,\"type\":\"pie\"}]},\"layout\":{\"autotypenumbers\":\"strict\",\"colorway\":[\"#636efa\",\"#EF553B\",\"#00cc96\",\"#ab63fa\",\"#FFA15A\",\"#19d3f3\",\"#FF6692\",\"#B6E880\",\"#FF97FF\",\"#FECB52\"],\"font\":{\"color\":\"#2a3f5f\"},\"hovermode\":\"closest\",\"hoverlabel\":{\"align\":\"left\"},\"paper_bgcolor\":\"white\",\"plot_bgcolor\":\"#E5ECF6\",\"polar\":{\"bgcolor\":\"#E5ECF6\",\"angularaxis\":{\"gridcolor\":\"white\",\"linecolor\":\"white\",\"ticks\":\"\"},\"radialaxis\":{\"gridcolor\":\"white\",\"linecolor\":\"white\",\"ticks\":\"\"}},\"ternary\":{\"bgcolor\":\"#E5ECF6\",\"aaxis\":{\"gridcolor\":\"white\",\"linecolor\":\"white\",\"ticks\":\"\"},\"baxis\":{\"gridcolor\":\"white\",\"linecolor\":\"white\",\"ticks\":\"\"},\"caxis\":{\"gridcolor\":\"white\",\"linecolor\":\"white\",\"ticks\":\"\"}},\"coloraxis\":{\"colorbar\":{\"outlinewidth\":0,\"ticks\":\"\"}},\"colorscale\":{\"sequential\":[[0.0,\"#0d0887\"],[0.1111111111111111,\"#46039f\"],[0.2222222222222222,\"#7201a8\"],[0.3333333333333333,\"#9c179e\"],[0.4444444444444444,\"#bd3786\"],[0.5555555555555556,\"#d8576b\"],[0.6666666666666666,\"#ed7953\"],[0.7777777777777778,\"#fb9f3a\"],[0.8888888888888888,\"#fdca26\"],[1.0,\"#f0f921\"]],\"sequentialminus\":[[0.0,\"#0d0887\"],[0.1111111111111111,\"#46039f\"],[0.2222222222222222,\"#7201a8\"],[0.3333333333333333,\"#9c179e\"],[0.4444444444444444,\"#bd3786\"],[0.5555555555555556,\"#d8576b\"],[0.6666666666666666,\"#ed7953\"],[0.7777777777777778,\"#fb9f3a\"],[0.8888888888888888,\"#fdca26\"],[1.0,\"#f0f921\"]],\"diverging\":[[0,\"#8e0152\"],[0.1,\"#c51b7d\"],[0.2,\"#de77ae\"],[0.3,\"#f1b6da\"],[0.4,\"#fde0ef\"],[0.5,\"#f7f7f7\"],[0.6,\"#e6f5d0\"],[0.7,\"#b8e186\"],[0.8,\"#7fbc41\"],[0.9,\"#4d9221\"],[1,\"#276419\"]]},\"xaxis\":{\"gridcolor\":\"white\",\"linecolor\":\"white\",\"ticks\":\"\",\"title\":{\"standoff\":15},\"zerolinecolor\":\"white\",\"automargin\":true,\"zerolinewidth\":2},\"yaxis\":{\"gridcolor\":\"white\",\"linecolor\":\"white\",\"ticks\":\"\",\"title\":{\"standoff\":15},\"zerolinecolor\":\"white\",\"automargin\":true,\"zerolinewidth\":2},\"scene\":{\"xaxis\":{\"backgroundcolor\":\"#E5ECF6\",\"gridcolor\":\"white\",\"linecolor\":\"white\",\"showbackground\":true,\"ticks\":\"\",\"zerolinecolor\":\"white\",\"gridwidth\":2},\"yaxis\":{\"backgroundcolor\":\"#E5ECF6\",\"gridcolor\":\"white\",\"linecolor\":\"white\",\"showbackground\":true,\"ticks\":\"\",\"zerolinecolor\":\"white\",\"gridwidth\":2},\"zaxis\":{\"backgroundcolor\":\"#E5ECF6\",\"gridcolor\":\"white\",\"linecolor\":\"white\",\"showbackground\":true,\"ticks\":\"\",\"zerolinecolor\":\"white\",\"gridwidth\":2}},\"shapedefaults\":{\"line\":{\"color\":\"#2a3f5f\"}},\"annotationdefaults\":{\"arrowcolor\":\"#2a3f5f\",\"arrowhead\":0,\"arrowwidth\":1},\"geo\":{\"bgcolor\":\"white\",\"landcolor\":\"#E5ECF6\",\"subunitcolor\":\"white\",\"showland\":true,\"showlakes\":true,\"lakecolor\":\"white\"},\"title\":{\"x\":0.05},\"mapbox\":{\"style\":\"light\"}}},\"legend\":{\"tracegroupgap\":0},\"margin\":{\"t\":60}},                        {\"responsive\": true}                    ).then(function(){\n",
              "                            \n",
              "var gd = document.getElementById('c808350f-d154-461a-abdd-5cb805cb7efd');\n",
              "var x = new MutationObserver(function (mutations, observer) {{\n",
              "        var display = window.getComputedStyle(gd).display;\n",
              "        if (!display || display === 'none') {{\n",
              "            console.log([gd, 'removed!']);\n",
              "            Plotly.purge(gd);\n",
              "            observer.disconnect();\n",
              "        }}\n",
              "}});\n",
              "\n",
              "// Listen for the removal of the full notebook cells\n",
              "var notebookContainer = gd.closest('#notebook-container');\n",
              "if (notebookContainer) {{\n",
              "    x.observe(notebookContainer, {childList: true});\n",
              "}}\n",
              "\n",
              "// Listen for the clearing of the current output cell\n",
              "var outputEl = gd.closest('.output');\n",
              "if (outputEl) {{\n",
              "    x.observe(outputEl, {childList: true});\n",
              "}}\n",
              "\n",
              "                        })                };                            </script>        </div>\n",
              "</body>\n",
              "</html>"
            ]
          },
          "metadata": {}
        }
      ]
    },
    {
      "cell_type": "code",
      "source": [
        "df2_continent = df2.groupby('Continent')[['Male Life', 'Female Life']].sum()\n",
        "\n",
        "# Count number of data for each category in the 'Continent' column\n",
        "continent_count = df2['Continent'].value_counts()\n",
        "\n",
        "# Print number of data for each category in the 'Continent' column\n",
        "print(continent_count)\n",
        "\n",
        "# Print number of data for each category in the 'Male Life' column\n",
        "print(df2['Male Life'].value_counts())\n",
        "\n",
        "# Print number of data for each category in the 'Female Life' column\n",
        "print(df2['Female Life'].value_counts())"
      ],
      "metadata": {
        "id": "FWleHIYQ-Y59",
        "colab": {
          "base_uri": "https://localhost:8080/"
        },
        "outputId": "52d77338-262a-425f-a7a0-9ef172209057"
      },
      "execution_count": null,
      "outputs": [
        {
          "output_type": "stream",
          "name": "stdout",
          "text": [
            "Africa           55\n",
            "Europe           51\n",
            "Asia             49\n",
            "North America    34\n",
            "Oceania          20\n",
            "South America    14\n",
            "Name: Continent, dtype: int64\n",
            "75.8    5\n",
            "73.7    4\n",
            "73.3    4\n",
            "72.7    3\n",
            "78.5    3\n",
            "       ..\n",
            "74.1    1\n",
            "74.5    1\n",
            "74.9    1\n",
            "76.3    1\n",
            "49.0    1\n",
            "Name: Male Life, Length: 153, dtype: int64\n",
            "78.0    4\n",
            "78.8    4\n",
            "65.4    3\n",
            "83.0    3\n",
            "83.2    3\n",
            "       ..\n",
            "76.1    1\n",
            "77.3    1\n",
            "77.2    1\n",
            "77.7    1\n",
            "51.3    1\n",
            "Name: Female Life, Length: 151, dtype: int64\n"
          ]
        }
      ]
    },
    {
      "cell_type": "markdown",
      "source": [
        "### Data Preparation"
      ],
      "metadata": {
        "id": "3B-cbD7c_5yn"
      }
    },
    {
      "cell_type": "markdown",
      "source": [
        "##### Missing Value Check"
      ],
      "metadata": {
        "id": "m3gIemFR81iG"
      }
    },
    {
      "cell_type": "code",
      "source": [
        "df2.isna().sum()"
      ],
      "metadata": {
        "id": "0GpxLBJL81L6",
        "outputId": "d6a80fdc-c5c8-4bab-dfa9-6a5233ead517",
        "colab": {
          "base_uri": "https://localhost:8080/"
        }
      },
      "execution_count": null,
      "outputs": [
        {
          "output_type": "execute_result",
          "data": {
            "text/plain": [
              "Rank            0\n",
              "Country         0\n",
              "Overall Life    0\n",
              "Male Life       0\n",
              "Female Life     0\n",
              "Continent       0\n",
              "dtype: int64"
            ]
          },
          "metadata": {},
          "execution_count": 15
        }
      ]
    },
    {
      "cell_type": "code",
      "source": [
        "df2.head()"
      ],
      "metadata": {
        "id": "mA7ncA0i87F3",
        "outputId": "42fdaf4b-4370-4b49-ee13-b66b504f9ba1",
        "colab": {
          "base_uri": "https://localhost:8080/",
          "height": 206
        }
      },
      "execution_count": null,
      "outputs": [
        {
          "output_type": "execute_result",
          "data": {
            "text/plain": [
              "   Rank       Country  Overall Life  Male Life  Female Life Continent\n",
              "0     1        Monaco          89.5       85.6         93.5    Europe\n",
              "1     2         Japan          85.0       81.7         88.5      Asia\n",
              "2     3     Singapore          85.0       82.3         87.8      Asia\n",
              "3     4  Macau; China          84.5       81.6         87.6      Asia\n",
              "4     5    San Marino          83.3       80.7         86.1    Europe"
            ],
            "text/html": [
              "\n",
              "  <div id=\"df-4b87a404-880d-4505-85ed-f9460efb42cb\">\n",
              "    <div class=\"colab-df-container\">\n",
              "      <div>\n",
              "<style scoped>\n",
              "    .dataframe tbody tr th:only-of-type {\n",
              "        vertical-align: middle;\n",
              "    }\n",
              "\n",
              "    .dataframe tbody tr th {\n",
              "        vertical-align: top;\n",
              "    }\n",
              "\n",
              "    .dataframe thead th {\n",
              "        text-align: right;\n",
              "    }\n",
              "</style>\n",
              "<table border=\"1\" class=\"dataframe\">\n",
              "  <thead>\n",
              "    <tr style=\"text-align: right;\">\n",
              "      <th></th>\n",
              "      <th>Rank</th>\n",
              "      <th>Country</th>\n",
              "      <th>Overall Life</th>\n",
              "      <th>Male Life</th>\n",
              "      <th>Female Life</th>\n",
              "      <th>Continent</th>\n",
              "    </tr>\n",
              "  </thead>\n",
              "  <tbody>\n",
              "    <tr>\n",
              "      <th>0</th>\n",
              "      <td>1</td>\n",
              "      <td>Monaco</td>\n",
              "      <td>89.5</td>\n",
              "      <td>85.6</td>\n",
              "      <td>93.5</td>\n",
              "      <td>Europe</td>\n",
              "    </tr>\n",
              "    <tr>\n",
              "      <th>1</th>\n",
              "      <td>2</td>\n",
              "      <td>Japan</td>\n",
              "      <td>85.0</td>\n",
              "      <td>81.7</td>\n",
              "      <td>88.5</td>\n",
              "      <td>Asia</td>\n",
              "    </tr>\n",
              "    <tr>\n",
              "      <th>2</th>\n",
              "      <td>3</td>\n",
              "      <td>Singapore</td>\n",
              "      <td>85.0</td>\n",
              "      <td>82.3</td>\n",
              "      <td>87.8</td>\n",
              "      <td>Asia</td>\n",
              "    </tr>\n",
              "    <tr>\n",
              "      <th>3</th>\n",
              "      <td>4</td>\n",
              "      <td>Macau; China</td>\n",
              "      <td>84.5</td>\n",
              "      <td>81.6</td>\n",
              "      <td>87.6</td>\n",
              "      <td>Asia</td>\n",
              "    </tr>\n",
              "    <tr>\n",
              "      <th>4</th>\n",
              "      <td>5</td>\n",
              "      <td>San Marino</td>\n",
              "      <td>83.3</td>\n",
              "      <td>80.7</td>\n",
              "      <td>86.1</td>\n",
              "      <td>Europe</td>\n",
              "    </tr>\n",
              "  </tbody>\n",
              "</table>\n",
              "</div>\n",
              "      <button class=\"colab-df-convert\" onclick=\"convertToInteractive('df-4b87a404-880d-4505-85ed-f9460efb42cb')\"\n",
              "              title=\"Convert this dataframe to an interactive table.\"\n",
              "              style=\"display:none;\">\n",
              "        \n",
              "  <svg xmlns=\"http://www.w3.org/2000/svg\" height=\"24px\"viewBox=\"0 0 24 24\"\n",
              "       width=\"24px\">\n",
              "    <path d=\"M0 0h24v24H0V0z\" fill=\"none\"/>\n",
              "    <path d=\"M18.56 5.44l.94 2.06.94-2.06 2.06-.94-2.06-.94-.94-2.06-.94 2.06-2.06.94zm-11 1L8.5 8.5l.94-2.06 2.06-.94-2.06-.94L8.5 2.5l-.94 2.06-2.06.94zm10 10l.94 2.06.94-2.06 2.06-.94-2.06-.94-.94-2.06-.94 2.06-2.06.94z\"/><path d=\"M17.41 7.96l-1.37-1.37c-.4-.4-.92-.59-1.43-.59-.52 0-1.04.2-1.43.59L10.3 9.45l-7.72 7.72c-.78.78-.78 2.05 0 2.83L4 21.41c.39.39.9.59 1.41.59.51 0 1.02-.2 1.41-.59l7.78-7.78 2.81-2.81c.8-.78.8-2.07 0-2.86zM5.41 20L4 18.59l7.72-7.72 1.47 1.35L5.41 20z\"/>\n",
              "  </svg>\n",
              "      </button>\n",
              "      \n",
              "  <style>\n",
              "    .colab-df-container {\n",
              "      display:flex;\n",
              "      flex-wrap:wrap;\n",
              "      gap: 12px;\n",
              "    }\n",
              "\n",
              "    .colab-df-convert {\n",
              "      background-color: #E8F0FE;\n",
              "      border: none;\n",
              "      border-radius: 50%;\n",
              "      cursor: pointer;\n",
              "      display: none;\n",
              "      fill: #1967D2;\n",
              "      height: 32px;\n",
              "      padding: 0 0 0 0;\n",
              "      width: 32px;\n",
              "    }\n",
              "\n",
              "    .colab-df-convert:hover {\n",
              "      background-color: #E2EBFA;\n",
              "      box-shadow: 0px 1px 2px rgba(60, 64, 67, 0.3), 0px 1px 3px 1px rgba(60, 64, 67, 0.15);\n",
              "      fill: #174EA6;\n",
              "    }\n",
              "\n",
              "    [theme=dark] .colab-df-convert {\n",
              "      background-color: #3B4455;\n",
              "      fill: #D2E3FC;\n",
              "    }\n",
              "\n",
              "    [theme=dark] .colab-df-convert:hover {\n",
              "      background-color: #434B5C;\n",
              "      box-shadow: 0px 1px 3px 1px rgba(0, 0, 0, 0.15);\n",
              "      filter: drop-shadow(0px 1px 2px rgba(0, 0, 0, 0.3));\n",
              "      fill: #FFFFFF;\n",
              "    }\n",
              "  </style>\n",
              "\n",
              "      <script>\n",
              "        const buttonEl =\n",
              "          document.querySelector('#df-4b87a404-880d-4505-85ed-f9460efb42cb button.colab-df-convert');\n",
              "        buttonEl.style.display =\n",
              "          google.colab.kernel.accessAllowed ? 'block' : 'none';\n",
              "\n",
              "        async function convertToInteractive(key) {\n",
              "          const element = document.querySelector('#df-4b87a404-880d-4505-85ed-f9460efb42cb');\n",
              "          const dataTable =\n",
              "            await google.colab.kernel.invokeFunction('convertToInteractive',\n",
              "                                                     [key], {});\n",
              "          if (!dataTable) return;\n",
              "\n",
              "          const docLinkHtml = 'Like what you see? Visit the ' +\n",
              "            '<a target=\"_blank\" href=https://colab.research.google.com/notebooks/data_table.ipynb>data table notebook</a>'\n",
              "            + ' to learn more about interactive tables.';\n",
              "          element.innerHTML = '';\n",
              "          dataTable['output_type'] = 'display_data';\n",
              "          await google.colab.output.renderOutput(dataTable, element);\n",
              "          const docLink = document.createElement('div');\n",
              "          docLink.innerHTML = docLinkHtml;\n",
              "          element.appendChild(docLink);\n",
              "        }\n",
              "      </script>\n",
              "    </div>\n",
              "  </div>\n",
              "  "
            ]
          },
          "metadata": {},
          "execution_count": 16
        }
      ]
    },
    {
      "cell_type": "markdown",
      "source": [
        "##### Data Transformation"
      ],
      "metadata": {
        "id": "fCQbtUma9Ek6"
      }
    },
    {
      "cell_type": "markdown",
      "source": [],
      "metadata": {
        "id": "T-UWqjSfbnho"
      }
    },
    {
      "cell_type": "code",
      "source": [
        "df2 = df2.drop('Rank',axis = 1)"
      ],
      "metadata": {
        "id": "sJ0AQiSYep6T"
      },
      "execution_count": null,
      "outputs": []
    },
    {
      "cell_type": "code",
      "source": [
        "df2 = df2.drop(3)"
      ],
      "metadata": {
        "id": "PYqT19WzeMpB"
      },
      "execution_count": null,
      "outputs": []
    },
    {
      "cell_type": "code",
      "source": [
        "df2"
      ],
      "metadata": {
        "id": "lKvbCH4PeXe3",
        "outputId": "62df2b99-7658-45b5-8810-8db19ddca338",
        "colab": {
          "base_uri": "https://localhost:8080/",
          "height": 423
        }
      },
      "execution_count": null,
      "outputs": [
        {
          "output_type": "execute_result",
          "data": {
            "text/plain": [
              "           Country  Overall Life  Male Life  Female Life Continent\n",
              "0           Monaco          89.5       85.6         93.5    Europe\n",
              "1            Japan          85.0       81.7         88.5      Asia\n",
              "2        Singapore          85.0       82.3         87.8      Asia\n",
              "4       San Marino          83.3       80.7         86.1    Europe\n",
              "5          Iceland          83.0       80.9         85.3    Europe\n",
              "..             ...           ...        ...          ...       ...\n",
              "218          Gabon          52.1       51.6         52.5    Africa\n",
              "219      Swaziland          51.6       52.2         51.0    Africa\n",
              "220    Afghanistan          51.3       49.9         52.7      Asia\n",
              "221  Guinea-Bissau          50.6       48.6         52.7    Africa\n",
              "222           Chad          50.2       49.0         51.3    Africa\n",
              "\n",
              "[222 rows x 5 columns]"
            ],
            "text/html": [
              "\n",
              "  <div id=\"df-0accd34f-8cc4-40d0-bd86-70aa15a59e69\">\n",
              "    <div class=\"colab-df-container\">\n",
              "      <div>\n",
              "<style scoped>\n",
              "    .dataframe tbody tr th:only-of-type {\n",
              "        vertical-align: middle;\n",
              "    }\n",
              "\n",
              "    .dataframe tbody tr th {\n",
              "        vertical-align: top;\n",
              "    }\n",
              "\n",
              "    .dataframe thead th {\n",
              "        text-align: right;\n",
              "    }\n",
              "</style>\n",
              "<table border=\"1\" class=\"dataframe\">\n",
              "  <thead>\n",
              "    <tr style=\"text-align: right;\">\n",
              "      <th></th>\n",
              "      <th>Country</th>\n",
              "      <th>Overall Life</th>\n",
              "      <th>Male Life</th>\n",
              "      <th>Female Life</th>\n",
              "      <th>Continent</th>\n",
              "    </tr>\n",
              "  </thead>\n",
              "  <tbody>\n",
              "    <tr>\n",
              "      <th>0</th>\n",
              "      <td>Monaco</td>\n",
              "      <td>89.5</td>\n",
              "      <td>85.6</td>\n",
              "      <td>93.5</td>\n",
              "      <td>Europe</td>\n",
              "    </tr>\n",
              "    <tr>\n",
              "      <th>1</th>\n",
              "      <td>Japan</td>\n",
              "      <td>85.0</td>\n",
              "      <td>81.7</td>\n",
              "      <td>88.5</td>\n",
              "      <td>Asia</td>\n",
              "    </tr>\n",
              "    <tr>\n",
              "      <th>2</th>\n",
              "      <td>Singapore</td>\n",
              "      <td>85.0</td>\n",
              "      <td>82.3</td>\n",
              "      <td>87.8</td>\n",
              "      <td>Asia</td>\n",
              "    </tr>\n",
              "    <tr>\n",
              "      <th>4</th>\n",
              "      <td>San Marino</td>\n",
              "      <td>83.3</td>\n",
              "      <td>80.7</td>\n",
              "      <td>86.1</td>\n",
              "      <td>Europe</td>\n",
              "    </tr>\n",
              "    <tr>\n",
              "      <th>5</th>\n",
              "      <td>Iceland</td>\n",
              "      <td>83.0</td>\n",
              "      <td>80.9</td>\n",
              "      <td>85.3</td>\n",
              "      <td>Europe</td>\n",
              "    </tr>\n",
              "    <tr>\n",
              "      <th>...</th>\n",
              "      <td>...</td>\n",
              "      <td>...</td>\n",
              "      <td>...</td>\n",
              "      <td>...</td>\n",
              "      <td>...</td>\n",
              "    </tr>\n",
              "    <tr>\n",
              "      <th>218</th>\n",
              "      <td>Gabon</td>\n",
              "      <td>52.1</td>\n",
              "      <td>51.6</td>\n",
              "      <td>52.5</td>\n",
              "      <td>Africa</td>\n",
              "    </tr>\n",
              "    <tr>\n",
              "      <th>219</th>\n",
              "      <td>Swaziland</td>\n",
              "      <td>51.6</td>\n",
              "      <td>52.2</td>\n",
              "      <td>51.0</td>\n",
              "      <td>Africa</td>\n",
              "    </tr>\n",
              "    <tr>\n",
              "      <th>220</th>\n",
              "      <td>Afghanistan</td>\n",
              "      <td>51.3</td>\n",
              "      <td>49.9</td>\n",
              "      <td>52.7</td>\n",
              "      <td>Asia</td>\n",
              "    </tr>\n",
              "    <tr>\n",
              "      <th>221</th>\n",
              "      <td>Guinea-Bissau</td>\n",
              "      <td>50.6</td>\n",
              "      <td>48.6</td>\n",
              "      <td>52.7</td>\n",
              "      <td>Africa</td>\n",
              "    </tr>\n",
              "    <tr>\n",
              "      <th>222</th>\n",
              "      <td>Chad</td>\n",
              "      <td>50.2</td>\n",
              "      <td>49.0</td>\n",
              "      <td>51.3</td>\n",
              "      <td>Africa</td>\n",
              "    </tr>\n",
              "  </tbody>\n",
              "</table>\n",
              "<p>222 rows × 5 columns</p>\n",
              "</div>\n",
              "      <button class=\"colab-df-convert\" onclick=\"convertToInteractive('df-0accd34f-8cc4-40d0-bd86-70aa15a59e69')\"\n",
              "              title=\"Convert this dataframe to an interactive table.\"\n",
              "              style=\"display:none;\">\n",
              "        \n",
              "  <svg xmlns=\"http://www.w3.org/2000/svg\" height=\"24px\"viewBox=\"0 0 24 24\"\n",
              "       width=\"24px\">\n",
              "    <path d=\"M0 0h24v24H0V0z\" fill=\"none\"/>\n",
              "    <path d=\"M18.56 5.44l.94 2.06.94-2.06 2.06-.94-2.06-.94-.94-2.06-.94 2.06-2.06.94zm-11 1L8.5 8.5l.94-2.06 2.06-.94-2.06-.94L8.5 2.5l-.94 2.06-2.06.94zm10 10l.94 2.06.94-2.06 2.06-.94-2.06-.94-.94-2.06-.94 2.06-2.06.94z\"/><path d=\"M17.41 7.96l-1.37-1.37c-.4-.4-.92-.59-1.43-.59-.52 0-1.04.2-1.43.59L10.3 9.45l-7.72 7.72c-.78.78-.78 2.05 0 2.83L4 21.41c.39.39.9.59 1.41.59.51 0 1.02-.2 1.41-.59l7.78-7.78 2.81-2.81c.8-.78.8-2.07 0-2.86zM5.41 20L4 18.59l7.72-7.72 1.47 1.35L5.41 20z\"/>\n",
              "  </svg>\n",
              "      </button>\n",
              "      \n",
              "  <style>\n",
              "    .colab-df-container {\n",
              "      display:flex;\n",
              "      flex-wrap:wrap;\n",
              "      gap: 12px;\n",
              "    }\n",
              "\n",
              "    .colab-df-convert {\n",
              "      background-color: #E8F0FE;\n",
              "      border: none;\n",
              "      border-radius: 50%;\n",
              "      cursor: pointer;\n",
              "      display: none;\n",
              "      fill: #1967D2;\n",
              "      height: 32px;\n",
              "      padding: 0 0 0 0;\n",
              "      width: 32px;\n",
              "    }\n",
              "\n",
              "    .colab-df-convert:hover {\n",
              "      background-color: #E2EBFA;\n",
              "      box-shadow: 0px 1px 2px rgba(60, 64, 67, 0.3), 0px 1px 3px 1px rgba(60, 64, 67, 0.15);\n",
              "      fill: #174EA6;\n",
              "    }\n",
              "\n",
              "    [theme=dark] .colab-df-convert {\n",
              "      background-color: #3B4455;\n",
              "      fill: #D2E3FC;\n",
              "    }\n",
              "\n",
              "    [theme=dark] .colab-df-convert:hover {\n",
              "      background-color: #434B5C;\n",
              "      box-shadow: 0px 1px 3px 1px rgba(0, 0, 0, 0.15);\n",
              "      filter: drop-shadow(0px 1px 2px rgba(0, 0, 0, 0.3));\n",
              "      fill: #FFFFFF;\n",
              "    }\n",
              "  </style>\n",
              "\n",
              "      <script>\n",
              "        const buttonEl =\n",
              "          document.querySelector('#df-0accd34f-8cc4-40d0-bd86-70aa15a59e69 button.colab-df-convert');\n",
              "        buttonEl.style.display =\n",
              "          google.colab.kernel.accessAllowed ? 'block' : 'none';\n",
              "\n",
              "        async function convertToInteractive(key) {\n",
              "          const element = document.querySelector('#df-0accd34f-8cc4-40d0-bd86-70aa15a59e69');\n",
              "          const dataTable =\n",
              "            await google.colab.kernel.invokeFunction('convertToInteractive',\n",
              "                                                     [key], {});\n",
              "          if (!dataTable) return;\n",
              "\n",
              "          const docLinkHtml = 'Like what you see? Visit the ' +\n",
              "            '<a target=\"_blank\" href=https://colab.research.google.com/notebooks/data_table.ipynb>data table notebook</a>'\n",
              "            + ' to learn more about interactive tables.';\n",
              "          element.innerHTML = '';\n",
              "          dataTable['output_type'] = 'display_data';\n",
              "          await google.colab.output.renderOutput(dataTable, element);\n",
              "          const docLink = document.createElement('div');\n",
              "          docLink.innerHTML = docLinkHtml;\n",
              "          element.appendChild(docLink);\n",
              "        }\n",
              "      </script>\n",
              "    </div>\n",
              "  </div>\n",
              "  "
            ]
          },
          "metadata": {},
          "execution_count": 19
        }
      ]
    },
    {
      "cell_type": "code",
      "source": [
        "# Pisahkan fitur\n",
        "features = ['Overall Life', 'Male Life', 'Female Life']"
      ],
      "metadata": {
        "id": "NBXE4sSy-hrQ"
      },
      "execution_count": null,
      "outputs": []
    },
    {
      "cell_type": "code",
      "source": [
        "# Buat variabel X berisi data numerik yang akan digunakan\n",
        "X = df2[features].values\n",
        "print(X)\n",
        "\n",
        "# Normalisasi data menggunakan z-score\n",
        "X = (X - np.mean(X, axis=0)) / np.std(X, axis=0)"
      ],
      "metadata": {
        "id": "GHZW-Vie-nkY",
        "colab": {
          "base_uri": "https://localhost:8080/"
        },
        "outputId": "342db64b-563a-45f1-bdbf-32f40960b446"
      },
      "execution_count": null,
      "outputs": [
        {
          "output_type": "stream",
          "name": "stdout",
          "text": [
            "[[89.5 85.6 93.5]\n",
            " [85.  81.7 88.5]\n",
            " [85.  82.3 87.8]\n",
            " [83.3 80.7 86.1]\n",
            " [83.  80.9 85.3]\n",
            " [82.9 80.3 85.8]\n",
            " [82.8 80.6 85.1]\n",
            " [82.6 80.3 85. ]\n",
            " [82.5 79.9 85.4]\n",
            " [82.4 80.6 84.4]\n",
            " [82.4 79.3 85.8]\n",
            " [82.3 79.8 84.9]\n",
            " [82.2 79.8 84.8]\n",
            " [82.2 79.6 85. ]\n",
            " [82.1 80.2 84.1]\n",
            " [81.9 79.2 84.6]\n",
            " [81.9 79.4 84.5]\n",
            " [81.9 79.7 84.6]\n",
            " [81.8 78.7 85.1]\n",
            " [81.8 79.8 83.9]\n",
            " [81.7 78.7 84.9]\n",
            " [81.5 78.9 84.3]\n",
            " [81.4 78.8 84.1]\n",
            " [81.3 78.1 84.5]\n",
            " [81.3 79.2 83.6]\n",
            " [81.2 78.5 84. ]\n",
            " [81.2 79.5 83. ]\n",
            " [81.2 79.1 83.3]\n",
            " [81.  78.4 83.7]\n",
            " [80.9 77.9 84. ]\n",
            " [80.8 78.5 83.2]\n",
            " [80.7 78.4 83.1]\n",
            " [80.7 78.5 83. ]\n",
            " [80.5 77.9 83.3]\n",
            " [80.5 78.2 83. ]\n",
            " [80.4 77.8 83.1]\n",
            " [80.4 78.  82.8]\n",
            " [80.2 77.4 83.2]\n",
            " [80.1 77.  83.5]\n",
            " [80.  77.  83.2]\n",
            " [79.8 77.1 82.7]\n",
            " [79.8 77.5 82.1]\n",
            " [79.7 76.7 82.8]\n",
            " [79.5 76.6 82.6]\n",
            " [79.4 77.  82. ]\n",
            " [79.4 76.6 82.5]\n",
            " [79.4 75.8 83.1]\n",
            " [79.3 76.1 82.8]\n",
            " [78.9 76.7 81.1]\n",
            " [78.8 75.7 81.9]\n",
            " [78.7 76.4 81.1]\n",
            " [78.7 75.8 81.6]\n",
            " [78.7 76.7 80.8]\n",
            " [78.6 77.2 80.1]\n",
            " [78.6 75.9 81.4]\n",
            " [78.6 75.7 81.8]\n",
            " [78.6 75.8 81.6]\n",
            " [78.3 75.7 81.2]\n",
            " [78.2 74.6 82. ]\n",
            " [78.1 75.9 80.5]\n",
            " [78.1 75.8 80.6]\n",
            " [78.  76.6 79.4]\n",
            " [78.  75.3 80.8]\n",
            " [77.9 75.6 79.6]\n",
            " [77.8 75.  80.7]\n",
            " [77.7 73.7 81.9]\n",
            " [77.6 76.3 78.9]\n",
            " [77.6 73.7 81.7]\n",
            " [77.5 74.8 80.2]\n",
            " [77.2 74.8 79.6]\n",
            " [77.2 74.9 79.6]\n",
            " [77.2 74.5 80. ]\n",
            " [77.2 74.1 80.5]\n",
            " [77.1 74.  80.4]\n",
            " [77.1 73.5 80.9]\n",
            " [77.  74.  80.1]\n",
            " [76.9 73.8 80.1]\n",
            " [76.8 75.5 78.2]\n",
            " [76.8 73.7 79.9]\n",
            " [76.8 73.8 79.9]\n",
            " [76.8 73.3 80.4]\n",
            " [76.7 73.7 80. ]\n",
            " [76.7 71.9 81.7]\n",
            " [76.5 74.4 78.8]\n",
            " [76.5 74.7 78.3]\n",
            " [76.2 72.1 80.6]\n",
            " [76.2 73.6 79. ]\n",
            " [76.2 74.7 77.8]\n",
            " [76.1 74.  78.4]\n",
            " [75.9 72.7 79.2]\n",
            " [75.9 72.2 79.8]\n",
            " [75.9 73.1 78.8]\n",
            " [75.8 73.  78.8]\n",
            " [75.8 72.7 78.9]\n",
            " [75.7 72.6 79. ]\n",
            " [75.7 73.3 78.2]\n",
            " [75.6 73.3 78. ]\n",
            " [75.6 72.2 79.2]\n",
            " [75.5 73.5 77.5]\n",
            " [75.5 73.5 77.9]\n",
            " [75.5 72.6 78.5]\n",
            " [75.4 72.4 78.5]\n",
            " [75.3 73.  77.7]\n",
            " [75.3 73.3 77.4]\n",
            " [75.3 73.2 77.4]\n",
            " [75.3 72.7 78.1]\n",
            " [75.1 71.7 78.8]\n",
            " [75.  72.2 78. ]\n",
            " [75.  73.  77.1]\n",
            " [74.9 72.6 77.2]\n",
            " [74.9 69.5 80.6]\n",
            " [74.9 72.5 77.4]\n",
            " [74.8 72.5 77.3]\n",
            " [74.7 71.4 78.1]\n",
            " [74.7 70.2 79.4]\n",
            " [74.7 71.5 78. ]\n",
            " [74.6 71.4 78.3]\n",
            " [74.6 73.2 76.1]\n",
            " [74.5 71.2 78. ]\n",
            " [74.5 69.9 79.3]\n",
            " [74.4 75.8 72.9]\n",
            " [74.3 71.7 77.1]\n",
            " [73.9 72.3 75.7]\n",
            " [73.8 70.2 77.5]\n",
            " [73.8 70.7 77. ]\n",
            " [73.7 71.7 75.9]\n",
            " [73.7 70.8 76.8]\n",
            " [73.6 72.  75.3]\n",
            " [73.4 71.8 75.1]\n",
            " [73.4 70.9 76.2]\n",
            " [73.2 71.  75.4]\n",
            " [73.2 71.1 75.5]\n",
            " [73.1 70.9 75.4]\n",
            " [73.1 69.9 76.5]\n",
            " [72.9 70.8 75. ]\n",
            " [72.9 69.9 75.9]\n",
            " [72.7 67.2 78.6]\n",
            " [72.7 71.4 74.2]\n",
            " [72.7 70.  75.5]\n",
            " [72.7 67.3 69.8]\n",
            " [72.5 69.5 75.8]\n",
            " [72.4 69.7 75.2]\n",
            " [72.4 70.  74.8]\n",
            " [72.3 70.3 74.4]\n",
            " [72.2 69.8 74.8]\n",
            " [72.1 69.8 74.5]\n",
            " [71.8 67.1 76.9]\n",
            " [71.4 69.8 73.1]\n",
            " [71.1 69.5 72.8]\n",
            " [70.8 65.6 75.7]\n",
            " [70.7 66.5 75.1]\n",
            " [70.7 66.9 74.8]\n",
            " [70.7 70.1 71.3]\n",
            " [70.4 66.6 74.5]\n",
            " [70.3 64.3 76.4]\n",
            " [70.1 69.1 71.1]\n",
            " [70.1 67.1 73.3]\n",
            " [69.6 65.4 74.1]\n",
            " [69.2 66.4 72.1]\n",
            " [69.2 65.7 72.9]\n",
            " [68.7 67.2 70.4]\n",
            " [68.5 67.3 69.8]\n",
            " [68.4 65.4 71.5]\n",
            " [68.1 66.5 69.7]\n",
            " [67.7 65.8 69.8]\n",
            " [67.7 64.6 71. ]\n",
            " [67.2 65.  69.5]\n",
            " [67.1 63.  70.5]\n",
            " [66.6 64.2 69.2]\n",
            " [66.6 64.1 69.1]\n",
            " [66.5 64.3 68.8]\n",
            " [66.2 63.7 68.8]\n",
            " [65.9 64.4 67.4]\n",
            " [65.5 63.4 67.8]\n",
            " [65.  62.3 69.7]\n",
            " [64.9 62.4 67.5]\n",
            " [64.9 63.6 66.3]\n",
            " [64.9 62.5 67.3]\n",
            " [64.5 62.  67.1]\n",
            " [64.3 62.2 66.4]\n",
            " [64.2 61.9 66.6]\n",
            " [64.2 63.1 65.4]\n",
            " [64.1 62.  66.3]\n",
            " [64.  62.6 65.5]\n",
            " [63.8 61.2 66.4]\n",
            " [63.6 62.1 65.1]\n",
            " [63.2 60.7 65.8]\n",
            " [63.1 61.6 64.6]\n",
            " [63.  60.7 65.4]\n",
            " [63.  60.7 65.4]\n",
            " [62.2 59.8 64.7]\n",
            " [62.2 60.8 63.6]\n",
            " [61.9 60.5 63.3]\n",
            " [61.7 59.7 63.8]\n",
            " [61.2 59.2 63.2]\n",
            " [60.6 59.  62.2]\n",
            " [60.5 58.8 62.3]\n",
            " [60.1 58.5 61.7]\n",
            " [59.3 58.1 60.6]\n",
            " [59.  57.3 60.8]\n",
            " [58.7 57.5 59.9]\n",
            " [58.5 57.1 59.9]\n",
            " [58.2 55.6 60.9]\n",
            " [58.  57.3 58.7]\n",
            " [57.3 55.8 58.9]\n",
            " [56.  54.8 57.2]\n",
            " [55.8 53.9 57.7]\n",
            " [55.5 53.4 57.6]\n",
            " [55.5 54.3 56.8]\n",
            " [55.4 54.  56.9]\n",
            " [54.5 56.3 52.6]\n",
            " [53.4 52.4 54.5]\n",
            " [53.3 52.6 54.1]\n",
            " [53.  52.9 53.1]\n",
            " [52.5 50.8 54.1]\n",
            " [52.4 50.3 54.5]\n",
            " [52.3 51.  53.7]\n",
            " [52.1 51.6 52.5]\n",
            " [51.6 52.2 51. ]\n",
            " [51.3 49.9 52.7]\n",
            " [50.6 48.6 52.7]\n",
            " [50.2 49.  51.3]]\n"
          ]
        }
      ]
    },
    {
      "cell_type": "markdown",
      "source": [
        "### Modelling"
      ],
      "metadata": {
        "id": "WTF1yUy9_LgK"
      }
    },
    {
      "cell_type": "markdown",
      "source": [
        "##### Preprocessing Data"
      ],
      "metadata": {
        "id": "SXuVfN64cXtG"
      }
    },
    {
      "cell_type": "code",
      "source": [
        "df2.columns"
      ],
      "metadata": {
        "colab": {
          "base_uri": "https://localhost:8080/"
        },
        "id": "mTcl5XawcbWP",
        "outputId": "31a72ea2-be55-4fdd-e44d-0aa4f4b6a0cf"
      },
      "execution_count": null,
      "outputs": [
        {
          "output_type": "execute_result",
          "data": {
            "text/plain": [
              "Index(['Country', 'Overall Life', 'Male Life', 'Female Life', 'Continent'], dtype='object')"
            ]
          },
          "metadata": {},
          "execution_count": 27
        }
      ]
    },
    {
      "cell_type": "code",
      "source": [
        "df2.sample()"
      ],
      "metadata": {
        "colab": {
          "base_uri": "https://localhost:8080/",
          "height": 81
        },
        "id": "p2UmldN5c35x",
        "outputId": "4b156847-2402-45d6-bf4b-8dbdf8b0a7fc"
      },
      "execution_count": null,
      "outputs": [
        {
          "output_type": "execute_result",
          "data": {
            "text/plain": [
              "    Country  Overall Life  Male Life  Female Life Continent\n",
              "198  Rwanda          60.1       58.5         61.7    Africa"
            ],
            "text/html": [
              "\n",
              "  <div id=\"df-1d409cd2-22da-4fc8-b5fa-1202e4bf6b37\">\n",
              "    <div class=\"colab-df-container\">\n",
              "      <div>\n",
              "<style scoped>\n",
              "    .dataframe tbody tr th:only-of-type {\n",
              "        vertical-align: middle;\n",
              "    }\n",
              "\n",
              "    .dataframe tbody tr th {\n",
              "        vertical-align: top;\n",
              "    }\n",
              "\n",
              "    .dataframe thead th {\n",
              "        text-align: right;\n",
              "    }\n",
              "</style>\n",
              "<table border=\"1\" class=\"dataframe\">\n",
              "  <thead>\n",
              "    <tr style=\"text-align: right;\">\n",
              "      <th></th>\n",
              "      <th>Country</th>\n",
              "      <th>Overall Life</th>\n",
              "      <th>Male Life</th>\n",
              "      <th>Female Life</th>\n",
              "      <th>Continent</th>\n",
              "    </tr>\n",
              "  </thead>\n",
              "  <tbody>\n",
              "    <tr>\n",
              "      <th>198</th>\n",
              "      <td>Rwanda</td>\n",
              "      <td>60.1</td>\n",
              "      <td>58.5</td>\n",
              "      <td>61.7</td>\n",
              "      <td>Africa</td>\n",
              "    </tr>\n",
              "  </tbody>\n",
              "</table>\n",
              "</div>\n",
              "      <button class=\"colab-df-convert\" onclick=\"convertToInteractive('df-1d409cd2-22da-4fc8-b5fa-1202e4bf6b37')\"\n",
              "              title=\"Convert this dataframe to an interactive table.\"\n",
              "              style=\"display:none;\">\n",
              "        \n",
              "  <svg xmlns=\"http://www.w3.org/2000/svg\" height=\"24px\"viewBox=\"0 0 24 24\"\n",
              "       width=\"24px\">\n",
              "    <path d=\"M0 0h24v24H0V0z\" fill=\"none\"/>\n",
              "    <path d=\"M18.56 5.44l.94 2.06.94-2.06 2.06-.94-2.06-.94-.94-2.06-.94 2.06-2.06.94zm-11 1L8.5 8.5l.94-2.06 2.06-.94-2.06-.94L8.5 2.5l-.94 2.06-2.06.94zm10 10l.94 2.06.94-2.06 2.06-.94-2.06-.94-.94-2.06-.94 2.06-2.06.94z\"/><path d=\"M17.41 7.96l-1.37-1.37c-.4-.4-.92-.59-1.43-.59-.52 0-1.04.2-1.43.59L10.3 9.45l-7.72 7.72c-.78.78-.78 2.05 0 2.83L4 21.41c.39.39.9.59 1.41.59.51 0 1.02-.2 1.41-.59l7.78-7.78 2.81-2.81c.8-.78.8-2.07 0-2.86zM5.41 20L4 18.59l7.72-7.72 1.47 1.35L5.41 20z\"/>\n",
              "  </svg>\n",
              "      </button>\n",
              "      \n",
              "  <style>\n",
              "    .colab-df-container {\n",
              "      display:flex;\n",
              "      flex-wrap:wrap;\n",
              "      gap: 12px;\n",
              "    }\n",
              "\n",
              "    .colab-df-convert {\n",
              "      background-color: #E8F0FE;\n",
              "      border: none;\n",
              "      border-radius: 50%;\n",
              "      cursor: pointer;\n",
              "      display: none;\n",
              "      fill: #1967D2;\n",
              "      height: 32px;\n",
              "      padding: 0 0 0 0;\n",
              "      width: 32px;\n",
              "    }\n",
              "\n",
              "    .colab-df-convert:hover {\n",
              "      background-color: #E2EBFA;\n",
              "      box-shadow: 0px 1px 2px rgba(60, 64, 67, 0.3), 0px 1px 3px 1px rgba(60, 64, 67, 0.15);\n",
              "      fill: #174EA6;\n",
              "    }\n",
              "\n",
              "    [theme=dark] .colab-df-convert {\n",
              "      background-color: #3B4455;\n",
              "      fill: #D2E3FC;\n",
              "    }\n",
              "\n",
              "    [theme=dark] .colab-df-convert:hover {\n",
              "      background-color: #434B5C;\n",
              "      box-shadow: 0px 1px 3px 1px rgba(0, 0, 0, 0.15);\n",
              "      filter: drop-shadow(0px 1px 2px rgba(0, 0, 0, 0.3));\n",
              "      fill: #FFFFFF;\n",
              "    }\n",
              "  </style>\n",
              "\n",
              "      <script>\n",
              "        const buttonEl =\n",
              "          document.querySelector('#df-1d409cd2-22da-4fc8-b5fa-1202e4bf6b37 button.colab-df-convert');\n",
              "        buttonEl.style.display =\n",
              "          google.colab.kernel.accessAllowed ? 'block' : 'none';\n",
              "\n",
              "        async function convertToInteractive(key) {\n",
              "          const element = document.querySelector('#df-1d409cd2-22da-4fc8-b5fa-1202e4bf6b37');\n",
              "          const dataTable =\n",
              "            await google.colab.kernel.invokeFunction('convertToInteractive',\n",
              "                                                     [key], {});\n",
              "          if (!dataTable) return;\n",
              "\n",
              "          const docLinkHtml = 'Like what you see? Visit the ' +\n",
              "            '<a target=\"_blank\" href=https://colab.research.google.com/notebooks/data_table.ipynb>data table notebook</a>'\n",
              "            + ' to learn more about interactive tables.';\n",
              "          element.innerHTML = '';\n",
              "          dataTable['output_type'] = 'display_data';\n",
              "          await google.colab.output.renderOutput(dataTable, element);\n",
              "          const docLink = document.createElement('div');\n",
              "          docLink.innerHTML = docLinkHtml;\n",
              "          element.appendChild(docLink);\n",
              "        }\n",
              "      </script>\n",
              "    </div>\n",
              "  </div>\n",
              "  "
            ]
          },
          "metadata": {},
          "execution_count": 28
        }
      ]
    },
    {
      "cell_type": "code",
      "source": [
        "def kmeans(X, k, max_iterations=100):\n",
        "    # Initialize centroids randomly\n",
        "    centroids = X[np.random.choice(len(X), k, replace=False)]\n",
        "    \n",
        "    for i in range(max_iterations):\n",
        "        # Assign labels based on closest centroid\n",
        "        distances = np.sqrt(((X - centroids[:, np.newaxis])**2).sum(axis=2))\n",
        "        labels = np.argmin(distances, axis=0)\n",
        "        \n",
        "        # Update centroids based on mean of points in each cluster\n",
        "        for j in range(k):\n",
        "            centroids[j] = X[labels == j].mean(axis=0)\n",
        "    \n",
        "    return centroids, labels\n",
        "\n",
        "# Define the function to compute SSE\n",
        "def compute_sse(X, centroids, labels):\n",
        "    sse = 0\n",
        "    for i in range(len(X)):\n",
        "        centroid = centroids[labels[i]]\n",
        "        sse += np.sum((X[i] - centroid) ** 2)\n",
        "    return sse"
      ],
      "metadata": {
        "id": "67wTL7ZW_Cur"
      },
      "execution_count": null,
      "outputs": []
    },
    {
      "cell_type": "code",
      "source": [
        "# Calculate SSE for different numbers of clusters\n",
        "sse = []\n",
        "for k in range(1, 6):\n",
        "    centroids, labels = kmeans(X, k)\n",
        "    sse.append(compute_sse(X, centroids, labels))\n",
        "\n",
        "# Plot SSE vs number of clusters\n",
        "plt.plot(range(1, 6), sse, marker='o')\n",
        "plt.xlabel('Number of clusters')\n",
        "plt.ylabel('SSE')\n",
        "plt.title('Elbow Method')\n",
        "plt.show()"
      ],
      "metadata": {
        "id": "WKaX4aR0_e-n",
        "outputId": "4d754b28-d835-45d8-bc72-6c0c272f9f45",
        "colab": {
          "base_uri": "https://localhost:8080/",
          "height": 472
        }
      },
      "execution_count": null,
      "outputs": [
        {
          "output_type": "display_data",
          "data": {
            "text/plain": [
              "<Figure size 640x480 with 1 Axes>"
            ],
            "image/png": "[encoded data removed]"
          },
          "metadata": {}
        }
      ]
    },
    {
      "cell_type": "code",
      "source": [
        "k = 3"
      ],
      "metadata": {
        "id": "GrN4hO1Z_k8c"
      },
      "execution_count": null,
      "outputs": []
    },
    {
      "cell_type": "code",
      "source": [
        "#jalankan K-means\n",
        "centroids, labels = kmeans(X, k)"
      ],
      "metadata": {
        "id": "NJupM0v2_mQm"
      },
      "execution_count": null,
      "outputs": []
    },
    {
      "cell_type": "code",
      "source": [
        "Kmeans = kmeans(X, k)\n",
        "df2['Cluster'] = labels"
      ],
      "metadata": {
        "id": "HW6VyCBM_tUY"
      },
      "execution_count": null,
      "outputs": []
    },
    {
      "cell_type": "code",
      "source": [
        "# Plot the data points and centroids\n",
        "colors = ['r', 'g', 'b','y']\n",
        "for i in range(k):\n",
        "    plt.scatter(X[labels == i, 0], X[labels == i, 1], color=colors[i])\n",
        "plt.scatter(centroids[:, 0], centroids[:, 1], marker='*', s=200, color='black', label=\"Centroids\")\n",
        "plt.title('Clusters of Life Expectancy')\n",
        "plt.xlabel('Overall Life Expectancy')\n",
        "plt.ylabel('Male Life Expectancy')\n",
        "plt.legend()\n",
        "plt.show()"
      ],
      "metadata": {
        "id": "1cwlrcEQ_w29",
        "outputId": "298801c3-6563-435c-c8b9-8190f09a6f74",
        "colab": {
          "base_uri": "https://localhost:8080/",
          "height": 472
        }
      },
      "execution_count": null,
      "outputs": [
        {
          "output_type": "display_data",
          "data": {
            "text/plain": [
              "<Figure size 640x480 with 1 Axes>"
            ],
            "image/png": "[encoded data removed]"
          },
          "metadata": {}
        }
      ]
    },
    {
      "cell_type": "code",
      "source": [
        "cluster1 = df2[df2['Cluster'] == 0]\n",
        "cluster2 = df2[df2['Cluster'] == 1]\n",
        "cluster3 = df2[df2['Cluster'] == 2]"
      ],
      "metadata": {
        "id": "IRdrLYvyMO4m"
      },
      "execution_count": null,
      "outputs": []
    },
    {
      "cell_type": "markdown",
      "source": [
        "Baris tersebut merupakan baris untuk menampung setiap baris data ke dalam kluster yang sesuai, dan baris hasil kluster tersebut akan disimpan dalam sebuah variabel."
      ],
      "metadata": {
        "id": "sSjFRTRkMkna"
      }
    },
    {
      "cell_type": "code",
      "source": [
        "def plot_cluster(cluster_df):\n",
        "    cols = ['Overall Life', 'Male Life', 'Female Life']\n",
        "    num_rows = len(cols) + 1  # tambahkan satu baris untuk countplot day dan quarter\n",
        "    fig, ax = plt.subplots(nrows=num_rows, ncols=2, figsize=(15, 5*num_rows))\n",
        "    \n",
        "    # plot untuk setiap kolom numerik\n",
        "    for i, col in enumerate(cols):\n",
        "        row = i\n",
        "        col_idx = 0\n",
        "        sns.histplot(data=cluster_df, x=col, ax=ax[row][col_idx], kde=True)\n",
        "        col_idx = 1\n",
        "        sns.boxplot(data=cluster_df, x=col, ax=ax[row][col_idx])\n",
        "    \n",
        "    # plot untuk countplot day dan quarter\n",
        "    row = num_rows - 1\n",
        "    col_idx = 0\n",
        "    sns.countplot(data=cluster_df, x='Continent', ax=ax[row][col_idx])\n",
        "    ax[row][col_idx].set_xlabel('')\n",
        "    ax[row][col_idx].set_ylabel('')"
      ],
      "metadata": {
        "id": "xN2sgNQoOkPH"
      },
      "execution_count": null,
      "outputs": []
    },
    {
      "cell_type": "markdown",
      "source": [
        "Output di atas merupakan statistik deskriptif dari ketiga kluster yang telah dihasilkan"
      ],
      "metadata": {
        "id": "UKR8iPmIomzU"
      }
    },
    {
      "cell_type": "code",
      "source": [
        "plot_cluster(cluster1)"
      ],
      "metadata": {
        "id": "yd1ium_uORjS",
        "outputId": "4f31396a-1e43-4a7d-bebc-e1a0dabb9db5",
        "colab": {
          "base_uri": "https://localhost:8080/",
          "height": 1000
        }
      },
      "execution_count": null,
      "outputs": [
        {
          "output_type": "display_data",
          "data": {
            "text/plain": [
              "<Figure size 1500x2000 with 8 Axes>"
            ],
            "image/png": "[encoded data removed]"
          },
          "metadata": {}
        }
      ]
    },
    {
      "cell_type": "code",
      "source": [
        "countclus1 = cluster1['Cluster'].count()\n",
        "countclus1"
      ],
      "metadata": {
        "colab": {
          "base_uri": "https://localhost:8080/"
        },
        "id": "uqvrlfFCpxiq",
        "outputId": "f9c140ed-c521-49aa-dd88-11f3e39a2f79"
      },
      "execution_count": null,
      "outputs": [
        {
          "output_type": "execute_result",
          "data": {
            "text/plain": [
              "87"
            ]
          },
          "metadata": {},
          "execution_count": 38
        }
      ]
    },
    {
      "cell_type": "markdown",
      "source": [
        "Karakteristik Cluster 1 :\n",
        "1. Terdapat 87 negara yang tergolong pada cluster 1 tingkat harapan hidup penduduk\n",
        "2. Cluster 1 di dominasi negara-negara dari kawasan benua Asia, ditambah dengan beberapa negara dari benua lain\n",
        "3. Angka harapan hidup penduduk di negara yang tergolong pada cluster satu cukup variatif berkisar dari 66 tahun hingga 76 tahun dengan angka rata-rata harapan hidup hingga usia 72 tahun"
      ],
      "metadata": {
        "id": "sKtsxKsRpRmH"
      }
    },
    {
      "cell_type": "code",
      "source": [
        "plot_cluster(cluster2)"
      ],
      "metadata": {
        "colab": {
          "base_uri": "https://localhost:8080/",
          "height": 1000
        },
        "id": "dJB3KYz6Li_6",
        "outputId": "5cdb546d-a209-44ce-b58b-6f68e92595d4"
      },
      "execution_count": null,
      "outputs": [
        {
          "output_type": "display_data",
          "data": {
            "text/plain": [
              "<Figure size 1500x2000 with 8 Axes>"
            ],
            "image/png": "[encoded data removed]"
          },
          "metadata": {}
        }
      ]
    },
    {
      "cell_type": "code",
      "source": [
        "countclus2 = cluster2['Cluster'].sum()\n",
        "countclus2"
      ],
      "metadata": {
        "colab": {
          "base_uri": "https://localhost:8080/"
        },
        "id": "PdzumwEpr92T",
        "outputId": "2ae3c70b-4c7e-4980-f6cd-da9c1dbac620"
      },
      "execution_count": null,
      "outputs": [
        {
          "output_type": "execute_result",
          "data": {
            "text/plain": [
              "50"
            ]
          },
          "metadata": {},
          "execution_count": 40
        }
      ]
    },
    {
      "cell_type": "markdown",
      "source": [
        "Karakteristik Cluster 2 :\n",
        "1. Terdapat 85 negara yang tergolong pada cluster 2 tingkat harapan hidup penduduk\n",
        "2. Cluster 2 di dominasi negara-negara dari kawasan benua Eropa, disusul oleh negara dari kawasan Amerika Utara dan Asia, serta ditambah dengan beberapa negara dari benua lain\n",
        "3. Angka harapan hidup penduduk di negara yang tergolong pada cluster 2 berkisar dari 76 tahun hingga 89 tahun dengan angka rata-rata harapan hidup hingga usia 79 tahun"
      ],
      "metadata": {
        "id": "p1wZWHBwsH2r"
      }
    },
    {
      "cell_type": "code",
      "source": [
        "plot_cluster(cluster3)"
      ],
      "metadata": {
        "id": "PD_UkjL4Lmfs",
        "outputId": "d0389694-e1e0-4e59-f497-0ee0432c7a3a",
        "colab": {
          "base_uri": "https://localhost:8080/",
          "height": 1000
        }
      },
      "execution_count": null,
      "outputs": [
        {
          "output_type": "display_data",
          "data": {
            "text/plain": [
              "<Figure size 1500x2000 with 8 Axes>"
            ],
            "image/png": "[encoded data removed]"
          },
          "metadata": {}
        }
      ]
    },
    {
      "cell_type": "code",
      "source": [
        "countclus3 = cluster3['Cluster'].count()\n",
        "countclus3"
      ],
      "metadata": {
        "colab": {
          "base_uri": "https://localhost:8080/"
        },
        "id": "t4au57m8sMbC",
        "outputId": "2ca4b3ae-145c-4fcb-a3fc-68773b57c38c"
      },
      "execution_count": null,
      "outputs": [
        {
          "output_type": "execute_result",
          "data": {
            "text/plain": [
              "85"
            ]
          },
          "metadata": {},
          "execution_count": 42
        }
      ]
    },
    {
      "cell_type": "markdown",
      "source": [
        "Karakteristik Cluster 3 :\n",
        "1. Terdapat 50 negara yang tergolong pada cluster 3 tingkat harapan hidup penduduk\n",
        "2. Cluster 3 di dominasi negara-negara dari kawasan benua Afrika\n",
        "3. Angka harapan hidup penduduk di negara yang tergolong pada cluster 3 berkisar dari 50 tahun hingga 65 tahun dengan angka rata-rata harapan hidup hingga usia 59 tahun"
      ],
      "metadata": {
        "id": "J37zu1el3hJS"
      }
    },
    {
      "cell_type": "code",
      "source": [
        "px.scatter_3d(df2, x='Male Life', y='Female Life', z='Overall Life', color='Cluster',color_continuous_scale=['#7a1009', '#fae319', '#00702d'])"
      ],
      "metadata": {
        "colab": {
          "base_uri": "https://localhost:8080/",
          "height": 542
        },
        "id": "st2PvRS7njhc",
        "outputId": "fd64c3c3-9d6e-4513-f9b9-cb9bb9734670"
      },
      "execution_count": null,
      "outputs": [
        {
          "output_type": "display_data",
          "data": {
            "text/html": [
              "<html>\n",
              "<head><meta charset=\"utf-8\" /></head>\n",
              "<body>\n",
              "    <div>            <script src=\"https://cdnjs.cloudflare.com/ajax/libs/mathjax/2.7.5/MathJax.js?config=TeX-AMS-MML_SVG\"></script><script type=\"text/javascript\">if (window.MathJax && window.MathJax.Hub && window.MathJax.Hub.Config) {window.MathJax.Hub.Config({SVG: {font: \"STIX-Web\"}});}</script>                <script type=\"text/javascript\">window.PlotlyConfig = {MathJaxConfig: 'local'};</script>\n",
              "        <script src=\"https://cdn.plot.ly/plotly-2.18.2.min.js\"></script>                <div id=\"74ff1ba1-616d-4885-8099-837bd9787e0f\" class=\"plotly-graph-div\" style=\"height:525px; width:100%;\"></div>            <script type=\"text/javascript\">                                    window.PLOTLYENV=window.PLOTLYENV || {};                                    if (document.getElementById(\"74ff1ba1-616d-4885-8099-837bd9787e0f\")) {                    Plotly.newPlot(                        \"74ff1ba1-616d-4885-8099-837bd9787e0f\",                        [{\"hovertemplate\":\"Male Life=%{x}<br>Female Life=%{y}<br>Overall Life=%{z}<br>Cluster=%{marker.color}<extra></extra>\",\"legendgroup\":\"\",\"marker\":{\"color\":[2,2,2,2,2,2,2,2,2,2,2,2,2,2,2,2,2,2,2,2,2,2,2,2,2,2,2,2,2,2,2,2,2,2,2,2,2,2,2,2,2,2,2,2,2,2,2,2,2,2,2,2,2,2,2,2,2,2,2,2,2,2,2,2,2,2,2,2,2,2,2,2,2,2,2,2,2,2,2,2,2,2,2,2,2,0,0,0,0,0,0,0,0,0,0,0,0,0,0,0,0,0,0,0,0,0,0,0,0,0,0,0,0,0,0,0,0,0,0,0,0,0,0,0,0,0,0,0,0,0,0,0,0,0,0,0,0,0,0,0,0,0,0,0,0,0,0,0,0,0,0,0,0,0,0,0,0,0,0,0,0,0,0,0,0,0,0,0,0,0,0,0,1,1,1,1,1,1,1,1,1,1,1,1,1,1,1,1,1,1,1,1,1,1,1,1,1,1,1,1,1,1,1,1,1,1,1,1,1,1,1,1,1,1,1,1,1,1,1,1,1,1],\"coloraxis\":\"coloraxis\",\"symbol\":\"circle\"},\"mode\":\"markers\",\"name\":\"\",\"scene\":\"scene\",\"showlegend\":false,\"x\":[85.6,81.7,82.3,80.7,80.9,80.3,80.6,80.3,79.9,80.6,79.3,79.8,79.8,79.6,80.2,79.2,79.4,79.7,78.7,79.8,78.7,78.9,78.8,78.1,79.2,78.5,79.5,79.1,78.4,77.9,78.5,78.4,78.5,77.9,78.2,77.8,78.0,77.4,77.0,77.0,77.1,77.5,76.7,76.6,77.0,76.6,75.8,76.1,76.7,75.7,76.4,75.8,76.7,77.2,75.9,75.7,75.8,75.7,74.6,75.9,75.8,76.6,75.3,75.6,75.0,73.7,76.3,73.7,74.8,74.8,74.9,74.5,74.1,74.0,73.5,74.0,73.8,75.5,73.7,73.8,73.3,73.7,71.9,74.4,74.7,72.1,73.6,74.7,74.0,72.7,72.2,73.1,73.0,72.7,72.6,73.3,73.3,72.2,73.5,73.5,72.6,72.4,73.0,73.3,73.2,72.7,71.7,72.2,73.0,72.6,69.5,72.5,72.5,71.4,70.2,71.5,71.4,73.2,71.2,69.9,75.8,71.7,72.3,70.2,70.7,71.7,70.8,72.0,71.8,70.9,71.0,71.1,70.9,69.9,70.8,69.9,67.2,71.4,70.0,67.3,69.5,69.7,70.0,70.3,69.8,69.8,67.1,69.8,69.5,65.6,66.5,66.9,70.1,66.6,64.3,69.1,67.1,65.4,66.4,65.7,67.2,67.3,65.4,66.5,65.8,64.6,65.0,63.0,64.2,64.1,64.3,63.7,64.4,63.4,62.3,62.4,63.6,62.5,62.0,62.2,61.9,63.1,62.0,62.6,61.2,62.1,60.7,61.6,60.7,60.7,59.8,60.8,60.5,59.7,59.2,59.0,58.8,58.5,58.1,57.3,57.5,57.1,55.6,57.3,55.8,54.8,53.9,53.4,54.3,54.0,56.3,52.4,52.6,52.9,50.8,50.3,51.0,51.6,52.2,49.9,48.6,49.0],\"y\":[93.5,88.5,87.8,86.1,85.3,85.8,85.1,85.0,85.4,84.4,85.8,84.9,84.8,85.0,84.1,84.6,84.5,84.6,85.1,83.9,84.9,84.3,84.1,84.5,83.6,84.0,83.0,83.3,83.7,84.0,83.2,83.1,83.0,83.3,83.0,83.1,82.8,83.2,83.5,83.2,82.7,82.1,82.8,82.6,82.0,82.5,83.1,82.8,81.1,81.9,81.1,81.6,80.8,80.1,81.4,81.8,81.6,81.2,82.0,80.5,80.6,79.4,80.8,79.6,80.7,81.9,78.9,81.7,80.2,79.6,79.6,80.0,80.5,80.4,80.9,80.1,80.1,78.2,79.9,79.9,80.4,80.0,81.7,78.8,78.3,80.6,79.0,77.8,78.4,79.2,79.8,78.8,78.8,78.9,79.0,78.2,78.0,79.2,77.5,77.9,78.5,78.5,77.7,77.4,77.4,78.1,78.8,78.0,77.1,77.2,80.6,77.4,77.3,78.1,79.4,78.0,78.3,76.1,78.0,79.3,72.9,77.1,75.7,77.5,77.0,75.9,76.8,75.3,75.1,76.2,75.4,75.5,75.4,76.5,75.0,75.9,78.6,74.2,75.5,69.8,75.8,75.2,74.8,74.4,74.8,74.5,76.9,73.1,72.8,75.7,75.1,74.8,71.3,74.5,76.4,71.1,73.3,74.1,72.1,72.9,70.4,69.8,71.5,69.7,69.8,71.0,69.5,70.5,69.2,69.1,68.8,68.8,67.4,67.8,69.7,67.5,66.3,67.3,67.1,66.4,66.6,65.4,66.3,65.5,66.4,65.1,65.8,64.6,65.4,65.4,64.7,63.6,63.3,63.8,63.2,62.2,62.3,61.7,60.6,60.8,59.9,59.9,60.9,58.7,58.9,57.2,57.7,57.6,56.8,56.9,52.6,54.5,54.1,53.1,54.1,54.5,53.7,52.5,51.0,52.7,52.7,51.3],\"z\":[89.5,85.0,85.0,83.3,83.0,82.9,82.8,82.6,82.5,82.4,82.4,82.3,82.2,82.2,82.1,81.9,81.9,81.9,81.8,81.8,81.7,81.5,81.4,81.3,81.3,81.2,81.2,81.2,81.0,80.9,80.8,80.7,80.7,80.5,80.5,80.4,80.4,80.2,80.1,80.0,79.8,79.8,79.7,79.5,79.4,79.4,79.4,79.3,78.9,78.8,78.7,78.7,78.7,78.6,78.6,78.6,78.6,78.3,78.2,78.1,78.1,78.0,78.0,77.9,77.8,77.7,77.6,77.6,77.5,77.2,77.2,77.2,77.2,77.1,77.1,77.0,76.9,76.8,76.8,76.8,76.8,76.7,76.7,76.5,76.5,76.2,76.2,76.2,76.1,75.9,75.9,75.9,75.8,75.8,75.7,75.7,75.6,75.6,75.5,75.5,75.5,75.4,75.3,75.3,75.3,75.3,75.1,75.0,75.0,74.9,74.9,74.9,74.8,74.7,74.7,74.7,74.6,74.6,74.5,74.5,74.4,74.3,73.9,73.8,73.8,73.7,73.7,73.6,73.4,73.4,73.2,73.2,73.1,73.1,72.9,72.9,72.7,72.7,72.7,72.7,72.5,72.4,72.4,72.3,72.2,72.1,71.8,71.4,71.1,70.8,70.7,70.7,70.7,70.4,70.3,70.1,70.1,69.6,69.2,69.2,68.7,68.5,68.4,68.1,67.7,67.7,67.2,67.1,66.6,66.6,66.5,66.2,65.9,65.5,65.0,64.9,64.9,64.9,64.5,64.3,64.2,64.2,64.1,64.0,63.8,63.6,63.2,63.1,63.0,63.0,62.2,62.2,61.9,61.7,61.2,60.6,60.5,60.1,59.3,59.0,58.7,58.5,58.2,58.0,57.3,56.0,55.8,55.5,55.5,55.4,54.5,53.4,53.3,53.0,52.5,52.4,52.3,52.1,51.6,51.3,50.6,50.2],\"type\":\"scatter3d\"}],                        {\"template\":{\"data\":{\"histogram2dcontour\":[{\"type\":\"histogram2dcontour\",\"colorbar\":{\"outlinewidth\":0,\"ticks\":\"\"},\"colorscale\":[[0.0,\"#0d0887\"],[0.1111111111111111,\"#46039f\"],[0.2222222222222222,\"#7201a8\"],[0.3333333333333333,\"#9c179e\"],[0.4444444444444444,\"#bd3786\"],[0.5555555555555556,\"#d8576b\"],[0.6666666666666666,\"#ed7953\"],[0.7777777777777778,\"#fb9f3a\"],[0.8888888888888888,\"#fdca26\"],[1.0,\"#f0f921\"]]}],\"choropleth\":[{\"type\":\"choropleth\",\"colorbar\":{\"outlinewidth\":0,\"ticks\":\"\"}}],\"histogram2d\":[{\"type\":\"histogram2d\",\"colorbar\":{\"outlinewidth\":0,\"ticks\":\"\"},\"colorscale\":[[0.0,\"#0d0887\"],[0.1111111111111111,\"#46039f\"],[0.2222222222222222,\"#7201a8\"],[0.3333333333333333,\"#9c179e\"],[0.4444444444444444,\"#bd3786\"],[0.5555555555555556,\"#d8576b\"],[0.6666666666666666,\"#ed7953\"],[0.7777777777777778,\"#fb9f3a\"],[0.8888888888888888,\"#fdca26\"],[1.0,\"#f0f921\"]]}],\"heatmap\":[{\"type\":\"heatmap\",\"colorbar\":{\"outlinewidth\":0,\"ticks\":\"\"},\"colorscale\":[[0.0,\"#0d0887\"],[0.1111111111111111,\"#46039f\"],[0.2222222222222222,\"#7201a8\"],[0.3333333333333333,\"#9c179e\"],[0.4444444444444444,\"#bd3786\"],[0.5555555555555556,\"#d8576b\"],[0.6666666666666666,\"#ed7953\"],[0.7777777777777778,\"#fb9f3a\"],[0.8888888888888888,\"#fdca26\"],[1.0,\"#f0f921\"]]}],\"heatmapgl\":[{\"type\":\"heatmapgl\",\"colorbar\":{\"outlinewidth\":0,\"ticks\":\"\"},\"colorscale\":[[0.0,\"#0d0887\"],[0.1111111111111111,\"#46039f\"],[0.2222222222222222,\"#7201a8\"],[0.3333333333333333,\"#9c179e\"],[0.4444444444444444,\"#bd3786\"],[0.5555555555555556,\"#d8576b\"],[0.6666666666666666,\"#ed7953\"],[0.7777777777777778,\"#fb9f3a\"],[0.8888888888888888,\"#fdca26\"],[1.0,\"#f0f921\"]]}],\"contourcarpet\":[{\"type\":\"contourcarpet\",\"colorbar\":{\"outlinewidth\":0,\"ticks\":\"\"}}],\"contour\":[{\"type\":\"contour\",\"colorbar\":{\"outlinewidth\":0,\"ticks\":\"\"},\"colorscale\":[[0.0,\"#0d0887\"],[0.1111111111111111,\"#46039f\"],[0.2222222222222222,\"#7201a8\"],[0.3333333333333333,\"#9c179e\"],[0.4444444444444444,\"#bd3786\"],[0.5555555555555556,\"#d8576b\"],[0.6666666666666666,\"#ed7953\"],[0.7777777777777778,\"#fb9f3a\"],[0.8888888888888888,\"#fdca26\"],[1.0,\"#f0f921\"]]}],\"surface\":[{\"type\":\"surface\",\"colorbar\":{\"outlinewidth\":0,\"ticks\":\"\"},\"colorscale\":[[0.0,\"#0d0887\"],[0.1111111111111111,\"#46039f\"],[0.2222222222222222,\"#7201a8\"],[0.3333333333333333,\"#9c179e\"],[0.4444444444444444,\"#bd3786\"],[0.5555555555555556,\"#d8576b\"],[0.6666666666666666,\"#ed7953\"],[0.7777777777777778,\"#fb9f3a\"],[0.8888888888888888,\"#fdca26\"],[1.0,\"#f0f921\"]]}],\"mesh3d\":[{\"type\":\"mesh3d\",\"colorbar\":{\"outlinewidth\":0,\"ticks\":\"\"}}],\"scatter\":[{\"fillpattern\":{\"fillmode\":\"overlay\",\"size\":10,\"solidity\":0.2},\"type\":\"scatter\"}],\"parcoords\":[{\"type\":\"parcoords\",\"line\":{\"colorbar\":{\"outlinewidth\":0,\"ticks\":\"\"}}}],\"scatterpolargl\":[{\"type\":\"scatterpolargl\",\"marker\":{\"colorbar\":{\"outlinewidth\":0,\"ticks\":\"\"}}}],\"bar\":[{\"error_x\":{\"color\":\"#2a3f5f\"},\"error_y\":{\"color\":\"#2a3f5f\"},\"marker\":{\"line\":{\"color\":\"#E5ECF6\",\"width\":0.5},\"pattern\":{\"fillmode\":\"overlay\",\"size\":10,\"solidity\":0.2}},\"type\":\"bar\"}],\"scattergeo\":[{\"type\":\"scattergeo\",\"marker\":{\"colorbar\":{\"outlinewidth\":0,\"ticks\":\"\"}}}],\"scatterpolar\":[{\"type\":\"scatterpolar\",\"marker\":{\"colorbar\":{\"outlinewidth\":0,\"ticks\":\"\"}}}],\"histogram\":[{\"marker\":{\"pattern\":{\"fillmode\":\"overlay\",\"size\":10,\"solidity\":0.2}},\"type\":\"histogram\"}],\"scattergl\":[{\"type\":\"scattergl\",\"marker\":{\"colorbar\":{\"outlinewidth\":0,\"ticks\":\"\"}}}],\"scatter3d\":[{\"type\":\"scatter3d\",\"line\":{\"colorbar\":{\"outlinewidth\":0,\"ticks\":\"\"}},\"marker\":{\"colorbar\":{\"outlinewidth\":0,\"ticks\":\"\"}}}],\"scattermapbox\":[{\"type\":\"scattermapbox\",\"marker\":{\"colorbar\":{\"outlinewidth\":0,\"ticks\":\"\"}}}],\"scatterternary\":[{\"type\":\"scatterternary\",\"marker\":{\"colorbar\":{\"outlinewidth\":0,\"ticks\":\"\"}}}],\"scattercarpet\":[{\"type\":\"scattercarpet\",\"marker\":{\"colorbar\":{\"outlinewidth\":0,\"ticks\":\"\"}}}],\"carpet\":[{\"aaxis\":{\"endlinecolor\":\"#2a3f5f\",\"gridcolor\":\"white\",\"linecolor\":\"white\",\"minorgridcolor\":\"white\",\"startlinecolor\":\"#2a3f5f\"},\"baxis\":{\"endlinecolor\":\"#2a3f5f\",\"gridcolor\":\"white\",\"linecolor\":\"white\",\"minorgridcolor\":\"white\",\"startlinecolor\":\"#2a3f5f\"},\"type\":\"carpet\"}],\"table\":[{\"cells\":{\"fill\":{\"color\":\"#EBF0F8\"},\"line\":{\"color\":\"white\"}},\"header\":{\"fill\":{\"color\":\"#C8D4E3\"},\"line\":{\"color\":\"white\"}},\"type\":\"table\"}],\"barpolar\":[{\"marker\":{\"line\":{\"color\":\"#E5ECF6\",\"width\":0.5},\"pattern\":{\"fillmode\":\"overlay\",\"size\":10,\"solidity\":0.2}},\"type\":\"barpolar\"}],\"pie\":[{\"automargin\":true,\"type\":\"pie\"}]},\"layout\":{\"autotypenumbers\":\"strict\",\"colorway\":[\"#636efa\",\"#EF553B\",\"#00cc96\",\"#ab63fa\",\"#FFA15A\",\"#19d3f3\",\"#FF6692\",\"#B6E880\",\"#FF97FF\",\"#FECB52\"],\"font\":{\"color\":\"#2a3f5f\"},\"hovermode\":\"closest\",\"hoverlabel\":{\"align\":\"left\"},\"paper_bgcolor\":\"white\",\"plot_bgcolor\":\"#E5ECF6\",\"polar\":{\"bgcolor\":\"#E5ECF6\",\"angularaxis\":{\"gridcolor\":\"white\",\"linecolor\":\"white\",\"ticks\":\"\"},\"radialaxis\":{\"gridcolor\":\"white\",\"linecolor\":\"white\",\"ticks\":\"\"}},\"ternary\":{\"bgcolor\":\"#E5ECF6\",\"aaxis\":{\"gridcolor\":\"white\",\"linecolor\":\"white\",\"ticks\":\"\"},\"baxis\":{\"gridcolor\":\"white\",\"linecolor\":\"white\",\"ticks\":\"\"},\"caxis\":{\"gridcolor\":\"white\",\"linecolor\":\"white\",\"ticks\":\"\"}},\"coloraxis\":{\"colorbar\":{\"outlinewidth\":0,\"ticks\":\"\"}},\"colorscale\":{\"sequential\":[[0.0,\"#0d0887\"],[0.1111111111111111,\"#46039f\"],[0.2222222222222222,\"#7201a8\"],[0.3333333333333333,\"#9c179e\"],[0.4444444444444444,\"#bd3786\"],[0.5555555555555556,\"#d8576b\"],[0.6666666666666666,\"#ed7953\"],[0.7777777777777778,\"#fb9f3a\"],[0.8888888888888888,\"#fdca26\"],[1.0,\"#f0f921\"]],\"sequentialminus\":[[0.0,\"#0d0887\"],[0.1111111111111111,\"#46039f\"],[0.2222222222222222,\"#7201a8\"],[0.3333333333333333,\"#9c179e\"],[0.4444444444444444,\"#bd3786\"],[0.5555555555555556,\"#d8576b\"],[0.6666666666666666,\"#ed7953\"],[0.7777777777777778,\"#fb9f3a\"],[0.8888888888888888,\"#fdca26\"],[1.0,\"#f0f921\"]],\"diverging\":[[0,\"#8e0152\"],[0.1,\"#c51b7d\"],[0.2,\"#de77ae\"],[0.3,\"#f1b6da\"],[0.4,\"#fde0ef\"],[0.5,\"#f7f7f7\"],[0.6,\"#e6f5d0\"],[0.7,\"#b8e186\"],[0.8,\"#7fbc41\"],[0.9,\"#4d9221\"],[1,\"#276419\"]]},\"xaxis\":{\"gridcolor\":\"white\",\"linecolor\":\"white\",\"ticks\":\"\",\"title\":{\"standoff\":15},\"zerolinecolor\":\"white\",\"automargin\":true,\"zerolinewidth\":2},\"yaxis\":{\"gridcolor\":\"white\",\"linecolor\":\"white\",\"ticks\":\"\",\"title\":{\"standoff\":15},\"zerolinecolor\":\"white\",\"automargin\":true,\"zerolinewidth\":2},\"scene\":{\"xaxis\":{\"backgroundcolor\":\"#E5ECF6\",\"gridcolor\":\"white\",\"linecolor\":\"white\",\"showbackground\":true,\"ticks\":\"\",\"zerolinecolor\":\"white\",\"gridwidth\":2},\"yaxis\":{\"backgroundcolor\":\"#E5ECF6\",\"gridcolor\":\"white\",\"linecolor\":\"white\",\"showbackground\":true,\"ticks\":\"\",\"zerolinecolor\":\"white\",\"gridwidth\":2},\"zaxis\":{\"backgroundcolor\":\"#E5ECF6\",\"gridcolor\":\"white\",\"linecolor\":\"white\",\"showbackground\":true,\"ticks\":\"\",\"zerolinecolor\":\"white\",\"gridwidth\":2}},\"shapedefaults\":{\"line\":{\"color\":\"#2a3f5f\"}},\"annotationdefaults\":{\"arrowcolor\":\"#2a3f5f\",\"arrowhead\":0,\"arrowwidth\":1},\"geo\":{\"bgcolor\":\"white\",\"landcolor\":\"#E5ECF6\",\"subunitcolor\":\"white\",\"showland\":true,\"showlakes\":true,\"lakecolor\":\"white\"},\"title\":{\"x\":0.05},\"mapbox\":{\"style\":\"light\"}}},\"scene\":{\"domain\":{\"x\":[0.0,1.0],\"y\":[0.0,1.0]},\"xaxis\":{\"title\":{\"text\":\"Male Life\"}},\"yaxis\":{\"title\":{\"text\":\"Female Life\"}},\"zaxis\":{\"title\":{\"text\":\"Overall Life\"}}},\"coloraxis\":{\"colorbar\":{\"title\":{\"text\":\"Cluster\"}},\"colorscale\":[[0.0,\"#7a1009\"],[0.5,\"#fae319\"],[1.0,\"#00702d\"]]},\"legend\":{\"tracegroupgap\":0},\"margin\":{\"t\":60}},                        {\"responsive\": true}                    ).then(function(){\n",
              "                            \n",
              "var gd = document.getElementById('74ff1ba1-616d-4885-8099-837bd9787e0f');\n",
              "var x = new MutationObserver(function (mutations, observer) {{\n",
              "        var display = window.getComputedStyle(gd).display;\n",
              "        if (!display || display === 'none') {{\n",
              "            console.log([gd, 'removed!']);\n",
              "            Plotly.purge(gd);\n",
              "            observer.disconnect();\n",
              "        }}\n",
              "}});\n",
              "\n",
              "// Listen for the removal of the full notebook cells\n",
              "var notebookContainer = gd.closest('#notebook-container');\n",
              "if (notebookContainer) {{\n",
              "    x.observe(notebookContainer, {childList: true});\n",
              "}}\n",
              "\n",
              "// Listen for the clearing of the current output cell\n",
              "var outputEl = gd.closest('.output');\n",
              "if (outputEl) {{\n",
              "    x.observe(outputEl, {childList: true});\n",
              "}}\n",
              "\n",
              "                        })                };                            </script>        </div>\n",
              "</body>\n",
              "</html>"
            ]
          },
          "metadata": {}
        }
      ]
    },
    {
      "cell_type": "markdown",
      "source": [
        "### **Evaluation**"
      ],
      "metadata": {
        "id": "3N0rK3dkLFsr"
      }
    },
    {
      "cell_type": "code",
      "source": [
        "from sklearn.metrics import silhouette_score,calinski_harabasz_score,davies_bouldin_score\n",
        "# Menghitung nilai Silhouette Score\n",
        "silhouette_avg = silhouette_score(train.drop('Cluster', axis=1), labels)\n",
        "\n",
        "# Menghitung nilai Calinski-Harabasz Index\n",
        "ch_score= calinski_harabasz_score(train.drop('Cluster', axis=1), labels)\n",
        "\n",
        "# Menghitung nilai Davies-Bouldin Index\n",
        "db_score= davies_bouldin_score(train.drop('Cluster', axis=1), labels)\n",
        "\n",
        "# Create dataframe for metrics and scores\n",
        "metrics = [\"Silhouette Score\", \"Calinski-Harabasz Score\", \"Davies-Bouldin Score\"]\n",
        "scores = [silhouette_avg, ch_score, db_score]\n",
        "df_scores = pd.DataFrame({'Metric': metrics, 'Score': scores})\n",
        "\n",
        "# reset index dataframe\n",
        "df_scores = df_scores.reset_index(drop=True)\n",
        "\n",
        "# ubah nama axis pada index dan kolom\n",
        "df_scores = df_scores.rename_axis('', axis=0).rename_axis('Metrics', axis=1)\n",
        "\n",
        "# Display dataframe as table without index column\n",
        "display(df_scores.style.hide_index())"
      ],
      "metadata": {
        "id": "DrEoaZt4DWwF",
        "outputId": "4efffd55-10cf-43e3-8379-22d0ffa9feb0",
        "colab": {
          "base_uri": "https://localhost:8080/",
          "height": 245
        }
      },
      "execution_count": null,
      "outputs": [
        {
          "output_type": "error",
          "ename": "NameError",
          "evalue": "ignored",
          "traceback": [
            "\u001b[0;31m---------------------------------------------------------------------------\u001b[0m",
            "\u001b[0;31mNameError\u001b[0m                                 Traceback (most recent call last)",
            "\u001b[0;32m<ipython-input-45-0f7be67053f9>\u001b[0m in \u001b[0;36m<cell line: 3>\u001b[0;34m()\u001b[0m\n\u001b[1;32m      1\u001b[0m \u001b[0;32mfrom\u001b[0m \u001b[0msklearn\u001b[0m\u001b[0;34m.\u001b[0m\u001b[0mmetrics\u001b[0m \u001b[0;32mimport\u001b[0m \u001b[0msilhouette_score\u001b[0m\u001b[0;34m,\u001b[0m\u001b[0mcalinski_harabasz_score\u001b[0m\u001b[0;34m,\u001b[0m\u001b[0mdavies_bouldin_score\u001b[0m\u001b[0;34m\u001b[0m\u001b[0;34m\u001b[0m\u001b[0m\n\u001b[1;32m      2\u001b[0m \u001b[0;31m# Menghitung nilai Silhouette Score\u001b[0m\u001b[0;34m\u001b[0m\u001b[0;34m\u001b[0m\u001b[0m\n\u001b[0;32m----> 3\u001b[0;31m \u001b[0msilhouette_avg\u001b[0m \u001b[0;34m=\u001b[0m \u001b[0msilhouette_score\u001b[0m\u001b[0;34m(\u001b[0m\u001b[0mtrain\u001b[0m\u001b[0;34m.\u001b[0m\u001b[0mdrop\u001b[0m\u001b[0;34m(\u001b[0m\u001b[0;34m'Cluster'\u001b[0m\u001b[0;34m,\u001b[0m \u001b[0maxis\u001b[0m\u001b[0;34m=\u001b[0m\u001b[0;36m1\u001b[0m\u001b[0;34m)\u001b[0m\u001b[0;34m,\u001b[0m \u001b[0mlabels\u001b[0m\u001b[0;34m)\u001b[0m\u001b[0;34m\u001b[0m\u001b[0;34m\u001b[0m\u001b[0m\n\u001b[0m\u001b[1;32m      4\u001b[0m \u001b[0;34m\u001b[0m\u001b[0m\n\u001b[1;32m      5\u001b[0m \u001b[0;31m# Menghitung nilai Calinski-Harabasz Index\u001b[0m\u001b[0;34m\u001b[0m\u001b[0;34m\u001b[0m\u001b[0m\n",
            "\u001b[0;31mNameError\u001b[0m: name 'train' is not defined"
          ]
        }
      ]
    },
    {
      "cell_type": "code",
      "source": [
        "df2"
      ],
      "metadata": {
        "id": "kJK4kPePqQ20",
        "colab": {
          "base_uri": "https://localhost:8080/",
          "height": 423
        },
        "outputId": "d78f6f1a-d8db-48ec-e65a-4720b6a02e91"
      },
      "execution_count": null,
      "outputs": [
        {
          "output_type": "execute_result",
          "data": {
            "text/plain": [
              "           Country  Overall Life  Male Life  Female Life Continent  Cluster\n",
              "0           Monaco          89.5       85.6         93.5    Europe        2\n",
              "1            Japan          85.0       81.7         88.5      Asia        2\n",
              "2        Singapore          85.0       82.3         87.8      Asia        2\n",
              "4       San Marino          83.3       80.7         86.1    Europe        2\n",
              "5          Iceland          83.0       80.9         85.3    Europe        2\n",
              "..             ...           ...        ...          ...       ...      ...\n",
              "218          Gabon          52.1       51.6         52.5    Africa        1\n",
              "219      Swaziland          51.6       52.2         51.0    Africa        1\n",
              "220    Afghanistan          51.3       49.9         52.7      Asia        1\n",
              "221  Guinea-Bissau          50.6       48.6         52.7    Africa        1\n",
              "222           Chad          50.2       49.0         51.3    Africa        1\n",
              "\n",
              "[222 rows x 6 columns]"
            ],
            "text/html": [
              "\n",
              "  <div id=\"df-e8bbbd05-fe94-4d03-b534-3a805fe31d51\">\n",
              "    <div class=\"colab-df-container\">\n",
              "      <div>\n",
              "<style scoped>\n",
              "    .dataframe tbody tr th:only-of-type {\n",
              "        vertical-align: middle;\n",
              "    }\n",
              "\n",
              "    .dataframe tbody tr th {\n",
              "        vertical-align: top;\n",
              "    }\n",
              "\n",
              "    .dataframe thead th {\n",
              "        text-align: right;\n",
              "    }\n",
              "</style>\n",
              "<table border=\"1\" class=\"dataframe\">\n",
              "  <thead>\n",
              "    <tr style=\"text-align: right;\">\n",
              "      <th></th>\n",
              "      <th>Country</th>\n",
              "      <th>Overall Life</th>\n",
              "      <th>Male Life</th>\n",
              "      <th>Female Life</th>\n",
              "      <th>Continent</th>\n",
              "      <th>Cluster</th>\n",
              "    </tr>\n",
              "  </thead>\n",
              "  <tbody>\n",
              "    <tr>\n",
              "      <th>0</th>\n",
              "      <td>Monaco</td>\n",
              "      <td>89.5</td>\n",
              "      <td>85.6</td>\n",
              "      <td>93.5</td>\n",
              "      <td>Europe</td>\n",
              "      <td>2</td>\n",
              "    </tr>\n",
              "    <tr>\n",
              "      <th>1</th>\n",
              "      <td>Japan</td>\n",
              "      <td>85.0</td>\n",
              "      <td>81.7</td>\n",
              "      <td>88.5</td>\n",
              "      <td>Asia</td>\n",
              "      <td>2</td>\n",
              "    </tr>\n",
              "    <tr>\n",
              "      <th>2</th>\n",
              "      <td>Singapore</td>\n",
              "      <td>85.0</td>\n",
              "      <td>82.3</td>\n",
              "      <td>87.8</td>\n",
              "      <td>Asia</td>\n",
              "      <td>2</td>\n",
              "    </tr>\n",
              "    <tr>\n",
              "      <th>4</th>\n",
              "      <td>San Marino</td>\n",
              "      <td>83.3</td>\n",
              "      <td>80.7</td>\n",
              "      <td>86.1</td>\n",
              "      <td>Europe</td>\n",
              "      <td>2</td>\n",
              "    </tr>\n",
              "    <tr>\n",
              "      <th>5</th>\n",
              "      <td>Iceland</td>\n",
              "      <td>83.0</td>\n",
              "      <td>80.9</td>\n",
              "      <td>85.3</td>\n",
              "      <td>Europe</td>\n",
              "      <td>2</td>\n",
              "    </tr>\n",
              "    <tr>\n",
              "      <th>...</th>\n",
              "      <td>...</td>\n",
              "      <td>...</td>\n",
              "      <td>...</td>\n",
              "      <td>...</td>\n",
              "      <td>...</td>\n",
              "      <td>...</td>\n",
              "    </tr>\n",
              "    <tr>\n",
              "      <th>218</th>\n",
              "      <td>Gabon</td>\n",
              "      <td>52.1</td>\n",
              "      <td>51.6</td>\n",
              "      <td>52.5</td>\n",
              "      <td>Africa</td>\n",
              "      <td>1</td>\n",
              "    </tr>\n",
              "    <tr>\n",
              "      <th>219</th>\n",
              "      <td>Swaziland</td>\n",
              "      <td>51.6</td>\n",
              "      <td>52.2</td>\n",
              "      <td>51.0</td>\n",
              "      <td>Africa</td>\n",
              "      <td>1</td>\n",
              "    </tr>\n",
              "    <tr>\n",
              "      <th>220</th>\n",
              "      <td>Afghanistan</td>\n",
              "      <td>51.3</td>\n",
              "      <td>49.9</td>\n",
              "      <td>52.7</td>\n",
              "      <td>Asia</td>\n",
              "      <td>1</td>\n",
              "    </tr>\n",
              "    <tr>\n",
              "      <th>221</th>\n",
              "      <td>Guinea-Bissau</td>\n",
              "      <td>50.6</td>\n",
              "      <td>48.6</td>\n",
              "      <td>52.7</td>\n",
              "      <td>Africa</td>\n",
              "      <td>1</td>\n",
              "    </tr>\n",
              "    <tr>\n",
              "      <th>222</th>\n",
              "      <td>Chad</td>\n",
              "      <td>50.2</td>\n",
              "      <td>49.0</td>\n",
              "      <td>51.3</td>\n",
              "      <td>Africa</td>\n",
              "      <td>1</td>\n",
              "    </tr>\n",
              "  </tbody>\n",
              "</table>\n",
              "<p>222 rows × 6 columns</p>\n",
              "</div>\n",
              "      <button class=\"colab-df-convert\" onclick=\"convertToInteractive('df-e8bbbd05-fe94-4d03-b534-3a805fe31d51')\"\n",
              "              title=\"Convert this dataframe to an interactive table.\"\n",
              "              style=\"display:none;\">\n",
              "        \n",
              "  <svg xmlns=\"http://www.w3.org/2000/svg\" height=\"24px\"viewBox=\"0 0 24 24\"\n",
              "       width=\"24px\">\n",
              "    <path d=\"M0 0h24v24H0V0z\" fill=\"none\"/>\n",
              "    <path d=\"M18.56 5.44l.94 2.06.94-2.06 2.06-.94-2.06-.94-.94-2.06-.94 2.06-2.06.94zm-11 1L8.5 8.5l.94-2.06 2.06-.94-2.06-.94L8.5 2.5l-.94 2.06-2.06.94zm10 10l.94 2.06.94-2.06 2.06-.94-2.06-.94-.94-2.06-.94 2.06-2.06.94z\"/><path d=\"M17.41 7.96l-1.37-1.37c-.4-.4-.92-.59-1.43-.59-.52 0-1.04.2-1.43.59L10.3 9.45l-7.72 7.72c-.78.78-.78 2.05 0 2.83L4 21.41c.39.39.9.59 1.41.59.51 0 1.02-.2 1.41-.59l7.78-7.78 2.81-2.81c.8-.78.8-2.07 0-2.86zM5.41 20L4 18.59l7.72-7.72 1.47 1.35L5.41 20z\"/>\n",
              "  </svg>\n",
              "      </button>\n",
              "      \n",
              "  <style>\n",
              "    .colab-df-container {\n",
              "      display:flex;\n",
              "      flex-wrap:wrap;\n",
              "      gap: 12px;\n",
              "    }\n",
              "\n",
              "    .colab-df-convert {\n",
              "      background-color: #E8F0FE;\n",
              "      border: none;\n",
              "      border-radius: 50%;\n",
              "      cursor: pointer;\n",
              "      display: none;\n",
              "      fill: #1967D2;\n",
              "      height: 32px;\n",
              "      padding: 0 0 0 0;\n",
              "      width: 32px;\n",
              "    }\n",
              "\n",
              "    .colab-df-convert:hover {\n",
              "      background-color: #E2EBFA;\n",
              "      box-shadow: 0px 1px 2px rgba(60, 64, 67, 0.3), 0px 1px 3px 1px rgba(60, 64, 67, 0.15);\n",
              "      fill: #174EA6;\n",
              "    }\n",
              "\n",
              "    [theme=dark] .colab-df-convert {\n",
              "      background-color: #3B4455;\n",
              "      fill: #D2E3FC;\n",
              "    }\n",
              "\n",
              "    [theme=dark] .colab-df-convert:hover {\n",
              "      background-color: #434B5C;\n",
              "      box-shadow: 0px 1px 3px 1px rgba(0, 0, 0, 0.15);\n",
              "      filter: drop-shadow(0px 1px 2px rgba(0, 0, 0, 0.3));\n",
              "      fill: #FFFFFF;\n",
              "    }\n",
              "  </style>\n",
              "\n",
              "      <script>\n",
              "        const buttonEl =\n",
              "          document.querySelector('#df-e8bbbd05-fe94-4d03-b534-3a805fe31d51 button.colab-df-convert');\n",
              "        buttonEl.style.display =\n",
              "          google.colab.kernel.accessAllowed ? 'block' : 'none';\n",
              "\n",
              "        async function convertToInteractive(key) {\n",
              "          const element = document.querySelector('#df-e8bbbd05-fe94-4d03-b534-3a805fe31d51');\n",
              "          const dataTable =\n",
              "            await google.colab.kernel.invokeFunction('convertToInteractive',\n",
              "                                                     [key], {});\n",
              "          if (!dataTable) return;\n",
              "\n",
              "          const docLinkHtml = 'Like what you see? Visit the ' +\n",
              "            '<a target=\"_blank\" href=https://colab.research.google.com/notebooks/data_table.ipynb>data table notebook</a>'\n",
              "            + ' to learn more about interactive tables.';\n",
              "          element.innerHTML = '';\n",
              "          dataTable['output_type'] = 'display_data';\n",
              "          await google.colab.output.renderOutput(dataTable, element);\n",
              "          const docLink = document.createElement('div');\n",
              "          docLink.innerHTML = docLinkHtml;\n",
              "          element.appendChild(docLink);\n",
              "        }\n",
              "      </script>\n",
              "    </div>\n",
              "  </div>\n",
              "  "
            ]
          },
          "metadata": {},
          "execution_count": 46
        }
      ]
    },
    {
      "cell_type": "code",
      "source": [
        "# Add cluster labels to the data\n",
        "df2['Cluster'] = labels\n",
        "\n",
        "# Analyze each cluster\n",
        "for cluster in sorted(df2['Cluster'].unique()):\n",
        "    print(f\"Cluster {cluster}:\")\n",
        "    print(df2[df2['Cluster'] == cluster].describe())"
      ],
      "metadata": {
        "id": "hcihzKYLWbDL",
        "colab": {
          "base_uri": "https://localhost:8080/"
        },
        "outputId": "dd398a16-0fe5-420b-f077-b523c2919558"
      },
      "execution_count": null,
      "outputs": [
        {
          "output_type": "stream",
          "name": "stdout",
          "text": [
            "Cluster 0:\n",
            "       Overall Life  Male Life  Female Life  Cluster\n",
            "count     87.000000  87.000000    87.000000     87.0\n",
            "mean      72.794253  70.048276    75.578161      0.0\n",
            "std        2.823216   3.042790     3.151686      0.0\n",
            "min       66.200000  63.000000    68.800000      0.0\n",
            "25%       70.750000  67.250000    74.150000      0.0\n",
            "50%       73.400000  70.800000    76.100000      0.0\n",
            "75%       75.050000  72.500000    78.000000      0.0\n",
            "max       76.200000  75.800000    80.600000      0.0\n",
            "Cluster 1:\n",
            "       Overall Life  Male Life  Female Life  Cluster\n",
            "count     50.000000   50.00000    50.000000     50.0\n",
            "mean      59.218000   57.64800    60.870000      1.0\n",
            "std        4.888875    4.51868     5.447345      0.0\n",
            "min       50.200000   48.60000    51.000000      1.0\n",
            "25%       55.425000   53.92500    56.825000      1.0\n",
            "50%       60.300000   58.65000    61.950000      1.0\n",
            "75%       63.750000   61.82500    65.475000      1.0\n",
            "max       65.900000   64.40000    69.700000      1.0\n",
            "Cluster 2:\n",
            "       Overall Life  Male Life  Female Life  Cluster\n",
            "count     85.000000  85.000000    85.000000     85.0\n",
            "mean      79.838824  77.189412    82.622353      2.0\n",
            "std        2.389814   2.493517     2.467039      0.0\n",
            "min       76.500000  71.900000    78.200000      2.0\n",
            "25%       77.900000  75.500000    80.700000      2.0\n",
            "50%       79.700000  77.000000    82.800000      2.0\n",
            "75%       81.500000  79.100000    84.100000      2.0\n",
            "max       89.500000  85.600000    93.500000      2.0\n"
          ]
        }
      ]
    },
    {
      "cell_type": "code",
      "source": [],
      "metadata": {
        "id": "MJmm_he7VVI9"
      },
      "execution_count": null,
      "outputs": []
    },
    {
      "cell_type": "markdown",
      "source": [
        "### Deployment"
      ],
      "metadata": {
        "id": "iLzES3ThLVxF"
      }
    },
    {
      "cell_type": "markdown",
      "source": [
        "Telah dilakukan analisis pada dataset life expectancy menggunakan algoritma klustering K-Means, dan membagi data yang terdapat pada dataset tersebut ke dalam 3 cluster dengan cirinya masing-masing. Setelah dilakukan evaluasi dari hasil modeling algoritma K-Means pada dataset ini menunjukkan performa yang cukup baik dengan nilai matriks Silhouette sebesar 0,494, matriks Calinski-Harabasz sebesar 585, dan matriks Davies-Bouldin sebesar 0,635. Dari proses clustering yang telah dilakukan, diperoleh ciri-ciri unik pada setiap kluster sebagai berikut:\n",
        "\n",
        "* Cluster 1 : Cluster 1 merupakan cluster tingkat harapan hidup menengah dengan rerata angka harapan hidup hingga usia 72 tahun. Cluster ini umumnya terdiri dari negara-negara berkembang dari kawasan benua Asia\n",
        "\n",
        "* Cluster 2 : Cluster 2 merupakan cluster tingkat harapan hidup paling tinggi dengan rerata angka harapan hidup hingga usia 79 tahun. Cluster ini umumnya terdiri dari negara-negara maju dari kawasan benua Eropa\n",
        "\n",
        "* Cluster 3 : Cluster 1 merupakan cluster tingkat harapan hidup paling rendah dengan rerata angka harapan hidup hingga usia 59 tahun. Cluster ini umumnya terdiri dari negara-negara berkembang dari kawasan benua Afrika\n",
        "\n",
        "Selain itu dari hasil analisis data juga dapat ditarik kesimpulan lain bahwasanya angka harapan hidup penduduk dengan jenis kelamin wanita pada suatu negara selalu lebih tinggi dibandingkan penduduk dengan jenis kelamin laki-laki.  "
      ],
      "metadata": {
        "id": "ZrweVAMyU9g3"
      }
    },
    {
      "cell_type": "code",
      "source": [
        "df2.to_csv('Unsuperviser - Deployment.csv',index = False)"
      ],
      "metadata": {
        "id": "vdoa6sJOb8Aj"
      },
      "execution_count": null,
      "outputs": []
    }
  ]
}